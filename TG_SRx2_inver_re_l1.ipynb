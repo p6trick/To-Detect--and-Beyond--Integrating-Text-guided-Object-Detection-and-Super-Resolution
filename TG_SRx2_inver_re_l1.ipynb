{
 "cells": [
  {
   "cell_type": "code",
   "execution_count": 1,
   "metadata": {},
   "outputs": [],
   "source": [
    "import cv2\n",
    "import numpy as np\n",
    "from torchvision.datasets import CocoCaptions\n",
    "import torch\n",
    "import torch.nn as nn\n",
    "import torchvision.transforms as transforms\n",
    "from torchvision.transforms.functional import resize\n",
    "import torchvision"
   ]
  },
  {
   "cell_type": "markdown",
   "metadata": {},
   "source": [
    "## Unet"
   ]
  },
  {
   "cell_type": "code",
   "execution_count": 2,
   "metadata": {},
   "outputs": [],
   "source": [
    "import Detection.GroundingDINO.groundingdino.datasets.transforms as T\n",
    "\n",
    "transform = T.Compose(\n",
    "        [\n",
    "            T.RandomResize([800], max_size=1333),\n",
    "            T.ToTensor(),\n",
    "            T.Normalize([0.485, 0.456, 0.406], [0.229, 0.224, 0.225]),\n",
    "        ]\n",
    "    )\n"
   ]
  },
  {
   "cell_type": "code",
   "execution_count": 3,
   "metadata": {},
   "outputs": [],
   "source": [
    "from torch.utils.data import Dataset\n",
    "\n",
    "\n",
    "class CustomDataset(Dataset):\n",
    "    def __init__(self,phase, transform):\n",
    "        self.phase = phase\n",
    "        \n",
    "        if phase == 'train':\n",
    "            self.dataset = CocoCaptions(root='./train2017', annFile='./annotations/captions_train2017.json')\n",
    "        else:\n",
    "            self.dataset = CocoCaptions(root='./val2017', annFile='./annotations/captions_val2017.json')\n",
    "        \n",
    "        self.transform = transform\n",
    "        \n",
    "        \n",
    "        \n",
    "    def __len__(self):\n",
    "        return len(self.dataset)\n",
    "    \n",
    "    def __getitem__(self,idx):\n",
    "        \n",
    "        org_img, caps = self.dataset[idx]\n",
    "\n",
    "        img,_ = self.transform(org_img, None)\n",
    "        \n",
    "        random_idx = torch.randint(0,len(caps), (1,))\n",
    "        \n",
    "        if self.phase == 'train':\n",
    "            return np.array(org_img), img, caps[random_idx]\n",
    "        else:\n",
    "            return np.array(org_img), img, caps[1]\n"
   ]
  },
  {
   "cell_type": "code",
   "execution_count": 4,
   "metadata": {},
   "outputs": [],
   "source": [
    "from SResolution.TG_Umodels import *\n",
    "\n",
    "def select_model(down_scale, shape):\n",
    "    if down_scale == 2:\n",
    "        model = TG_UNet2(3,3, shape)\n",
    "    elif down_scale == 4:\n",
    "        model = TG_UNet4(3,3, shape)\n",
    "    elif down_scale == 8:\n",
    "        model = TG_UNet8x2(3,3, shape)\n",
    "\n",
    "    return model"
   ]
  },
  {
   "cell_type": "code",
   "execution_count": 5,
   "metadata": {},
   "outputs": [],
   "source": [
    "class VGGPerceptualLoss(torch.nn.Module):\n",
    "    def __init__(self, resize=True):\n",
    "        super(VGGPerceptualLoss, self).__init__()\n",
    "        blocks = []\n",
    "        blocks.append(torchvision.models.vgg16(pretrained=True).features[:4].eval())\n",
    "        blocks.append(torchvision.models.vgg16(pretrained=True).features[4:9].eval())\n",
    "        blocks.append(torchvision.models.vgg16(pretrained=True).features[9:16].eval())\n",
    "        blocks.append(torchvision.models.vgg16(pretrained=True).features[16:23].eval())\n",
    "        for bl in blocks:\n",
    "            for p in bl.parameters():\n",
    "                p.requires_grad = False\n",
    "        self.blocks = torch.nn.ModuleList(blocks)\n",
    "        self.transform = torch.nn.functional.interpolate\n",
    "        self.resize = resize\n",
    "        self.register_buffer(\"mean\", torch.tensor([0.485, 0.456, 0.406]).view(1, 3, 1, 1))\n",
    "        self.register_buffer(\"std\", torch.tensor([0.229, 0.224, 0.225]).view(1, 3, 1, 1))\n",
    "\n",
    "    def forward(self, input, target, feature_layers=[0, 1, 2, 3], style_layers=[]):\n",
    "        if input.shape[1] != 3:\n",
    "            input = input.repeat(1, 3, 1, 1)\n",
    "            target = target.repeat(1, 3, 1, 1)\n",
    "        input = (input-self.mean) / self.std\n",
    "        target = (target-self.mean) / self.std\n",
    "        if self.resize:\n",
    "            input = self.transform(input, mode='bilinear', size=(224, 224), align_corners=False)\n",
    "            target = self.transform(target, mode='bilinear', size=(224, 224), align_corners=False)\n",
    "        loss = 0.0\n",
    "        x = input\n",
    "        y = target\n",
    "        for i, block in enumerate(self.blocks):\n",
    "            x = block(x)\n",
    "            y = block(y)\n",
    "            if i in feature_layers:\n",
    "                loss += torch.nn.functional.l1_loss(x, y)\n",
    "            if i in style_layers:\n",
    "                act_x = x.reshape(x.shape[0], x.shape[1], -1)\n",
    "                act_y = y.reshape(y.shape[0], y.shape[1], -1)\n",
    "                gram_x = act_x @ act_x.permute(0, 2, 1)\n",
    "                gram_y = act_y @ act_y.permute(0, 2, 1)\n",
    "                loss += torch.nn.functional.l1_loss(gram_x, gram_y)\n",
    "        return loss"
   ]
  },
  {
   "cell_type": "code",
   "execution_count": 6,
   "metadata": {},
   "outputs": [
    {
     "name": "stderr",
     "output_type": "stream",
     "text": [
      "c:\\Users\\juniy\\anaconda3\\envs\\torch\\lib\\site-packages\\torchvision\\models\\_utils.py:208: UserWarning: The parameter 'pretrained' is deprecated since 0.13 and may be removed in the future, please use 'weights' instead.\n",
      "  warnings.warn(\n",
      "c:\\Users\\juniy\\anaconda3\\envs\\torch\\lib\\site-packages\\torchvision\\models\\_utils.py:223: UserWarning: Arguments other than a weight enum or `None` for 'weights' are deprecated since 0.13 and may be removed in the future. The current behavior is equivalent to passing `weights=VGG16_Weights.IMAGENET1K_V1`. You can also use `weights=VGG16_Weights.DEFAULT` to get the most up-to-date weights.\n",
      "  warnings.warn(msg)\n"
     ]
    },
    {
     "name": "stdout",
     "output_type": "stream",
     "text": [
      "cuda:0\n"
     ]
    }
   ],
   "source": [
    "\n",
    "\n",
    "down_scale = 8\n",
    "input_shape = (128,128)\n",
    "model = select_model(down_scale,input_shape)\n",
    "patience = 5\n",
    "L2 = nn.MSELoss()\n",
    "L1 = nn.L1Loss()\n",
    "per_loss = VGGPerceptualLoss()\n",
    "lam = 0.6\n",
    "epochs = 200\n",
    "lr = 1e-4\n",
    "optimizer = torch.optim.AdamW(model.parameters(), lr=lr)\n",
    "device = 'cuda:0' if torch.cuda.is_available() else 'cpu'\n",
    "per_loss = per_loss.to(device)\n",
    "\n",
    "\n",
    "print(device)\n"
   ]
  },
  {
   "cell_type": "code",
   "execution_count": 7,
   "metadata": {},
   "outputs": [
    {
     "name": "stdout",
     "output_type": "stream",
     "text": [
      "loading annotations into memory...\n",
      "Done (t=0.50s)\n",
      "creating index...\n",
      "index created!\n",
      "loading annotations into memory...\n",
      "Done (t=0.03s)\n",
      "creating index...\n",
      "index created!\n"
     ]
    }
   ],
   "source": [
    "from torch.utils.data import DataLoader\n",
    "from torch.utils.data import RandomSampler, DataLoader, Subset\n",
    "\n",
    "trainDataset = CustomDataset('train', transform)\n",
    "\n",
    "num_train_samples = 1000\n",
    "sample_ds = Subset(trainDataset, np.arange(num_train_samples))\n",
    "sample_sampler = RandomSampler(sample_ds)\n",
    "# sample_dl = DataLoader(sample_ds, sampler=sample_sampler, batch_size=1)\n",
    "train_dataloader = DataLoader(sample_ds, batch_size=1, shuffle=True)\n",
    "\n",
    "valDataset = CustomDataset('val', transform)\n",
    "num_train_samples = 200\n",
    "sample_ds = Subset(valDataset, np.arange(num_train_samples))\n",
    "sample_sampler = RandomSampler(sample_ds)\n",
    "val_dataloader = DataLoader(sample_ds, batch_size=1, shuffle=False)"
   ]
  },
  {
   "cell_type": "code",
   "execution_count": 8,
   "metadata": {},
   "outputs": [
    {
     "name": "stdout",
     "output_type": "stream",
     "text": [
      "1000 200\n"
     ]
    }
   ],
   "source": [
    "print(len(train_dataloader), len(val_dataloader))"
   ]
  },
  {
   "cell_type": "code",
   "execution_count": 9,
   "metadata": {},
   "outputs": [
    {
     "data": {
      "text/plain": [
       "(torch.Size([1, 427, 640, 3]), torch.Size([1, 3, 800, 1199]), tuple)"
      ]
     },
     "execution_count": 9,
     "metadata": {},
     "output_type": "execute_result"
    }
   ],
   "source": [
    "oo, a, c = next(iter(train_dataloader))\n",
    "\n",
    "oo.shape, a.shape, type(c)"
   ]
  },
  {
   "cell_type": "code",
   "execution_count": 12,
   "metadata": {},
   "outputs": [
    {
     "name": "stdout",
     "output_type": "stream",
     "text": [
      "final text_encoder_type: bert-base-uncased\n"
     ]
    },
    {
     "name": "stderr",
     "output_type": "stream",
     "text": [
      "A parameter name that contains `beta` will be renamed internally to `bias`. Please use a different name to suppress this warning.\n",
      "A parameter name that contains `gamma` will be renamed internally to `weight`. Please use a different name to suppress this warning.\n",
      "A parameter name that contains `beta` will be renamed internally to `bias`. Please use a different name to suppress this warning.\n",
      "A parameter name that contains `gamma` will be renamed internally to `weight`. Please use a different name to suppress this warning.\n",
      "A parameter name that contains `beta` will be renamed internally to `bias`. Please use a different name to suppress this warning.\n",
      "A parameter name that contains `gamma` will be renamed internally to `weight`. Please use a different name to suppress this warning.\n",
      "A parameter name that contains `beta` will be renamed internally to `bias`. Please use a different name to suppress this warning.\n",
      "A parameter name that contains `gamma` will be renamed internally to `weight`. Please use a different name to suppress this warning.\n",
      "A parameter name that contains `beta` will be renamed internally to `bias`. Please use a different name to suppress this warning.\n",
      "A parameter name that contains `gamma` will be renamed internally to `weight`. Please use a different name to suppress this warning.\n",
      "A parameter name that contains `beta` will be renamed internally to `bias`. Please use a different name to suppress this warning.\n",
      "A parameter name that contains `gamma` will be renamed internally to `weight`. Please use a different name to suppress this warning.\n",
      "A parameter name that contains `beta` will be renamed internally to `bias`. Please use a different name to suppress this warning.\n",
      "A parameter name that contains `gamma` will be renamed internally to `weight`. Please use a different name to suppress this warning.\n",
      "A parameter name that contains `beta` will be renamed internally to `bias`. Please use a different name to suppress this warning.\n",
      "A parameter name that contains `gamma` will be renamed internally to `weight`. Please use a different name to suppress this warning.\n",
      "A parameter name that contains `beta` will be renamed internally to `bias`. Please use a different name to suppress this warning.\n",
      "A parameter name that contains `gamma` will be renamed internally to `weight`. Please use a different name to suppress this warning.\n",
      "A parameter name that contains `beta` will be renamed internally to `bias`. Please use a different name to suppress this warning.\n",
      "A parameter name that contains `gamma` will be renamed internally to `weight`. Please use a different name to suppress this warning.\n",
      "A parameter name that contains `beta` will be renamed internally to `bias`. Please use a different name to suppress this warning.\n",
      "A parameter name that contains `gamma` will be renamed internally to `weight`. Please use a different name to suppress this warning.\n",
      "A parameter name that contains `beta` will be renamed internally to `bias`. Please use a different name to suppress this warning.\n",
      "A parameter name that contains `gamma` will be renamed internally to `weight`. Please use a different name to suppress this warning.\n",
      "A parameter name that contains `beta` will be renamed internally to `bias`. Please use a different name to suppress this warning.\n",
      "A parameter name that contains `gamma` will be renamed internally to `weight`. Please use a different name to suppress this warning.\n",
      "A parameter name that contains `beta` will be renamed internally to `bias`. Please use a different name to suppress this warning.\n",
      "A parameter name that contains `gamma` will be renamed internally to `weight`. Please use a different name to suppress this warning.\n",
      "A parameter name that contains `beta` will be renamed internally to `bias`. Please use a different name to suppress this warning.\n",
      "A parameter name that contains `gamma` will be renamed internally to `weight`. Please use a different name to suppress this warning.\n",
      "A parameter name that contains `beta` will be renamed internally to `bias`. Please use a different name to suppress this warning.\n",
      "A parameter name that contains `gamma` will be renamed internally to `weight`. Please use a different name to suppress this warning.\n",
      "A parameter name that contains `beta` will be renamed internally to `bias`. Please use a different name to suppress this warning.\n",
      "A parameter name that contains `gamma` will be renamed internally to `weight`. Please use a different name to suppress this warning.\n",
      "A parameter name that contains `beta` will be renamed internally to `bias`. Please use a different name to suppress this warning.\n",
      "A parameter name that contains `gamma` will be renamed internally to `weight`. Please use a different name to suppress this warning.\n",
      "A parameter name that contains `beta` will be renamed internally to `bias`. Please use a different name to suppress this warning.\n",
      "A parameter name that contains `gamma` will be renamed internally to `weight`. Please use a different name to suppress this warning.\n",
      "A parameter name that contains `beta` will be renamed internally to `bias`. Please use a different name to suppress this warning.\n",
      "A parameter name that contains `gamma` will be renamed internally to `weight`. Please use a different name to suppress this warning.\n",
      "A parameter name that contains `beta` will be renamed internally to `bias`. Please use a different name to suppress this warning.\n",
      "A parameter name that contains `gamma` will be renamed internally to `weight`. Please use a different name to suppress this warning.\n",
      "A parameter name that contains `beta` will be renamed internally to `bias`. Please use a different name to suppress this warning.\n",
      "A parameter name that contains `gamma` will be renamed internally to `weight`. Please use a different name to suppress this warning.\n",
      "A parameter name that contains `beta` will be renamed internally to `bias`. Please use a different name to suppress this warning.\n",
      "A parameter name that contains `gamma` will be renamed internally to `weight`. Please use a different name to suppress this warning.\n",
      "A parameter name that contains `beta` will be renamed internally to `bias`. Please use a different name to suppress this warning.\n",
      "A parameter name that contains `gamma` will be renamed internally to `weight`. Please use a different name to suppress this warning.\n",
      "A parameter name that contains `beta` will be renamed internally to `bias`. Please use a different name to suppress this warning.\n",
      "A parameter name that contains `gamma` will be renamed internally to `weight`. Please use a different name to suppress this warning.\n",
      "A parameter name that contains `beta` will be renamed internally to `bias`. Please use a different name to suppress this warning.\n",
      "A parameter name that contains `gamma` will be renamed internally to `weight`. Please use a different name to suppress this warning.\n",
      "Train:   0%|          | 0/1000 [00:00<?, ?it/s]FutureWarning: The `device` argument is deprecated and will be removed in v5 of Transformers.\n",
      "UserWarning: None of the inputs have requires_grad=True. Gradients will be None\n",
      "UserWarning: The default value of the antialias parameter of all the resizing transforms (Resize(), RandomResizedCrop(), etc.) will change from None to True in v0.17, in order to be consistent across the PIL and Tensor backends. To suppress this warning, directly pass antialias=True (recommended, future default), antialias=None (current default, which means False for Tensors and True for PIL), or antialias=False (only works on Tensors - PIL will still use antialiasing). This also applies if you are using the inference transforms from the models weights: update the call to weights.transforms(antialias=True).\n",
      "UserWarning: To copy construct from a tensor, it is recommended to use sourceTensor.clone().detach() or sourceTensor.clone().detach().requires_grad_(True), rather than torch.tensor(sourceTensor).\n",
      "                                                          \r"
     ]
    },
    {
     "name": "stdout",
     "output_type": "stream",
     "text": [
      "===============================================================\n",
      "Train | Epoch: [1/200] |  MSE: 1.0675249099731445 | Total: 2837\n"
     ]
    },
    {
     "name": "stderr",
     "output_type": "stream",
     "text": [
      "Test:   0%|          | 0/200 [00:00<?, ?it/s]UserWarning: To copy construct from a tensor, it is recommended to use sourceTensor.clone().detach() or sourceTensor.clone().detach().requires_grad_(True), rather than torch.tensor(sourceTensor).\n",
      "                                                       \r"
     ]
    },
    {
     "name": "stdout",
     "output_type": "stream",
     "text": [
      "Test  | Epoch: [1/200] |  MSE: 0.7643295526504517 | Total: 569\n",
      "===============================================================\n",
      "Update results\n"
     ]
    },
    {
     "name": "stderr",
     "output_type": "stream",
     "text": [
      "                                                          \r"
     ]
    },
    {
     "name": "stdout",
     "output_type": "stream",
     "text": [
      "===============================================================\n",
      "Train | Epoch: [2/200] |  MSE: 0.7232526540756226 | Total: 2783\n"
     ]
    },
    {
     "name": "stderr",
     "output_type": "stream",
     "text": [
      "                                                       \r"
     ]
    },
    {
     "name": "stdout",
     "output_type": "stream",
     "text": [
      "Test  | Epoch: [2/200] |  MSE: 0.6823602914810181 | Total: 569\n",
      "===============================================================\n",
      "Update results\n"
     ]
    },
    {
     "name": "stderr",
     "output_type": "stream",
     "text": [
      "                                                          \r"
     ]
    },
    {
     "name": "stdout",
     "output_type": "stream",
     "text": [
      "==============================================================\n",
      "Train | Epoch: [3/200] |  MSE: 0.655068039894104 | Total: 2693\n"
     ]
    },
    {
     "name": "stderr",
     "output_type": "stream",
     "text": [
      "                                                       \r"
     ]
    },
    {
     "name": "stdout",
     "output_type": "stream",
     "text": [
      "Test  | Epoch: [3/200] |  MSE: 0.6290709972381592 | Total: 569\n",
      "==============================================================\n",
      "Update results\n"
     ]
    },
    {
     "name": "stderr",
     "output_type": "stream",
     "text": [
      "                                                          \r"
     ]
    },
    {
     "name": "stdout",
     "output_type": "stream",
     "text": [
      "===============================================================\n",
      "Train | Epoch: [4/200] |  MSE: 0.5791350603103638 | Total: 2728\n"
     ]
    },
    {
     "name": "stderr",
     "output_type": "stream",
     "text": [
      "                                                       \r"
     ]
    },
    {
     "name": "stdout",
     "output_type": "stream",
     "text": [
      "Test  | Epoch: [4/200] |  MSE: 0.510515034198761 | Total: 569\n",
      "===============================================================\n",
      "Update results\n"
     ]
    },
    {
     "name": "stderr",
     "output_type": "stream",
     "text": [
      "                                                          \r"
     ]
    },
    {
     "name": "stdout",
     "output_type": "stream",
     "text": [
      "===============================================================\n",
      "Train | Epoch: [5/200] |  MSE: 0.5082308053970337 | Total: 2794\n"
     ]
    },
    {
     "name": "stderr",
     "output_type": "stream",
     "text": [
      "                                                       \r"
     ]
    },
    {
     "name": "stdout",
     "output_type": "stream",
     "text": [
      "Test  | Epoch: [5/200] |  MSE: 0.47373872995376587 | Total: 569\n",
      "===============================================================\n",
      "Update results\n"
     ]
    },
    {
     "name": "stderr",
     "output_type": "stream",
     "text": [
      "                                                          \r"
     ]
    },
    {
     "name": "stdout",
     "output_type": "stream",
     "text": [
      "================================================================\n",
      "Train | Epoch: [6/200] |  MSE: 0.48536667227745056 | Total: 2881\n"
     ]
    },
    {
     "name": "stderr",
     "output_type": "stream",
     "text": [
      "                                                       \r"
     ]
    },
    {
     "name": "stdout",
     "output_type": "stream",
     "text": [
      "Test  | Epoch: [6/200] |  MSE: 0.4427230656147003 | Total: 569\n",
      "================================================================\n",
      "Update results\n"
     ]
    },
    {
     "name": "stderr",
     "output_type": "stream",
     "text": [
      "                                                          \r"
     ]
    },
    {
     "name": "stdout",
     "output_type": "stream",
     "text": [
      "===============================================================\n",
      "Train | Epoch: [7/200] |  MSE: 0.4579704999923706 | Total: 2781\n"
     ]
    },
    {
     "name": "stderr",
     "output_type": "stream",
     "text": [
      "                                                       \r"
     ]
    },
    {
     "name": "stdout",
     "output_type": "stream",
     "text": [
      "Test  | Epoch: [7/200] |  MSE: 0.44062304496765137 | Total: 569\n",
      "===============================================================\n",
      "Update results\n"
     ]
    },
    {
     "name": "stderr",
     "output_type": "stream",
     "text": [
      "                                                          \r"
     ]
    },
    {
     "name": "stdout",
     "output_type": "stream",
     "text": [
      "================================================================\n",
      "Train | Epoch: [8/200] |  MSE: 0.44756537675857544 | Total: 2757\n"
     ]
    },
    {
     "name": "stderr",
     "output_type": "stream",
     "text": [
      "                                                       \r"
     ]
    },
    {
     "name": "stdout",
     "output_type": "stream",
     "text": [
      "Test  | Epoch: [8/200] |  MSE: 0.43928343057632446 | Total: 569\n",
      "================================================================\n",
      "Update results\n"
     ]
    },
    {
     "name": "stderr",
     "output_type": "stream",
     "text": [
      "                                                          \r"
     ]
    },
    {
     "name": "stdout",
     "output_type": "stream",
     "text": [
      "===============================================================\n",
      "Train | Epoch: [9/200] |  MSE: 0.4369414746761322 | Total: 2792\n"
     ]
    },
    {
     "name": "stderr",
     "output_type": "stream",
     "text": [
      "                                                       \r"
     ]
    },
    {
     "name": "stdout",
     "output_type": "stream",
     "text": [
      "Test  | Epoch: [9/200] |  MSE: 0.4066013991832733 | Total: 569\n",
      "===============================================================\n",
      "Update results\n"
     ]
    },
    {
     "name": "stderr",
     "output_type": "stream",
     "text": [
      "                                                          \r"
     ]
    },
    {
     "name": "stdout",
     "output_type": "stream",
     "text": [
      "=================================================================\n",
      "Train | Epoch: [10/200] |  MSE: 0.42260003089904785 | Total: 2831\n"
     ]
    },
    {
     "name": "stderr",
     "output_type": "stream",
     "text": [
      "                                                       \r"
     ]
    },
    {
     "name": "stdout",
     "output_type": "stream",
     "text": [
      "Test  | Epoch: [10/200] |  MSE: 0.39265692234039307 | Total: 569\n",
      "=================================================================\n",
      "Update results\n"
     ]
    },
    {
     "name": "stderr",
     "output_type": "stream",
     "text": [
      "                                                          \r"
     ]
    },
    {
     "name": "stdout",
     "output_type": "stream",
     "text": [
      "================================================================\n",
      "Train | Epoch: [11/200] |  MSE: 0.4142928719520569 | Total: 2810\n"
     ]
    },
    {
     "name": "stderr",
     "output_type": "stream",
     "text": [
      "                                                       \r"
     ]
    },
    {
     "name": "stdout",
     "output_type": "stream",
     "text": [
      "Test  | Epoch: [11/200] |  MSE: 0.38534656167030334 | Total: 569\n",
      "================================================================\n",
      "Update results\n"
     ]
    },
    {
     "name": "stderr",
     "output_type": "stream",
     "text": [
      "                                                          \r"
     ]
    },
    {
     "name": "stdout",
     "output_type": "stream",
     "text": [
      "=================================================================\n",
      "Train | Epoch: [12/200] |  MSE: 0.41945183277130127 | Total: 2803\n"
     ]
    },
    {
     "name": "stderr",
     "output_type": "stream",
     "text": [
      "                                                       \r"
     ]
    },
    {
     "name": "stdout",
     "output_type": "stream",
     "text": [
      "Test  | Epoch: [12/200] |  MSE: 0.38078317046165466 | Total: 569\n",
      "=================================================================\n",
      "Update results\n"
     ]
    },
    {
     "name": "stderr",
     "output_type": "stream",
     "text": [
      "                                                          \r"
     ]
    },
    {
     "name": "stdout",
     "output_type": "stream",
     "text": [
      "================================================================\n",
      "Train | Epoch: [13/200] |  MSE: 0.4059080183506012 | Total: 2821\n"
     ]
    },
    {
     "name": "stderr",
     "output_type": "stream",
     "text": [
      "                                                       \r"
     ]
    },
    {
     "name": "stdout",
     "output_type": "stream",
     "text": [
      "Test  | Epoch: [13/200] |  MSE: 0.39247778058052063 | Total: 569\n",
      "================================================================\n",
      "1\n"
     ]
    },
    {
     "name": "stderr",
     "output_type": "stream",
     "text": [
      "                                                          \r"
     ]
    },
    {
     "name": "stdout",
     "output_type": "stream",
     "text": [
      "=================================================================\n",
      "Train | Epoch: [14/200] |  MSE: 0.39943408966064453 | Total: 2843\n"
     ]
    },
    {
     "name": "stderr",
     "output_type": "stream",
     "text": [
      "                                                       \r"
     ]
    },
    {
     "name": "stdout",
     "output_type": "stream",
     "text": [
      "Test  | Epoch: [14/200] |  MSE: 0.3651347756385803 | Total: 569\n",
      "=================================================================\n",
      "Update results\n"
     ]
    },
    {
     "name": "stderr",
     "output_type": "stream",
     "text": [
      "                                                          \r"
     ]
    },
    {
     "name": "stdout",
     "output_type": "stream",
     "text": [
      "================================================================\n",
      "Train | Epoch: [15/200] |  MSE: 0.3947643041610718 | Total: 2728\n"
     ]
    },
    {
     "name": "stderr",
     "output_type": "stream",
     "text": [
      "                                                       \r"
     ]
    },
    {
     "name": "stdout",
     "output_type": "stream",
     "text": [
      "Test  | Epoch: [15/200] |  MSE: 0.36584392189979553 | Total: 569\n",
      "================================================================\n",
      "1\n"
     ]
    },
    {
     "name": "stderr",
     "output_type": "stream",
     "text": [
      "                                                          \r"
     ]
    },
    {
     "name": "stdout",
     "output_type": "stream",
     "text": [
      "=================================================================\n",
      "Train | Epoch: [16/200] |  MSE: 0.39106595516204834 | Total: 2757\n"
     ]
    },
    {
     "name": "stderr",
     "output_type": "stream",
     "text": [
      "                                                       \r"
     ]
    },
    {
     "name": "stdout",
     "output_type": "stream",
     "text": [
      "Test  | Epoch: [16/200] |  MSE: 0.3649275302886963 | Total: 569\n",
      "=================================================================\n",
      "Update results\n"
     ]
    },
    {
     "name": "stderr",
     "output_type": "stream",
     "text": [
      "                                                          \r"
     ]
    },
    {
     "name": "stdout",
     "output_type": "stream",
     "text": [
      "================================================================\n",
      "Train | Epoch: [17/200] |  MSE: 0.3884342908859253 | Total: 2834\n"
     ]
    },
    {
     "name": "stderr",
     "output_type": "stream",
     "text": [
      "                                                       \r"
     ]
    },
    {
     "name": "stdout",
     "output_type": "stream",
     "text": [
      "Test  | Epoch: [17/200] |  MSE: 0.3703113794326782 | Total: 569\n",
      "================================================================\n",
      "1\n"
     ]
    },
    {
     "name": "stderr",
     "output_type": "stream",
     "text": [
      "                                                          \r"
     ]
    },
    {
     "name": "stdout",
     "output_type": "stream",
     "text": [
      "=================================================================\n",
      "Train | Epoch: [18/200] |  MSE: 0.38497138023376465 | Total: 2763\n"
     ]
    },
    {
     "name": "stderr",
     "output_type": "stream",
     "text": [
      "                                                       \r"
     ]
    },
    {
     "name": "stdout",
     "output_type": "stream",
     "text": [
      "Test  | Epoch: [18/200] |  MSE: 0.37208691239356995 | Total: 569\n",
      "=================================================================\n",
      "2\n"
     ]
    },
    {
     "name": "stderr",
     "output_type": "stream",
     "text": [
      "                                                          \r"
     ]
    },
    {
     "name": "stdout",
     "output_type": "stream",
     "text": [
      "================================================================\n",
      "Train | Epoch: [19/200] |  MSE: 0.3825196921825409 | Total: 2807\n"
     ]
    },
    {
     "name": "stderr",
     "output_type": "stream",
     "text": [
      "                                                       \r"
     ]
    },
    {
     "name": "stdout",
     "output_type": "stream",
     "text": [
      "Test  | Epoch: [19/200] |  MSE: 0.36564764380455017 | Total: 569\n",
      "================================================================\n",
      "3\n"
     ]
    },
    {
     "name": "stderr",
     "output_type": "stream",
     "text": [
      "                                                          \r"
     ]
    },
    {
     "name": "stdout",
     "output_type": "stream",
     "text": [
      "================================================================\n",
      "Train | Epoch: [20/200] |  MSE: 0.3763841390609741 | Total: 2798\n"
     ]
    },
    {
     "name": "stderr",
     "output_type": "stream",
     "text": [
      "                                                       \r"
     ]
    },
    {
     "name": "stdout",
     "output_type": "stream",
     "text": [
      "Test  | Epoch: [20/200] |  MSE: 0.3776507079601288 | Total: 569\n",
      "================================================================\n",
      "4\n"
     ]
    },
    {
     "name": "stderr",
     "output_type": "stream",
     "text": [
      "                                                          \r"
     ]
    },
    {
     "name": "stdout",
     "output_type": "stream",
     "text": [
      "=================================================================\n",
      "Train | Epoch: [21/200] |  MSE: 0.38474828004837036 | Total: 2735\n"
     ]
    },
    {
     "name": "stderr",
     "output_type": "stream",
     "text": [
      "                                                       \r"
     ]
    },
    {
     "name": "stdout",
     "output_type": "stream",
     "text": [
      "Test  | Epoch: [21/200] |  MSE: 0.3470669984817505 | Total: 569\n",
      "=================================================================\n",
      "Update results\n"
     ]
    },
    {
     "name": "stderr",
     "output_type": "stream",
     "text": [
      "                                                          \r"
     ]
    },
    {
     "name": "stdout",
     "output_type": "stream",
     "text": [
      "================================================================\n",
      "Train | Epoch: [22/200] |  MSE: 0.3740667402744293 | Total: 2752\n"
     ]
    },
    {
     "name": "stderr",
     "output_type": "stream",
     "text": [
      "                                                       \r"
     ]
    },
    {
     "name": "stdout",
     "output_type": "stream",
     "text": [
      "Test  | Epoch: [22/200] |  MSE: 0.3654157519340515 | Total: 569\n",
      "================================================================\n",
      "1\n"
     ]
    },
    {
     "name": "stderr",
     "output_type": "stream",
     "text": [
      "                                                          \r"
     ]
    },
    {
     "name": "stdout",
     "output_type": "stream",
     "text": [
      "=================================================================\n",
      "Train | Epoch: [23/200] |  MSE: 0.37526676058769226 | Total: 2730\n"
     ]
    },
    {
     "name": "stderr",
     "output_type": "stream",
     "text": [
      "                                                       \r"
     ]
    },
    {
     "name": "stdout",
     "output_type": "stream",
     "text": [
      "Test  | Epoch: [23/200] |  MSE: 0.3575097322463989 | Total: 569\n",
      "=================================================================\n",
      "2\n"
     ]
    },
    {
     "name": "stderr",
     "output_type": "stream",
     "text": [
      "                                                          \r"
     ]
    },
    {
     "name": "stdout",
     "output_type": "stream",
     "text": [
      "=================================================================\n",
      "Train | Epoch: [24/200] |  MSE: 0.36858418583869934 | Total: 2764\n"
     ]
    },
    {
     "name": "stderr",
     "output_type": "stream",
     "text": [
      "                                                       \r"
     ]
    },
    {
     "name": "stdout",
     "output_type": "stream",
     "text": [
      "Test  | Epoch: [24/200] |  MSE: 0.3498614728450775 | Total: 569\n",
      "=================================================================\n",
      "3\n"
     ]
    },
    {
     "name": "stderr",
     "output_type": "stream",
     "text": [
      "                                                          \r"
     ]
    },
    {
     "name": "stdout",
     "output_type": "stream",
     "text": [
      "=================================================================\n",
      "Train | Epoch: [25/200] |  MSE: 0.36139369010925293 | Total: 2793\n"
     ]
    },
    {
     "name": "stderr",
     "output_type": "stream",
     "text": [
      "                                                       \r"
     ]
    },
    {
     "name": "stdout",
     "output_type": "stream",
     "text": [
      "Test  | Epoch: [25/200] |  MSE: 0.3367462158203125 | Total: 569\n",
      "=================================================================\n",
      "Update results\n"
     ]
    },
    {
     "name": "stderr",
     "output_type": "stream",
     "text": [
      "                                                          \r"
     ]
    },
    {
     "name": "stdout",
     "output_type": "stream",
     "text": [
      "=================================================================\n",
      "Train | Epoch: [26/200] |  MSE: 0.37436971068382263 | Total: 2822\n"
     ]
    },
    {
     "name": "stderr",
     "output_type": "stream",
     "text": [
      "                                                       \r"
     ]
    },
    {
     "name": "stdout",
     "output_type": "stream",
     "text": [
      "Test  | Epoch: [26/200] |  MSE: 0.3845803737640381 | Total: 569\n",
      "=================================================================\n",
      "1\n"
     ]
    },
    {
     "name": "stderr",
     "output_type": "stream",
     "text": [
      "                                                          \r"
     ]
    },
    {
     "name": "stdout",
     "output_type": "stream",
     "text": [
      "================================================================\n",
      "Train | Epoch: [27/200] |  MSE: 0.3654647171497345 | Total: 2868\n"
     ]
    },
    {
     "name": "stderr",
     "output_type": "stream",
     "text": [
      "                                                       \r"
     ]
    },
    {
     "name": "stdout",
     "output_type": "stream",
     "text": [
      "Test  | Epoch: [27/200] |  MSE: 0.34924644231796265 | Total: 569\n",
      "================================================================\n",
      "2\n"
     ]
    },
    {
     "name": "stderr",
     "output_type": "stream",
     "text": [
      "                                                          \r"
     ]
    },
    {
     "name": "stdout",
     "output_type": "stream",
     "text": [
      "================================================================\n",
      "Train | Epoch: [28/200] |  MSE: 0.3627234697341919 | Total: 2757\n"
     ]
    },
    {
     "name": "stderr",
     "output_type": "stream",
     "text": [
      "                                                       \r"
     ]
    },
    {
     "name": "stdout",
     "output_type": "stream",
     "text": [
      "Test  | Epoch: [28/200] |  MSE: 0.3360838294029236 | Total: 569\n",
      "================================================================\n",
      "Update results\n"
     ]
    },
    {
     "name": "stderr",
     "output_type": "stream",
     "text": [
      "                                                          \r"
     ]
    },
    {
     "name": "stdout",
     "output_type": "stream",
     "text": [
      "=================================================================\n",
      "Train | Epoch: [29/200] |  MSE: 0.35982492566108704 | Total: 2772\n"
     ]
    },
    {
     "name": "stderr",
     "output_type": "stream",
     "text": [
      "                                                       \r"
     ]
    },
    {
     "name": "stdout",
     "output_type": "stream",
     "text": [
      "Test  | Epoch: [29/200] |  MSE: 0.33780619502067566 | Total: 569\n",
      "=================================================================\n",
      "1\n"
     ]
    },
    {
     "name": "stderr",
     "output_type": "stream",
     "text": [
      "                                                          \r"
     ]
    },
    {
     "name": "stdout",
     "output_type": "stream",
     "text": [
      "================================================================\n",
      "Train | Epoch: [30/200] |  MSE: 0.3558639883995056 | Total: 2699\n"
     ]
    },
    {
     "name": "stderr",
     "output_type": "stream",
     "text": [
      "                                                       \r"
     ]
    },
    {
     "name": "stdout",
     "output_type": "stream",
     "text": [
      "Test  | Epoch: [30/200] |  MSE: 0.3353240191936493 | Total: 569\n",
      "================================================================\n",
      "Update results\n"
     ]
    },
    {
     "name": "stderr",
     "output_type": "stream",
     "text": [
      "                                                          \r"
     ]
    },
    {
     "name": "stdout",
     "output_type": "stream",
     "text": [
      "================================================================\n",
      "Train | Epoch: [31/200] |  MSE: 0.3603873550891876 | Total: 2759\n"
     ]
    },
    {
     "name": "stderr",
     "output_type": "stream",
     "text": [
      "                                                       \r"
     ]
    },
    {
     "name": "stdout",
     "output_type": "stream",
     "text": [
      "Test  | Epoch: [31/200] |  MSE: 0.3292672038078308 | Total: 569\n",
      "================================================================\n",
      "Update results\n"
     ]
    },
    {
     "name": "stderr",
     "output_type": "stream",
     "text": [
      "                                                          \r"
     ]
    },
    {
     "name": "stdout",
     "output_type": "stream",
     "text": [
      "=================================================================\n",
      "Train | Epoch: [32/200] |  MSE: 0.35877150297164917 | Total: 2782\n"
     ]
    },
    {
     "name": "stderr",
     "output_type": "stream",
     "text": [
      "                                                       \r"
     ]
    },
    {
     "name": "stdout",
     "output_type": "stream",
     "text": [
      "Test  | Epoch: [32/200] |  MSE: 0.3448408842086792 | Total: 569\n",
      "=================================================================\n",
      "1\n"
     ]
    },
    {
     "name": "stderr",
     "output_type": "stream",
     "text": [
      "                                                          \r"
     ]
    },
    {
     "name": "stdout",
     "output_type": "stream",
     "text": [
      "================================================================\n",
      "Train | Epoch: [33/200] |  MSE: 0.3581031560897827 | Total: 2653\n"
     ]
    },
    {
     "name": "stderr",
     "output_type": "stream",
     "text": [
      "                                                       \r"
     ]
    },
    {
     "name": "stdout",
     "output_type": "stream",
     "text": [
      "Test  | Epoch: [33/200] |  MSE: 0.3288666903972626 | Total: 569\n",
      "================================================================\n",
      "Update results\n"
     ]
    },
    {
     "name": "stderr",
     "output_type": "stream",
     "text": [
      "                                                          \r"
     ]
    },
    {
     "name": "stdout",
     "output_type": "stream",
     "text": [
      "=================================================================\n",
      "Train | Epoch: [34/200] |  MSE: 0.35179489850997925 | Total: 2755\n"
     ]
    },
    {
     "name": "stderr",
     "output_type": "stream",
     "text": [
      "                                                       \r"
     ]
    },
    {
     "name": "stdout",
     "output_type": "stream",
     "text": [
      "Test  | Epoch: [34/200] |  MSE: 0.33560019731521606 | Total: 569\n",
      "=================================================================\n",
      "1\n"
     ]
    },
    {
     "name": "stderr",
     "output_type": "stream",
     "text": [
      "                                                          \r"
     ]
    },
    {
     "name": "stdout",
     "output_type": "stream",
     "text": [
      "================================================================\n",
      "Train | Epoch: [35/200] |  MSE: 0.3556392192840576 | Total: 2783\n"
     ]
    },
    {
     "name": "stderr",
     "output_type": "stream",
     "text": [
      "                                                       \r"
     ]
    },
    {
     "name": "stdout",
     "output_type": "stream",
     "text": [
      "Test  | Epoch: [35/200] |  MSE: 0.3224247694015503 | Total: 569\n",
      "================================================================\n",
      "Update results\n"
     ]
    },
    {
     "name": "stderr",
     "output_type": "stream",
     "text": [
      "                                                          \r"
     ]
    },
    {
     "name": "stdout",
     "output_type": "stream",
     "text": [
      "=================================================================\n",
      "Train | Epoch: [36/200] |  MSE: 0.35041123628616333 | Total: 2758\n"
     ]
    },
    {
     "name": "stderr",
     "output_type": "stream",
     "text": [
      "                                                       \r"
     ]
    },
    {
     "name": "stdout",
     "output_type": "stream",
     "text": [
      "Test  | Epoch: [36/200] |  MSE: 0.36926379799842834 | Total: 569\n",
      "=================================================================\n",
      "1\n"
     ]
    },
    {
     "name": "stderr",
     "output_type": "stream",
     "text": [
      "                                                          \r"
     ]
    },
    {
     "name": "stdout",
     "output_type": "stream",
     "text": [
      "================================================================\n",
      "Train | Epoch: [37/200] |  MSE: 0.3495931923389435 | Total: 2718\n"
     ]
    },
    {
     "name": "stderr",
     "output_type": "stream",
     "text": [
      "                                                       \r"
     ]
    },
    {
     "name": "stdout",
     "output_type": "stream",
     "text": [
      "Test  | Epoch: [37/200] |  MSE: 0.33371251821517944 | Total: 569\n",
      "================================================================\n",
      "2\n"
     ]
    },
    {
     "name": "stderr",
     "output_type": "stream",
     "text": [
      "                                                          \r"
     ]
    },
    {
     "name": "stdout",
     "output_type": "stream",
     "text": [
      "=================================================================\n",
      "Train | Epoch: [38/200] |  MSE: 0.34705284237861633 | Total: 2726\n"
     ]
    },
    {
     "name": "stderr",
     "output_type": "stream",
     "text": [
      "                                                       \r"
     ]
    },
    {
     "name": "stdout",
     "output_type": "stream",
     "text": [
      "Test  | Epoch: [38/200] |  MSE: 0.3316115438938141 | Total: 569\n",
      "=================================================================\n",
      "3\n"
     ]
    },
    {
     "name": "stderr",
     "output_type": "stream",
     "text": [
      "                                                          \r"
     ]
    },
    {
     "name": "stdout",
     "output_type": "stream",
     "text": [
      "=================================================================\n",
      "Train | Epoch: [39/200] |  MSE: 0.34624531865119934 | Total: 2772\n"
     ]
    },
    {
     "name": "stderr",
     "output_type": "stream",
     "text": [
      "                                                       \r"
     ]
    },
    {
     "name": "stdout",
     "output_type": "stream",
     "text": [
      "Test  | Epoch: [39/200] |  MSE: 0.31772372126579285 | Total: 569\n",
      "=================================================================\n",
      "Update results\n"
     ]
    },
    {
     "name": "stderr",
     "output_type": "stream",
     "text": [
      "                                                          \r"
     ]
    },
    {
     "name": "stdout",
     "output_type": "stream",
     "text": [
      "================================================================\n",
      "Train | Epoch: [40/200] |  MSE: 0.3413218557834625 | Total: 2805\n"
     ]
    },
    {
     "name": "stderr",
     "output_type": "stream",
     "text": [
      "                                                       \r"
     ]
    },
    {
     "name": "stdout",
     "output_type": "stream",
     "text": [
      "Test  | Epoch: [40/200] |  MSE: 0.317596435546875 | Total: 569\n",
      "================================================================\n",
      "Update results\n"
     ]
    },
    {
     "name": "stderr",
     "output_type": "stream",
     "text": [
      "                                                          \r"
     ]
    },
    {
     "name": "stdout",
     "output_type": "stream",
     "text": [
      "================================================================\n",
      "Train | Epoch: [41/200] |  MSE: 0.3512883186340332 | Total: 2729\n"
     ]
    },
    {
     "name": "stderr",
     "output_type": "stream",
     "text": [
      "                                                       \r"
     ]
    },
    {
     "name": "stdout",
     "output_type": "stream",
     "text": [
      "Test  | Epoch: [41/200] |  MSE: 0.3334939479827881 | Total: 569\n",
      "================================================================\n",
      "1\n"
     ]
    },
    {
     "name": "stderr",
     "output_type": "stream",
     "text": [
      "                                                          \r"
     ]
    },
    {
     "name": "stdout",
     "output_type": "stream",
     "text": [
      "================================================================\n",
      "Train | Epoch: [42/200] |  MSE: 0.3355652987957001 | Total: 2814\n"
     ]
    },
    {
     "name": "stderr",
     "output_type": "stream",
     "text": [
      "                                                       \r"
     ]
    },
    {
     "name": "stdout",
     "output_type": "stream",
     "text": [
      "Test  | Epoch: [42/200] |  MSE: 0.3218846321105957 | Total: 569\n",
      "================================================================\n",
      "2\n"
     ]
    },
    {
     "name": "stderr",
     "output_type": "stream",
     "text": [
      "                                                          \r"
     ]
    },
    {
     "name": "stdout",
     "output_type": "stream",
     "text": [
      "===============================================================\n",
      "Train | Epoch: [43/200] |  MSE: 0.341670960187912 | Total: 2858\n"
     ]
    },
    {
     "name": "stderr",
     "output_type": "stream",
     "text": [
      "                                                       \r"
     ]
    },
    {
     "name": "stdout",
     "output_type": "stream",
     "text": [
      "Test  | Epoch: [43/200] |  MSE: 0.3311724364757538 | Total: 569\n",
      "===============================================================\n",
      "3\n"
     ]
    },
    {
     "name": "stderr",
     "output_type": "stream",
     "text": [
      "                                                          \r"
     ]
    },
    {
     "name": "stdout",
     "output_type": "stream",
     "text": [
      "=================================================================\n",
      "Train | Epoch: [44/200] |  MSE: 0.33113911747932434 | Total: 2781\n"
     ]
    },
    {
     "name": "stderr",
     "output_type": "stream",
     "text": [
      "                                                       \r"
     ]
    },
    {
     "name": "stdout",
     "output_type": "stream",
     "text": [
      "Test  | Epoch: [44/200] |  MSE: 0.3223414123058319 | Total: 569\n",
      "=================================================================\n",
      "4\n"
     ]
    },
    {
     "name": "stderr",
     "output_type": "stream",
     "text": [
      "                                                          \r"
     ]
    },
    {
     "name": "stdout",
     "output_type": "stream",
     "text": [
      "=================================================================\n",
      "Train | Epoch: [45/200] |  MSE: 0.32877233624458313 | Total: 2757\n"
     ]
    },
    {
     "name": "stderr",
     "output_type": "stream",
     "text": [
      "                                                       \r"
     ]
    },
    {
     "name": "stdout",
     "output_type": "stream",
     "text": [
      "Test  | Epoch: [45/200] |  MSE: 0.325420081615448 | Total: 569\n",
      "=================================================================\n",
      "5\n",
      "5e-05\n"
     ]
    },
    {
     "name": "stderr",
     "output_type": "stream",
     "text": [
      "                                                          \r"
     ]
    },
    {
     "name": "stdout",
     "output_type": "stream",
     "text": [
      "=================================================================\n",
      "Train | Epoch: [46/200] |  MSE: 0.32598403096199036 | Total: 2803\n"
     ]
    },
    {
     "name": "stderr",
     "output_type": "stream",
     "text": [
      "                                                       \r"
     ]
    },
    {
     "name": "stdout",
     "output_type": "stream",
     "text": [
      "Test  | Epoch: [46/200] |  MSE: 0.30037811398506165 | Total: 569\n",
      "=================================================================\n",
      "Update results\n"
     ]
    },
    {
     "name": "stderr",
     "output_type": "stream",
     "text": [
      "                                                          \r"
     ]
    },
    {
     "name": "stdout",
     "output_type": "stream",
     "text": [
      "=================================================================\n",
      "Train | Epoch: [47/200] |  MSE: 0.31523674726486206 | Total: 2781\n"
     ]
    },
    {
     "name": "stderr",
     "output_type": "stream",
     "text": [
      "                                                       \r"
     ]
    },
    {
     "name": "stdout",
     "output_type": "stream",
     "text": [
      "Test  | Epoch: [47/200] |  MSE: 0.2958357632160187 | Total: 569\n",
      "=================================================================\n",
      "Update results\n"
     ]
    },
    {
     "name": "stderr",
     "output_type": "stream",
     "text": [
      "                                                          \r"
     ]
    },
    {
     "name": "stdout",
     "output_type": "stream",
     "text": [
      "================================================================\n",
      "Train | Epoch: [48/200] |  MSE: 0.3147948086261749 | Total: 2799\n"
     ]
    },
    {
     "name": "stderr",
     "output_type": "stream",
     "text": [
      "                                                       \r"
     ]
    },
    {
     "name": "stdout",
     "output_type": "stream",
     "text": [
      "Test  | Epoch: [48/200] |  MSE: 0.29546236991882324 | Total: 569\n",
      "================================================================\n",
      "Update results\n"
     ]
    },
    {
     "name": "stderr",
     "output_type": "stream",
     "text": [
      "                                                          \r"
     ]
    },
    {
     "name": "stdout",
     "output_type": "stream",
     "text": [
      "=================================================================\n",
      "Train | Epoch: [49/200] |  MSE: 0.31254953145980835 | Total: 2777\n"
     ]
    },
    {
     "name": "stderr",
     "output_type": "stream",
     "text": [
      "                                                       \r"
     ]
    },
    {
     "name": "stdout",
     "output_type": "stream",
     "text": [
      "Test  | Epoch: [49/200] |  MSE: 0.29215991497039795 | Total: 569\n",
      "=================================================================\n",
      "Update results\n"
     ]
    },
    {
     "name": "stderr",
     "output_type": "stream",
     "text": [
      "                                                          \r"
     ]
    },
    {
     "name": "stdout",
     "output_type": "stream",
     "text": [
      "================================================================\n",
      "Train | Epoch: [50/200] |  MSE: 0.3139379918575287 | Total: 2738\n"
     ]
    },
    {
     "name": "stderr",
     "output_type": "stream",
     "text": [
      "                                                       \r"
     ]
    },
    {
     "name": "stdout",
     "output_type": "stream",
     "text": [
      "Test  | Epoch: [50/200] |  MSE: 0.2918738126754761 | Total: 569\n",
      "================================================================\n",
      "Update results\n"
     ]
    },
    {
     "name": "stderr",
     "output_type": "stream",
     "text": [
      "                                                          \r"
     ]
    },
    {
     "name": "stdout",
     "output_type": "stream",
     "text": [
      "================================================================\n",
      "Train | Epoch: [51/200] |  MSE: 0.3107564449310303 | Total: 2754\n"
     ]
    },
    {
     "name": "stderr",
     "output_type": "stream",
     "text": [
      "                                                       \r"
     ]
    },
    {
     "name": "stdout",
     "output_type": "stream",
     "text": [
      "Test  | Epoch: [51/200] |  MSE: 0.28831231594085693 | Total: 569\n",
      "================================================================\n",
      "Update results\n"
     ]
    },
    {
     "name": "stderr",
     "output_type": "stream",
     "text": [
      "                                                          \r"
     ]
    },
    {
     "name": "stdout",
     "output_type": "stream",
     "text": [
      "=================================================================\n",
      "Train | Epoch: [52/200] |  MSE: 0.30747827887535095 | Total: 2783\n"
     ]
    },
    {
     "name": "stderr",
     "output_type": "stream",
     "text": [
      "                                                       \r"
     ]
    },
    {
     "name": "stdout",
     "output_type": "stream",
     "text": [
      "Test  | Epoch: [52/200] |  MSE: 0.2986100912094116 | Total: 569\n",
      "=================================================================\n",
      "1\n"
     ]
    },
    {
     "name": "stderr",
     "output_type": "stream",
     "text": [
      "                                                          \r"
     ]
    },
    {
     "name": "stdout",
     "output_type": "stream",
     "text": [
      "=================================================================\n",
      "Train | Epoch: [53/200] |  MSE: 0.30262401700019836 | Total: 2789\n"
     ]
    },
    {
     "name": "stderr",
     "output_type": "stream",
     "text": [
      "                                                       \r"
     ]
    },
    {
     "name": "stdout",
     "output_type": "stream",
     "text": [
      "Test  | Epoch: [53/200] |  MSE: 0.2914987802505493 | Total: 569\n",
      "=================================================================\n",
      "2\n"
     ]
    },
    {
     "name": "stderr",
     "output_type": "stream",
     "text": [
      "                                                          \r"
     ]
    },
    {
     "name": "stdout",
     "output_type": "stream",
     "text": [
      "=================================================================\n",
      "Train | Epoch: [54/200] |  MSE: 0.30069029331207275 | Total: 2736\n"
     ]
    },
    {
     "name": "stderr",
     "output_type": "stream",
     "text": [
      "                                                       \r"
     ]
    },
    {
     "name": "stdout",
     "output_type": "stream",
     "text": [
      "Test  | Epoch: [54/200] |  MSE: 0.27968549728393555 | Total: 569\n",
      "=================================================================\n",
      "Update results\n"
     ]
    },
    {
     "name": "stderr",
     "output_type": "stream",
     "text": [
      "                                                          \r"
     ]
    },
    {
     "name": "stdout",
     "output_type": "stream",
     "text": [
      "=================================================================\n",
      "Train | Epoch: [55/200] |  MSE: 0.29332906007766724 | Total: 2757\n"
     ]
    },
    {
     "name": "stderr",
     "output_type": "stream",
     "text": [
      "                                                       \r"
     ]
    },
    {
     "name": "stdout",
     "output_type": "stream",
     "text": [
      "Test  | Epoch: [55/200] |  MSE: 0.28400641679763794 | Total: 569\n",
      "=================================================================\n",
      "1\n"
     ]
    },
    {
     "name": "stderr",
     "output_type": "stream",
     "text": [
      "                                                          \r"
     ]
    },
    {
     "name": "stdout",
     "output_type": "stream",
     "text": [
      "=================================================================\n",
      "Train | Epoch: [56/200] |  MSE: 0.29709985852241516 | Total: 2776\n"
     ]
    },
    {
     "name": "stderr",
     "output_type": "stream",
     "text": [
      "                                                       \r"
     ]
    },
    {
     "name": "stdout",
     "output_type": "stream",
     "text": [
      "Test  | Epoch: [56/200] |  MSE: 0.276265025138855 | Total: 569\n",
      "=================================================================\n",
      "Update results\n"
     ]
    },
    {
     "name": "stderr",
     "output_type": "stream",
     "text": [
      "                                                          \r"
     ]
    },
    {
     "name": "stdout",
     "output_type": "stream",
     "text": [
      "================================================================\n",
      "Train | Epoch: [57/200] |  MSE: 0.2922203838825226 | Total: 2793\n"
     ]
    },
    {
     "name": "stderr",
     "output_type": "stream",
     "text": [
      "                                                       \r"
     ]
    },
    {
     "name": "stdout",
     "output_type": "stream",
     "text": [
      "Test  | Epoch: [57/200] |  MSE: 0.28253525495529175 | Total: 569\n",
      "================================================================\n",
      "1\n"
     ]
    },
    {
     "name": "stderr",
     "output_type": "stream",
     "text": [
      "                                                          \r"
     ]
    },
    {
     "name": "stdout",
     "output_type": "stream",
     "text": [
      "================================================================\n",
      "Train | Epoch: [58/200] |  MSE: 0.2895345091819763 | Total: 2762\n"
     ]
    },
    {
     "name": "stderr",
     "output_type": "stream",
     "text": [
      "                                                       \r"
     ]
    },
    {
     "name": "stdout",
     "output_type": "stream",
     "text": [
      "Test  | Epoch: [58/200] |  MSE: 0.27162113785743713 | Total: 569\n",
      "================================================================\n",
      "Update results\n"
     ]
    },
    {
     "name": "stderr",
     "output_type": "stream",
     "text": [
      "                                                          \r"
     ]
    },
    {
     "name": "stdout",
     "output_type": "stream",
     "text": [
      "=================================================================\n",
      "Train | Epoch: [59/200] |  MSE: 0.28512147068977356 | Total: 2779\n"
     ]
    },
    {
     "name": "stderr",
     "output_type": "stream",
     "text": [
      "                                                       \r"
     ]
    },
    {
     "name": "stdout",
     "output_type": "stream",
     "text": [
      "Test  | Epoch: [59/200] |  MSE: 0.2658447027206421 | Total: 569\n",
      "=================================================================\n",
      "Update results\n"
     ]
    },
    {
     "name": "stderr",
     "output_type": "stream",
     "text": [
      "                                                          \r"
     ]
    },
    {
     "name": "stdout",
     "output_type": "stream",
     "text": [
      "================================================================\n",
      "Train | Epoch: [60/200] |  MSE: 0.2834206521511078 | Total: 2777\n"
     ]
    },
    {
     "name": "stderr",
     "output_type": "stream",
     "text": [
      "                                                       \r"
     ]
    },
    {
     "name": "stdout",
     "output_type": "stream",
     "text": [
      "Test  | Epoch: [60/200] |  MSE: 0.27555376291275024 | Total: 569\n",
      "================================================================\n",
      "1\n"
     ]
    },
    {
     "name": "stderr",
     "output_type": "stream",
     "text": [
      "                                                          \r"
     ]
    },
    {
     "name": "stdout",
     "output_type": "stream",
     "text": [
      "=================================================================\n",
      "Train | Epoch: [61/200] |  MSE: 0.27924782037734985 | Total: 2759\n"
     ]
    },
    {
     "name": "stderr",
     "output_type": "stream",
     "text": [
      "                                                       \r"
     ]
    },
    {
     "name": "stdout",
     "output_type": "stream",
     "text": [
      "Test  | Epoch: [61/200] |  MSE: 0.2743305563926697 | Total: 569\n",
      "=================================================================\n",
      "2\n"
     ]
    },
    {
     "name": "stderr",
     "output_type": "stream",
     "text": [
      "                                                          \r"
     ]
    },
    {
     "name": "stdout",
     "output_type": "stream",
     "text": [
      "=================================================================\n",
      "Train | Epoch: [62/200] |  MSE: 0.26756522059440613 | Total: 2772\n"
     ]
    },
    {
     "name": "stderr",
     "output_type": "stream",
     "text": [
      "                                                       \r"
     ]
    },
    {
     "name": "stdout",
     "output_type": "stream",
     "text": [
      "Test  | Epoch: [62/200] |  MSE: 0.2637619972229004 | Total: 569\n",
      "=================================================================\n",
      "Update results\n"
     ]
    },
    {
     "name": "stderr",
     "output_type": "stream",
     "text": [
      "                                                          \r"
     ]
    },
    {
     "name": "stdout",
     "output_type": "stream",
     "text": [
      "=================================================================\n",
      "Train | Epoch: [63/200] |  MSE: 0.27180323004722595 | Total: 2682\n"
     ]
    },
    {
     "name": "stderr",
     "output_type": "stream",
     "text": [
      "                                                       \r"
     ]
    },
    {
     "name": "stdout",
     "output_type": "stream",
     "text": [
      "Test  | Epoch: [63/200] |  MSE: 0.2544744908809662 | Total: 569\n",
      "=================================================================\n",
      "Update results\n"
     ]
    },
    {
     "name": "stderr",
     "output_type": "stream",
     "text": [
      "                                                          \r"
     ]
    },
    {
     "name": "stdout",
     "output_type": "stream",
     "text": [
      "===============================================================\n",
      "Train | Epoch: [64/200] |  MSE: 0.276414692401886 | Total: 2820\n"
     ]
    },
    {
     "name": "stderr",
     "output_type": "stream",
     "text": [
      "                                                       \r"
     ]
    },
    {
     "name": "stdout",
     "output_type": "stream",
     "text": [
      "Test  | Epoch: [64/200] |  MSE: 0.25766071677207947 | Total: 569\n",
      "===============================================================\n",
      "1\n"
     ]
    },
    {
     "name": "stderr",
     "output_type": "stream",
     "text": [
      "                                                          \r"
     ]
    },
    {
     "name": "stdout",
     "output_type": "stream",
     "text": [
      "================================================================\n",
      "Train | Epoch: [65/200] |  MSE: 0.2714657187461853 | Total: 2779\n"
     ]
    },
    {
     "name": "stderr",
     "output_type": "stream",
     "text": [
      "                                                       \r"
     ]
    },
    {
     "name": "stdout",
     "output_type": "stream",
     "text": [
      "Test  | Epoch: [65/200] |  MSE: 0.24959753453731537 | Total: 569\n",
      "================================================================\n",
      "Update results\n"
     ]
    },
    {
     "name": "stderr",
     "output_type": "stream",
     "text": [
      "                                                          \r"
     ]
    },
    {
     "name": "stdout",
     "output_type": "stream",
     "text": [
      "================================================================\n",
      "Train | Epoch: [66/200] |  MSE: 0.2605459988117218 | Total: 2710\n"
     ]
    },
    {
     "name": "stderr",
     "output_type": "stream",
     "text": [
      "                                                       \r"
     ]
    },
    {
     "name": "stdout",
     "output_type": "stream",
     "text": [
      "Test  | Epoch: [66/200] |  MSE: 0.26582247018814087 | Total: 569\n",
      "================================================================\n",
      "1\n"
     ]
    },
    {
     "name": "stderr",
     "output_type": "stream",
     "text": [
      "                                                          \r"
     ]
    },
    {
     "name": "stdout",
     "output_type": "stream",
     "text": [
      "================================================================\n",
      "Train | Epoch: [67/200] |  MSE: 0.2649744153022766 | Total: 2796\n"
     ]
    },
    {
     "name": "stderr",
     "output_type": "stream",
     "text": [
      "                                                       \r"
     ]
    },
    {
     "name": "stdout",
     "output_type": "stream",
     "text": [
      "Test  | Epoch: [67/200] |  MSE: 0.26005515456199646 | Total: 569\n",
      "================================================================\n",
      "2\n"
     ]
    },
    {
     "name": "stderr",
     "output_type": "stream",
     "text": [
      "                                                          \r"
     ]
    },
    {
     "name": "stdout",
     "output_type": "stream",
     "text": [
      "================================================================\n",
      "Train | Epoch: [68/200] |  MSE: 0.2594960629940033 | Total: 2819\n"
     ]
    },
    {
     "name": "stderr",
     "output_type": "stream",
     "text": [
      "                                                       \r"
     ]
    },
    {
     "name": "stdout",
     "output_type": "stream",
     "text": [
      "Test  | Epoch: [68/200] |  MSE: 0.24939145147800446 | Total: 569\n",
      "================================================================\n",
      "Update results\n"
     ]
    },
    {
     "name": "stderr",
     "output_type": "stream",
     "text": [
      "                                                          \r"
     ]
    },
    {
     "name": "stdout",
     "output_type": "stream",
     "text": [
      "================================================================\n",
      "Train | Epoch: [69/200] |  MSE: 0.2622089087963104 | Total: 2808\n"
     ]
    },
    {
     "name": "stderr",
     "output_type": "stream",
     "text": [
      "                                                       \r"
     ]
    },
    {
     "name": "stdout",
     "output_type": "stream",
     "text": [
      "Test  | Epoch: [69/200] |  MSE: 0.2436925172805786 | Total: 569\n",
      "================================================================\n",
      "Update results\n"
     ]
    },
    {
     "name": "stderr",
     "output_type": "stream",
     "text": [
      "                                                          \r"
     ]
    },
    {
     "name": "stdout",
     "output_type": "stream",
     "text": [
      "================================================================\n",
      "Train | Epoch: [70/200] |  MSE: 0.2551959753036499 | Total: 2732\n"
     ]
    },
    {
     "name": "stderr",
     "output_type": "stream",
     "text": [
      "                                                       \r"
     ]
    },
    {
     "name": "stdout",
     "output_type": "stream",
     "text": [
      "Test  | Epoch: [70/200] |  MSE: 0.2529354393482208 | Total: 569\n",
      "================================================================\n",
      "1\n"
     ]
    },
    {
     "name": "stderr",
     "output_type": "stream",
     "text": [
      "                                                          \r"
     ]
    },
    {
     "name": "stdout",
     "output_type": "stream",
     "text": [
      "=================================================================\n",
      "Train | Epoch: [71/200] |  MSE: 0.25224068760871887 | Total: 2742\n"
     ]
    },
    {
     "name": "stderr",
     "output_type": "stream",
     "text": [
      "                                                       \r"
     ]
    },
    {
     "name": "stdout",
     "output_type": "stream",
     "text": [
      "Test  | Epoch: [71/200] |  MSE: 0.2549227476119995 | Total: 569\n",
      "=================================================================\n",
      "2\n"
     ]
    },
    {
     "name": "stderr",
     "output_type": "stream",
     "text": [
      "                                                          \r"
     ]
    },
    {
     "name": "stdout",
     "output_type": "stream",
     "text": [
      "=================================================================\n",
      "Train | Epoch: [72/200] |  MSE: 0.25447508692741394 | Total: 2783\n"
     ]
    },
    {
     "name": "stderr",
     "output_type": "stream",
     "text": [
      "                                                       \r"
     ]
    },
    {
     "name": "stdout",
     "output_type": "stream",
     "text": [
      "Test  | Epoch: [72/200] |  MSE: 0.24470201134681702 | Total: 569\n",
      "=================================================================\n",
      "3\n"
     ]
    },
    {
     "name": "stderr",
     "output_type": "stream",
     "text": [
      "                                                          \r"
     ]
    },
    {
     "name": "stdout",
     "output_type": "stream",
     "text": [
      "=================================================================\n",
      "Train | Epoch: [73/200] |  MSE: 0.24866501986980438 | Total: 2855\n"
     ]
    },
    {
     "name": "stderr",
     "output_type": "stream",
     "text": [
      "                                                       \r"
     ]
    },
    {
     "name": "stdout",
     "output_type": "stream",
     "text": [
      "Test  | Epoch: [73/200] |  MSE: 0.2453499138355255 | Total: 569\n",
      "=================================================================\n",
      "4\n"
     ]
    },
    {
     "name": "stderr",
     "output_type": "stream",
     "text": [
      "                                                          \r"
     ]
    },
    {
     "name": "stdout",
     "output_type": "stream",
     "text": [
      "=================================================================\n",
      "Train | Epoch: [74/200] |  MSE: 0.25049591064453125 | Total: 2779\n"
     ]
    },
    {
     "name": "stderr",
     "output_type": "stream",
     "text": [
      "                                                       \r"
     ]
    },
    {
     "name": "stdout",
     "output_type": "stream",
     "text": [
      "Test  | Epoch: [74/200] |  MSE: 0.2352817803621292 | Total: 569\n",
      "=================================================================\n",
      "Update results\n"
     ]
    },
    {
     "name": "stderr",
     "output_type": "stream",
     "text": [
      "                                                          \r"
     ]
    },
    {
     "name": "stdout",
     "output_type": "stream",
     "text": [
      "=================================================================\n",
      "Train | Epoch: [75/200] |  MSE: 0.24108006060123444 | Total: 2737\n"
     ]
    },
    {
     "name": "stderr",
     "output_type": "stream",
     "text": [
      "                                                       \r"
     ]
    },
    {
     "name": "stdout",
     "output_type": "stream",
     "text": [
      "Test  | Epoch: [75/200] |  MSE: 0.24438680708408356 | Total: 569\n",
      "=================================================================\n",
      "1\n"
     ]
    },
    {
     "name": "stderr",
     "output_type": "stream",
     "text": [
      "                                                          \r"
     ]
    },
    {
     "name": "stdout",
     "output_type": "stream",
     "text": [
      "=================================================================\n",
      "Train | Epoch: [76/200] |  MSE: 0.23988080024719238 | Total: 2788\n"
     ]
    },
    {
     "name": "stderr",
     "output_type": "stream",
     "text": [
      "                                                       \r"
     ]
    },
    {
     "name": "stdout",
     "output_type": "stream",
     "text": [
      "Test  | Epoch: [76/200] |  MSE: 0.23327136039733887 | Total: 569\n",
      "=================================================================\n",
      "Update results\n"
     ]
    },
    {
     "name": "stderr",
     "output_type": "stream",
     "text": [
      "                                                          \r"
     ]
    },
    {
     "name": "stdout",
     "output_type": "stream",
     "text": [
      "=================================================================\n",
      "Train | Epoch: [77/200] |  MSE: 0.23730768263339996 | Total: 2812\n"
     ]
    },
    {
     "name": "stderr",
     "output_type": "stream",
     "text": [
      "                                                       \r"
     ]
    },
    {
     "name": "stdout",
     "output_type": "stream",
     "text": [
      "Test  | Epoch: [77/200] |  MSE: 0.24604947865009308 | Total: 569\n",
      "=================================================================\n",
      "1\n"
     ]
    },
    {
     "name": "stderr",
     "output_type": "stream",
     "text": [
      "                                                          \r"
     ]
    },
    {
     "name": "stdout",
     "output_type": "stream",
     "text": [
      "=================================================================\n",
      "Train | Epoch: [78/200] |  MSE: 0.23976093530654907 | Total: 2720\n"
     ]
    },
    {
     "name": "stderr",
     "output_type": "stream",
     "text": [
      "                                                       \r"
     ]
    },
    {
     "name": "stdout",
     "output_type": "stream",
     "text": [
      "Test  | Epoch: [78/200] |  MSE: 0.22937548160552979 | Total: 569\n",
      "=================================================================\n",
      "Update results\n"
     ]
    },
    {
     "name": "stderr",
     "output_type": "stream",
     "text": [
      "                                                          \r"
     ]
    },
    {
     "name": "stdout",
     "output_type": "stream",
     "text": [
      "===============================================================\n",
      "Train | Epoch: [79/200] |  MSE: 0.232949361205101 | Total: 2782\n"
     ]
    },
    {
     "name": "stderr",
     "output_type": "stream",
     "text": [
      "                                                       \r"
     ]
    },
    {
     "name": "stdout",
     "output_type": "stream",
     "text": [
      "Test  | Epoch: [79/200] |  MSE: 0.23048079013824463 | Total: 569\n",
      "===============================================================\n",
      "1\n"
     ]
    },
    {
     "name": "stderr",
     "output_type": "stream",
     "text": [
      "                                                          \r"
     ]
    },
    {
     "name": "stdout",
     "output_type": "stream",
     "text": [
      "=================================================================\n",
      "Train | Epoch: [80/200] |  MSE: 0.23579196631908417 | Total: 2756\n"
     ]
    },
    {
     "name": "stderr",
     "output_type": "stream",
     "text": [
      "                                                       \r"
     ]
    },
    {
     "name": "stdout",
     "output_type": "stream",
     "text": [
      "Test  | Epoch: [80/200] |  MSE: 0.24081648886203766 | Total: 569\n",
      "=================================================================\n",
      "2\n"
     ]
    },
    {
     "name": "stderr",
     "output_type": "stream",
     "text": [
      "                                                          \r"
     ]
    },
    {
     "name": "stdout",
     "output_type": "stream",
     "text": [
      "=================================================================\n",
      "Train | Epoch: [81/200] |  MSE: 0.23591358959674835 | Total: 2774\n"
     ]
    },
    {
     "name": "stderr",
     "output_type": "stream",
     "text": [
      "                                                       \r"
     ]
    },
    {
     "name": "stdout",
     "output_type": "stream",
     "text": [
      "Test  | Epoch: [81/200] |  MSE: 0.23154805600643158 | Total: 569\n",
      "=================================================================\n",
      "3\n"
     ]
    },
    {
     "name": "stderr",
     "output_type": "stream",
     "text": [
      "                                                          \r"
     ]
    },
    {
     "name": "stdout",
     "output_type": "stream",
     "text": [
      "=================================================================\n",
      "Train | Epoch: [82/200] |  MSE: 0.23806032538414001 | Total: 2811\n"
     ]
    },
    {
     "name": "stderr",
     "output_type": "stream",
     "text": [
      "                                                       \r"
     ]
    },
    {
     "name": "stdout",
     "output_type": "stream",
     "text": [
      "Test  | Epoch: [82/200] |  MSE: 0.22679734230041504 | Total: 569\n",
      "=================================================================\n",
      "Update results\n"
     ]
    },
    {
     "name": "stderr",
     "output_type": "stream",
     "text": [
      "                                                          \r"
     ]
    },
    {
     "name": "stdout",
     "output_type": "stream",
     "text": [
      "=================================================================\n",
      "Train | Epoch: [83/200] |  MSE: 0.23097853362560272 | Total: 2820\n"
     ]
    },
    {
     "name": "stderr",
     "output_type": "stream",
     "text": [
      "                                                       \r"
     ]
    },
    {
     "name": "stdout",
     "output_type": "stream",
     "text": [
      "Test  | Epoch: [83/200] |  MSE: 0.23376582562923431 | Total: 569\n",
      "=================================================================\n",
      "1\n"
     ]
    },
    {
     "name": "stderr",
     "output_type": "stream",
     "text": [
      "                                                          \r"
     ]
    },
    {
     "name": "stdout",
     "output_type": "stream",
     "text": [
      "=================================================================\n",
      "Train | Epoch: [84/200] |  MSE: 0.22866694629192352 | Total: 2786\n"
     ]
    },
    {
     "name": "stderr",
     "output_type": "stream",
     "text": [
      "                                                       \r"
     ]
    },
    {
     "name": "stdout",
     "output_type": "stream",
     "text": [
      "Test  | Epoch: [84/200] |  MSE: 0.23275820910930634 | Total: 569\n",
      "=================================================================\n",
      "2\n"
     ]
    },
    {
     "name": "stderr",
     "output_type": "stream",
     "text": [
      "                                                          \r"
     ]
    },
    {
     "name": "stdout",
     "output_type": "stream",
     "text": [
      "=================================================================\n",
      "Train | Epoch: [85/200] |  MSE: 0.23099686205387115 | Total: 2779\n"
     ]
    },
    {
     "name": "stderr",
     "output_type": "stream",
     "text": [
      "                                                       \r"
     ]
    },
    {
     "name": "stdout",
     "output_type": "stream",
     "text": [
      "Test  | Epoch: [85/200] |  MSE: 0.21761168539524078 | Total: 569\n",
      "=================================================================\n",
      "Update results\n"
     ]
    },
    {
     "name": "stderr",
     "output_type": "stream",
     "text": [
      "                                                          \r"
     ]
    },
    {
     "name": "stdout",
     "output_type": "stream",
     "text": [
      "=================================================================\n",
      "Train | Epoch: [86/200] |  MSE: 0.22733579576015472 | Total: 2756\n"
     ]
    },
    {
     "name": "stderr",
     "output_type": "stream",
     "text": [
      "                                                       \r"
     ]
    },
    {
     "name": "stdout",
     "output_type": "stream",
     "text": [
      "Test  | Epoch: [86/200] |  MSE: 0.21943938732147217 | Total: 569\n",
      "=================================================================\n",
      "1\n"
     ]
    },
    {
     "name": "stderr",
     "output_type": "stream",
     "text": [
      "                                                          \r"
     ]
    },
    {
     "name": "stdout",
     "output_type": "stream",
     "text": [
      "================================================================\n",
      "Train | Epoch: [87/200] |  MSE: 0.2246553599834442 | Total: 2725\n"
     ]
    },
    {
     "name": "stderr",
     "output_type": "stream",
     "text": [
      "                                                       \r"
     ]
    },
    {
     "name": "stdout",
     "output_type": "stream",
     "text": [
      "Test  | Epoch: [87/200] |  MSE: 0.21918998658657074 | Total: 569\n",
      "================================================================\n",
      "2\n"
     ]
    },
    {
     "name": "stderr",
     "output_type": "stream",
     "text": [
      "                                                          \r"
     ]
    },
    {
     "name": "stdout",
     "output_type": "stream",
     "text": [
      "=================================================================\n",
      "Train | Epoch: [88/200] |  MSE: 0.22526350617408752 | Total: 2899\n"
     ]
    },
    {
     "name": "stderr",
     "output_type": "stream",
     "text": [
      "                                                       \r"
     ]
    },
    {
     "name": "stdout",
     "output_type": "stream",
     "text": [
      "Test  | Epoch: [88/200] |  MSE: 0.229220449924469 | Total: 569\n",
      "=================================================================\n",
      "3\n"
     ]
    },
    {
     "name": "stderr",
     "output_type": "stream",
     "text": [
      "                                                          \r"
     ]
    },
    {
     "name": "stdout",
     "output_type": "stream",
     "text": [
      "================================================================\n",
      "Train | Epoch: [89/200] |  MSE: 0.2190829962491989 | Total: 2756\n"
     ]
    },
    {
     "name": "stderr",
     "output_type": "stream",
     "text": [
      "                                                       \r"
     ]
    },
    {
     "name": "stdout",
     "output_type": "stream",
     "text": [
      "Test  | Epoch: [89/200] |  MSE: 0.21841058135032654 | Total: 569\n",
      "================================================================\n",
      "4\n"
     ]
    },
    {
     "name": "stderr",
     "output_type": "stream",
     "text": [
      "                                                          \r"
     ]
    },
    {
     "name": "stdout",
     "output_type": "stream",
     "text": [
      "================================================================\n",
      "Train | Epoch: [90/200] |  MSE: 0.2242937684059143 | Total: 2714\n"
     ]
    },
    {
     "name": "stderr",
     "output_type": "stream",
     "text": [
      "                                                       \r"
     ]
    },
    {
     "name": "stdout",
     "output_type": "stream",
     "text": [
      "Test  | Epoch: [90/200] |  MSE: 0.23429785668849945 | Total: 569\n",
      "================================================================\n",
      "5\n",
      "2.5e-05\n"
     ]
    },
    {
     "name": "stderr",
     "output_type": "stream",
     "text": [
      "                                                          \r"
     ]
    },
    {
     "name": "stdout",
     "output_type": "stream",
     "text": [
      "================================================================\n",
      "Train | Epoch: [91/200] |  MSE: 0.2140103429555893 | Total: 2805\n"
     ]
    },
    {
     "name": "stderr",
     "output_type": "stream",
     "text": [
      "                                                       \r"
     ]
    },
    {
     "name": "stdout",
     "output_type": "stream",
     "text": [
      "Test  | Epoch: [91/200] |  MSE: 0.20338666439056396 | Total: 569\n",
      "================================================================\n",
      "Update results\n"
     ]
    },
    {
     "name": "stderr",
     "output_type": "stream",
     "text": [
      "                                                          \r"
     ]
    },
    {
     "name": "stdout",
     "output_type": "stream",
     "text": [
      "=================================================================\n",
      "Train | Epoch: [92/200] |  MSE: 0.21286293864250183 | Total: 2720\n"
     ]
    },
    {
     "name": "stderr",
     "output_type": "stream",
     "text": [
      "                                                       \r"
     ]
    },
    {
     "name": "stdout",
     "output_type": "stream",
     "text": [
      "Test  | Epoch: [92/200] |  MSE: 0.20610952377319336 | Total: 569\n",
      "=================================================================\n",
      "1\n"
     ]
    },
    {
     "name": "stderr",
     "output_type": "stream",
     "text": [
      "                                                          \r"
     ]
    },
    {
     "name": "stdout",
     "output_type": "stream",
     "text": [
      "=================================================================\n",
      "Train | Epoch: [93/200] |  MSE: 0.21082107722759247 | Total: 2731\n"
     ]
    },
    {
     "name": "stderr",
     "output_type": "stream",
     "text": [
      "                                                       \r"
     ]
    },
    {
     "name": "stdout",
     "output_type": "stream",
     "text": [
      "Test  | Epoch: [93/200] |  MSE: 0.20428386330604553 | Total: 569\n",
      "=================================================================\n",
      "2\n"
     ]
    },
    {
     "name": "stderr",
     "output_type": "stream",
     "text": [
      "                                                          \r"
     ]
    },
    {
     "name": "stdout",
     "output_type": "stream",
     "text": [
      "================================================================\n",
      "Train | Epoch: [94/200] |  MSE: 0.2124958038330078 | Total: 2738\n"
     ]
    },
    {
     "name": "stderr",
     "output_type": "stream",
     "text": [
      "                                                       \r"
     ]
    },
    {
     "name": "stdout",
     "output_type": "stream",
     "text": [
      "Test  | Epoch: [94/200] |  MSE: 0.20643284916877747 | Total: 569\n",
      "================================================================\n",
      "3\n"
     ]
    },
    {
     "name": "stderr",
     "output_type": "stream",
     "text": [
      "                                                          \r"
     ]
    },
    {
     "name": "stdout",
     "output_type": "stream",
     "text": [
      "=================================================================\n",
      "Train | Epoch: [95/200] |  MSE: 0.20723137259483337 | Total: 2702\n"
     ]
    },
    {
     "name": "stderr",
     "output_type": "stream",
     "text": [
      "                                                       \r"
     ]
    },
    {
     "name": "stdout",
     "output_type": "stream",
     "text": [
      "Test  | Epoch: [95/200] |  MSE: 0.20161989331245422 | Total: 569\n",
      "=================================================================\n",
      "Update results\n"
     ]
    },
    {
     "name": "stderr",
     "output_type": "stream",
     "text": [
      "                                                          \r"
     ]
    },
    {
     "name": "stdout",
     "output_type": "stream",
     "text": [
      "=================================================================\n",
      "Train | Epoch: [96/200] |  MSE: 0.20732074975967407 | Total: 2706\n"
     ]
    },
    {
     "name": "stderr",
     "output_type": "stream",
     "text": [
      "                                                       \r"
     ]
    },
    {
     "name": "stdout",
     "output_type": "stream",
     "text": [
      "Test  | Epoch: [96/200] |  MSE: 0.20532700419425964 | Total: 569\n",
      "=================================================================\n",
      "1\n"
     ]
    },
    {
     "name": "stderr",
     "output_type": "stream",
     "text": [
      "                                                          \r"
     ]
    },
    {
     "name": "stdout",
     "output_type": "stream",
     "text": [
      "=================================================================\n",
      "Train | Epoch: [97/200] |  MSE: 0.20691096782684326 | Total: 2801\n"
     ]
    },
    {
     "name": "stderr",
     "output_type": "stream",
     "text": [
      "                                                       \r"
     ]
    },
    {
     "name": "stdout",
     "output_type": "stream",
     "text": [
      "Test  | Epoch: [97/200] |  MSE: 0.20223397016525269 | Total: 569\n",
      "=================================================================\n",
      "2\n"
     ]
    },
    {
     "name": "stderr",
     "output_type": "stream",
     "text": [
      "                                                          \r"
     ]
    },
    {
     "name": "stdout",
     "output_type": "stream",
     "text": [
      "================================================================\n",
      "Train | Epoch: [98/200] |  MSE: 0.2050020843744278 | Total: 2767\n"
     ]
    },
    {
     "name": "stderr",
     "output_type": "stream",
     "text": [
      "                                                       \r"
     ]
    },
    {
     "name": "stdout",
     "output_type": "stream",
     "text": [
      "Test  | Epoch: [98/200] |  MSE: 0.1998400092124939 | Total: 569\n",
      "================================================================\n",
      "Update results\n"
     ]
    },
    {
     "name": "stderr",
     "output_type": "stream",
     "text": [
      "                                                          \r"
     ]
    },
    {
     "name": "stdout",
     "output_type": "stream",
     "text": [
      "=================================================================\n",
      "Train | Epoch: [99/200] |  MSE: 0.20696912705898285 | Total: 2797\n"
     ]
    },
    {
     "name": "stderr",
     "output_type": "stream",
     "text": [
      "                                                       \r"
     ]
    },
    {
     "name": "stdout",
     "output_type": "stream",
     "text": [
      "Test  | Epoch: [99/200] |  MSE: 0.1995423138141632 | Total: 569\n",
      "=================================================================\n",
      "Update results\n"
     ]
    },
    {
     "name": "stderr",
     "output_type": "stream",
     "text": [
      "                                                          \r"
     ]
    },
    {
     "name": "stdout",
     "output_type": "stream",
     "text": [
      "==================================================================\n",
      "Train | Epoch: [100/200] |  MSE: 0.21050474047660828 | Total: 2785\n"
     ]
    },
    {
     "name": "stderr",
     "output_type": "stream",
     "text": [
      "                                                       \r"
     ]
    },
    {
     "name": "stdout",
     "output_type": "stream",
     "text": [
      "Test  | Epoch: [100/200] |  MSE: 0.19841212034225464 | Total: 569\n",
      "==================================================================\n",
      "Update results\n"
     ]
    },
    {
     "name": "stderr",
     "output_type": "stream",
     "text": [
      "                                                          \r"
     ]
    },
    {
     "name": "stdout",
     "output_type": "stream",
     "text": [
      "==================================================================\n",
      "Train | Epoch: [101/200] |  MSE: 0.20547127723693848 | Total: 2747\n"
     ]
    },
    {
     "name": "stderr",
     "output_type": "stream",
     "text": [
      "                                                       \r"
     ]
    },
    {
     "name": "stdout",
     "output_type": "stream",
     "text": [
      "Test  | Epoch: [101/200] |  MSE: 0.20103541016578674 | Total: 569\n",
      "==================================================================\n",
      "1\n"
     ]
    },
    {
     "name": "stderr",
     "output_type": "stream",
     "text": [
      "                                                          \r"
     ]
    },
    {
     "name": "stdout",
     "output_type": "stream",
     "text": [
      "==================================================================\n",
      "Train | Epoch: [102/200] |  MSE: 0.20332956314086914 | Total: 2826\n"
     ]
    },
    {
     "name": "stderr",
     "output_type": "stream",
     "text": [
      "                                                       \r"
     ]
    },
    {
     "name": "stdout",
     "output_type": "stream",
     "text": [
      "Test  | Epoch: [102/200] |  MSE: 0.19767595827579498 | Total: 569\n",
      "==================================================================\n",
      "Update results\n"
     ]
    },
    {
     "name": "stderr",
     "output_type": "stream",
     "text": [
      "                                                          \r"
     ]
    },
    {
     "name": "stdout",
     "output_type": "stream",
     "text": [
      "=================================================================\n",
      "Train | Epoch: [103/200] |  MSE: 0.2030521035194397 | Total: 2774\n"
     ]
    },
    {
     "name": "stderr",
     "output_type": "stream",
     "text": [
      "                                                       \r"
     ]
    },
    {
     "name": "stdout",
     "output_type": "stream",
     "text": [
      "Test  | Epoch: [103/200] |  MSE: 0.20170190930366516 | Total: 569\n",
      "=================================================================\n",
      "1\n"
     ]
    },
    {
     "name": "stderr",
     "output_type": "stream",
     "text": [
      "                                                          \r"
     ]
    },
    {
     "name": "stdout",
     "output_type": "stream",
     "text": [
      "==================================================================\n",
      "Train | Epoch: [104/200] |  MSE: 0.20004229247570038 | Total: 2791\n"
     ]
    },
    {
     "name": "stderr",
     "output_type": "stream",
     "text": [
      "                                                       \r"
     ]
    },
    {
     "name": "stdout",
     "output_type": "stream",
     "text": [
      "Test  | Epoch: [104/200] |  MSE: 0.19334957003593445 | Total: 569\n",
      "==================================================================\n",
      "Update results\n"
     ]
    },
    {
     "name": "stderr",
     "output_type": "stream",
     "text": [
      "                                                          \r"
     ]
    },
    {
     "name": "stdout",
     "output_type": "stream",
     "text": [
      "==================================================================\n",
      "Train | Epoch: [105/200] |  MSE: 0.19828476011753082 | Total: 2794\n"
     ]
    },
    {
     "name": "stderr",
     "output_type": "stream",
     "text": [
      "                                                       \r"
     ]
    },
    {
     "name": "stdout",
     "output_type": "stream",
     "text": [
      "Test  | Epoch: [105/200] |  MSE: 0.19378036260604858 | Total: 569\n",
      "==================================================================\n",
      "1\n"
     ]
    },
    {
     "name": "stderr",
     "output_type": "stream",
     "text": [
      "                                                          \r"
     ]
    },
    {
     "name": "stdout",
     "output_type": "stream",
     "text": [
      "=================================================================\n",
      "Train | Epoch: [106/200] |  MSE: 0.1957552284002304 | Total: 2730\n"
     ]
    },
    {
     "name": "stderr",
     "output_type": "stream",
     "text": [
      "                                                       \r"
     ]
    },
    {
     "name": "stdout",
     "output_type": "stream",
     "text": [
      "Test  | Epoch: [106/200] |  MSE: 0.2151637226343155 | Total: 569\n",
      "=================================================================\n",
      "2\n"
     ]
    },
    {
     "name": "stderr",
     "output_type": "stream",
     "text": [
      "                                                          \r"
     ]
    },
    {
     "name": "stdout",
     "output_type": "stream",
     "text": [
      "=================================================================\n",
      "Train | Epoch: [107/200] |  MSE: 0.1969013810157776 | Total: 2813\n"
     ]
    },
    {
     "name": "stderr",
     "output_type": "stream",
     "text": [
      "                                                       \r"
     ]
    },
    {
     "name": "stdout",
     "output_type": "stream",
     "text": [
      "Test  | Epoch: [107/200] |  MSE: 0.1991284340620041 | Total: 569\n",
      "=================================================================\n",
      "3\n"
     ]
    },
    {
     "name": "stderr",
     "output_type": "stream",
     "text": [
      "                                                          \r"
     ]
    },
    {
     "name": "stdout",
     "output_type": "stream",
     "text": [
      "==================================================================\n",
      "Train | Epoch: [108/200] |  MSE: 0.19798828661441803 | Total: 2758\n"
     ]
    },
    {
     "name": "stderr",
     "output_type": "stream",
     "text": [
      "                                                       \r"
     ]
    },
    {
     "name": "stdout",
     "output_type": "stream",
     "text": [
      "Test  | Epoch: [108/200] |  MSE: 0.19499237835407257 | Total: 569\n",
      "==================================================================\n",
      "4\n"
     ]
    },
    {
     "name": "stderr",
     "output_type": "stream",
     "text": [
      "                                                          \r"
     ]
    },
    {
     "name": "stdout",
     "output_type": "stream",
     "text": [
      "==================================================================\n",
      "Train | Epoch: [109/200] |  MSE: 0.19620056450366974 | Total: 2732\n"
     ]
    },
    {
     "name": "stderr",
     "output_type": "stream",
     "text": [
      "                                                       \r"
     ]
    },
    {
     "name": "stdout",
     "output_type": "stream",
     "text": [
      "Test  | Epoch: [109/200] |  MSE: 0.19493243098258972 | Total: 569\n",
      "==================================================================\n",
      "5\n",
      "1.25e-05\n"
     ]
    },
    {
     "name": "stderr",
     "output_type": "stream",
     "text": [
      "                                                          \r"
     ]
    },
    {
     "name": "stdout",
     "output_type": "stream",
     "text": [
      "==================================================================\n",
      "Train | Epoch: [110/200] |  MSE: 0.19430036842823029 | Total: 2739\n"
     ]
    },
    {
     "name": "stderr",
     "output_type": "stream",
     "text": [
      "                                                       \r"
     ]
    },
    {
     "name": "stdout",
     "output_type": "stream",
     "text": [
      "Test  | Epoch: [110/200] |  MSE: 0.19078759849071503 | Total: 569\n",
      "==================================================================\n",
      "Update results\n"
     ]
    },
    {
     "name": "stderr",
     "output_type": "stream",
     "text": [
      "                                                          \r"
     ]
    },
    {
     "name": "stdout",
     "output_type": "stream",
     "text": [
      "==================================================================\n",
      "Train | Epoch: [111/200] |  MSE: 0.19301557540893555 | Total: 2816\n"
     ]
    },
    {
     "name": "stderr",
     "output_type": "stream",
     "text": [
      "                                                       \r"
     ]
    },
    {
     "name": "stdout",
     "output_type": "stream",
     "text": [
      "Test  | Epoch: [111/200] |  MSE: 0.18942971527576447 | Total: 569\n",
      "==================================================================\n",
      "Update results\n"
     ]
    },
    {
     "name": "stderr",
     "output_type": "stream",
     "text": [
      "                                                          \r"
     ]
    },
    {
     "name": "stdout",
     "output_type": "stream",
     "text": [
      "================================================================\n",
      "Train | Epoch: [112/200] |  MSE: 0.192060649394989 | Total: 2770\n"
     ]
    },
    {
     "name": "stderr",
     "output_type": "stream",
     "text": [
      "                                                       \r"
     ]
    },
    {
     "name": "stdout",
     "output_type": "stream",
     "text": [
      "Test  | Epoch: [112/200] |  MSE: 0.18904559314250946 | Total: 569\n",
      "================================================================\n",
      "Update results\n"
     ]
    },
    {
     "name": "stderr",
     "output_type": "stream",
     "text": [
      "                                                          \r"
     ]
    },
    {
     "name": "stdout",
     "output_type": "stream",
     "text": [
      "==================================================================\n",
      "Train | Epoch: [113/200] |  MSE: 0.19488397240638733 | Total: 2721\n"
     ]
    },
    {
     "name": "stderr",
     "output_type": "stream",
     "text": [
      "                                                       \r"
     ]
    },
    {
     "name": "stdout",
     "output_type": "stream",
     "text": [
      "Test  | Epoch: [113/200] |  MSE: 0.19134116172790527 | Total: 569\n",
      "==================================================================\n",
      "1\n"
     ]
    },
    {
     "name": "stderr",
     "output_type": "stream",
     "text": [
      "                                                          \r"
     ]
    },
    {
     "name": "stdout",
     "output_type": "stream",
     "text": [
      "=================================================================\n",
      "Train | Epoch: [114/200] |  MSE: 0.1912030577659607 | Total: 2770\n"
     ]
    },
    {
     "name": "stderr",
     "output_type": "stream",
     "text": [
      "                                                       \r"
     ]
    },
    {
     "name": "stdout",
     "output_type": "stream",
     "text": [
      "Test  | Epoch: [114/200] |  MSE: 0.18854787945747375 | Total: 569\n",
      "=================================================================\n",
      "Update results\n"
     ]
    },
    {
     "name": "stderr",
     "output_type": "stream",
     "text": [
      "                                                          \r"
     ]
    },
    {
     "name": "stdout",
     "output_type": "stream",
     "text": [
      "==================================================================\n",
      "Train | Epoch: [115/200] |  MSE: 0.19179333746433258 | Total: 2739\n"
     ]
    },
    {
     "name": "stderr",
     "output_type": "stream",
     "text": [
      "                                                       \r"
     ]
    },
    {
     "name": "stdout",
     "output_type": "stream",
     "text": [
      "Test  | Epoch: [115/200] |  MSE: 0.19087854027748108 | Total: 569\n",
      "==================================================================\n",
      "1\n"
     ]
    },
    {
     "name": "stderr",
     "output_type": "stream",
     "text": [
      "                                                          \r"
     ]
    },
    {
     "name": "stdout",
     "output_type": "stream",
     "text": [
      "=================================================================\n",
      "Train | Epoch: [116/200] |  MSE: 0.1939404457807541 | Total: 2814\n"
     ]
    },
    {
     "name": "stderr",
     "output_type": "stream",
     "text": [
      "                                                       \r"
     ]
    },
    {
     "name": "stdout",
     "output_type": "stream",
     "text": [
      "Test  | Epoch: [116/200] |  MSE: 0.18690186738967896 | Total: 569\n",
      "=================================================================\n",
      "Update results\n"
     ]
    },
    {
     "name": "stderr",
     "output_type": "stream",
     "text": [
      "                                                          \r"
     ]
    },
    {
     "name": "stdout",
     "output_type": "stream",
     "text": [
      "==================================================================\n",
      "Train | Epoch: [117/200] |  MSE: 0.18925558030605316 | Total: 2767\n"
     ]
    },
    {
     "name": "stderr",
     "output_type": "stream",
     "text": [
      "                                                       \r"
     ]
    },
    {
     "name": "stdout",
     "output_type": "stream",
     "text": [
      "Test  | Epoch: [117/200] |  MSE: 0.19366836547851562 | Total: 569\n",
      "==================================================================\n",
      "1\n"
     ]
    },
    {
     "name": "stderr",
     "output_type": "stream",
     "text": [
      "                                                          \r"
     ]
    },
    {
     "name": "stdout",
     "output_type": "stream",
     "text": [
      "==================================================================\n",
      "Train | Epoch: [118/200] |  MSE: 0.19283291697502136 | Total: 2861\n"
     ]
    },
    {
     "name": "stderr",
     "output_type": "stream",
     "text": [
      "                                                       \r"
     ]
    },
    {
     "name": "stdout",
     "output_type": "stream",
     "text": [
      "Test  | Epoch: [118/200] |  MSE: 0.1878204047679901 | Total: 569\n",
      "==================================================================\n",
      "2\n"
     ]
    },
    {
     "name": "stderr",
     "output_type": "stream",
     "text": [
      "                                                          \r"
     ]
    },
    {
     "name": "stdout",
     "output_type": "stream",
     "text": [
      "==================================================================\n",
      "Train | Epoch: [119/200] |  MSE: 0.18855342268943787 | Total: 2796\n"
     ]
    },
    {
     "name": "stderr",
     "output_type": "stream",
     "text": [
      "                                                       \r"
     ]
    },
    {
     "name": "stdout",
     "output_type": "stream",
     "text": [
      "Test  | Epoch: [119/200] |  MSE: 0.19174760580062866 | Total: 569\n",
      "==================================================================\n",
      "3\n"
     ]
    },
    {
     "name": "stderr",
     "output_type": "stream",
     "text": [
      "                                                          \r"
     ]
    },
    {
     "name": "stdout",
     "output_type": "stream",
     "text": [
      "==================================================================\n",
      "Train | Epoch: [120/200] |  MSE: 0.18364690244197845 | Total: 2717\n"
     ]
    },
    {
     "name": "stderr",
     "output_type": "stream",
     "text": [
      "                                                       \r"
     ]
    },
    {
     "name": "stdout",
     "output_type": "stream",
     "text": [
      "Test  | Epoch: [120/200] |  MSE: 0.18931381404399872 | Total: 569\n",
      "==================================================================\n",
      "4\n"
     ]
    },
    {
     "name": "stderr",
     "output_type": "stream",
     "text": [
      "                                                          \r"
     ]
    },
    {
     "name": "stdout",
     "output_type": "stream",
     "text": [
      "==================================================================\n",
      "Train | Epoch: [121/200] |  MSE: 0.19049853086471558 | Total: 2774\n"
     ]
    },
    {
     "name": "stderr",
     "output_type": "stream",
     "text": [
      "                                                       \r"
     ]
    },
    {
     "name": "stdout",
     "output_type": "stream",
     "text": [
      "Test  | Epoch: [121/200] |  MSE: 0.18862690031528473 | Total: 569\n",
      "==================================================================\n",
      "5\n",
      "6.25e-06\n"
     ]
    },
    {
     "name": "stderr",
     "output_type": "stream",
     "text": [
      "                                                          \r"
     ]
    },
    {
     "name": "stdout",
     "output_type": "stream",
     "text": [
      "==================================================================\n",
      "Train | Epoch: [122/200] |  MSE: 0.19146066904067993 | Total: 2852\n"
     ]
    },
    {
     "name": "stderr",
     "output_type": "stream",
     "text": [
      "                                                       \r"
     ]
    },
    {
     "name": "stdout",
     "output_type": "stream",
     "text": [
      "Test  | Epoch: [122/200] |  MSE: 0.1845310777425766 | Total: 569\n",
      "==================================================================\n",
      "Update results\n"
     ]
    },
    {
     "name": "stderr",
     "output_type": "stream",
     "text": [
      "                                                          \r"
     ]
    },
    {
     "name": "stdout",
     "output_type": "stream",
     "text": [
      "==================================================================\n",
      "Train | Epoch: [123/200] |  MSE: 0.18883709609508514 | Total: 2720\n"
     ]
    },
    {
     "name": "stderr",
     "output_type": "stream",
     "text": [
      "                                                       \r"
     ]
    },
    {
     "name": "stdout",
     "output_type": "stream",
     "text": [
      "Test  | Epoch: [123/200] |  MSE: 0.18541403114795685 | Total: 569\n",
      "==================================================================\n",
      "1\n"
     ]
    },
    {
     "name": "stderr",
     "output_type": "stream",
     "text": [
      "                                                          \r"
     ]
    },
    {
     "name": "stdout",
     "output_type": "stream",
     "text": [
      "==================================================================\n",
      "Train | Epoch: [124/200] |  MSE: 0.18815122544765472 | Total: 2730\n"
     ]
    },
    {
     "name": "stderr",
     "output_type": "stream",
     "text": [
      "                                                       \r"
     ]
    },
    {
     "name": "stdout",
     "output_type": "stream",
     "text": [
      "Test  | Epoch: [124/200] |  MSE: 0.18405087292194366 | Total: 569\n",
      "==================================================================\n",
      "Update results\n"
     ]
    },
    {
     "name": "stderr",
     "output_type": "stream",
     "text": [
      "                                                          \r"
     ]
    },
    {
     "name": "stdout",
     "output_type": "stream",
     "text": [
      "==================================================================\n",
      "Train | Epoch: [125/200] |  MSE: 0.18543557822704315 | Total: 2668\n"
     ]
    },
    {
     "name": "stderr",
     "output_type": "stream",
     "text": [
      "                                                       \r"
     ]
    },
    {
     "name": "stdout",
     "output_type": "stream",
     "text": [
      "Test  | Epoch: [125/200] |  MSE: 0.18404683470726013 | Total: 569\n",
      "==================================================================\n",
      "Update results\n"
     ]
    },
    {
     "name": "stderr",
     "output_type": "stream",
     "text": [
      "                                                          \r"
     ]
    },
    {
     "name": "stdout",
     "output_type": "stream",
     "text": [
      "==================================================================\n",
      "Train | Epoch: [126/200] |  MSE: 0.18781378865242004 | Total: 2779\n"
     ]
    },
    {
     "name": "stderr",
     "output_type": "stream",
     "text": [
      "                                                       \r"
     ]
    },
    {
     "name": "stdout",
     "output_type": "stream",
     "text": [
      "Test  | Epoch: [126/200] |  MSE: 0.18464341759681702 | Total: 569\n",
      "==================================================================\n",
      "1\n"
     ]
    },
    {
     "name": "stderr",
     "output_type": "stream",
     "text": [
      "                                                          \r"
     ]
    },
    {
     "name": "stdout",
     "output_type": "stream",
     "text": [
      "================================================================\n",
      "Train | Epoch: [127/200] |  MSE: 0.184766486287117 | Total: 2774\n"
     ]
    },
    {
     "name": "stderr",
     "output_type": "stream",
     "text": [
      "                                                       \r"
     ]
    },
    {
     "name": "stdout",
     "output_type": "stream",
     "text": [
      "Test  | Epoch: [127/200] |  MSE: 0.18369507789611816 | Total: 569\n",
      "================================================================\n",
      "Update results\n"
     ]
    },
    {
     "name": "stderr",
     "output_type": "stream",
     "text": [
      "                                                          \r"
     ]
    },
    {
     "name": "stdout",
     "output_type": "stream",
     "text": [
      "==================================================================\n",
      "Train | Epoch: [128/200] |  MSE: 0.19005362689495087 | Total: 2778\n"
     ]
    },
    {
     "name": "stderr",
     "output_type": "stream",
     "text": [
      "                                                       \r"
     ]
    },
    {
     "name": "stdout",
     "output_type": "stream",
     "text": [
      "Test  | Epoch: [128/200] |  MSE: 0.18377695977687836 | Total: 569\n",
      "==================================================================\n",
      "1\n"
     ]
    },
    {
     "name": "stderr",
     "output_type": "stream",
     "text": [
      "                                                          \r"
     ]
    },
    {
     "name": "stdout",
     "output_type": "stream",
     "text": [
      "==================================================================\n",
      "Train | Epoch: [129/200] |  MSE: 0.18771351873874664 | Total: 2837\n"
     ]
    },
    {
     "name": "stderr",
     "output_type": "stream",
     "text": [
      "                                                       \r"
     ]
    },
    {
     "name": "stdout",
     "output_type": "stream",
     "text": [
      "Test  | Epoch: [129/200] |  MSE: 0.18328137695789337 | Total: 569\n",
      "==================================================================\n",
      "Update results\n"
     ]
    },
    {
     "name": "stderr",
     "output_type": "stream",
     "text": [
      "                                                          \r"
     ]
    },
    {
     "name": "stdout",
     "output_type": "stream",
     "text": [
      "==================================================================\n",
      "Train | Epoch: [130/200] |  MSE: 0.18940040469169617 | Total: 2745\n"
     ]
    },
    {
     "name": "stderr",
     "output_type": "stream",
     "text": [
      "                                                       \r"
     ]
    },
    {
     "name": "stdout",
     "output_type": "stream",
     "text": [
      "Test  | Epoch: [130/200] |  MSE: 0.18227671086788177 | Total: 569\n",
      "==================================================================\n",
      "Update results\n"
     ]
    },
    {
     "name": "stderr",
     "output_type": "stream",
     "text": [
      "                                                          \r"
     ]
    },
    {
     "name": "stdout",
     "output_type": "stream",
     "text": [
      "=================================================================\n",
      "Train | Epoch: [131/200] |  MSE: 0.1815638542175293 | Total: 2709\n"
     ]
    },
    {
     "name": "stderr",
     "output_type": "stream",
     "text": [
      "                                                       \r"
     ]
    },
    {
     "name": "stdout",
     "output_type": "stream",
     "text": [
      "Test  | Epoch: [131/200] |  MSE: 0.18345366418361664 | Total: 569\n",
      "=================================================================\n",
      "1\n"
     ]
    },
    {
     "name": "stderr",
     "output_type": "stream",
     "text": [
      "                                                          \r"
     ]
    },
    {
     "name": "stdout",
     "output_type": "stream",
     "text": [
      "==================================================================\n",
      "Train | Epoch: [132/200] |  MSE: 0.18667438626289368 | Total: 2781\n"
     ]
    },
    {
     "name": "stderr",
     "output_type": "stream",
     "text": [
      "                                                       \r"
     ]
    },
    {
     "name": "stdout",
     "output_type": "stream",
     "text": [
      "Test  | Epoch: [132/200] |  MSE: 0.1831658035516739 | Total: 569\n",
      "==================================================================\n",
      "2\n"
     ]
    },
    {
     "name": "stderr",
     "output_type": "stream",
     "text": [
      "                                                          \r"
     ]
    },
    {
     "name": "stdout",
     "output_type": "stream",
     "text": [
      "==================================================================\n",
      "Train | Epoch: [133/200] |  MSE: 0.18623203039169312 | Total: 2735\n"
     ]
    },
    {
     "name": "stderr",
     "output_type": "stream",
     "text": [
      "                                                       \r"
     ]
    },
    {
     "name": "stdout",
     "output_type": "stream",
     "text": [
      "Test  | Epoch: [133/200] |  MSE: 0.18166492879390717 | Total: 569\n",
      "==================================================================\n",
      "Update results\n"
     ]
    },
    {
     "name": "stderr",
     "output_type": "stream",
     "text": [
      "                                                          \r"
     ]
    },
    {
     "name": "stdout",
     "output_type": "stream",
     "text": [
      "================================================================\n",
      "Train | Epoch: [134/200] |  MSE: 0.185981884598732 | Total: 2761\n"
     ]
    },
    {
     "name": "stderr",
     "output_type": "stream",
     "text": [
      "                                                       \r"
     ]
    },
    {
     "name": "stdout",
     "output_type": "stream",
     "text": [
      "Test  | Epoch: [134/200] |  MSE: 0.1829008162021637 | Total: 569\n",
      "================================================================\n",
      "1\n"
     ]
    },
    {
     "name": "stderr",
     "output_type": "stream",
     "text": [
      "                                                          \r"
     ]
    },
    {
     "name": "stdout",
     "output_type": "stream",
     "text": [
      "==================================================================\n",
      "Train | Epoch: [135/200] |  MSE: 0.18165534734725952 | Total: 2762\n"
     ]
    },
    {
     "name": "stderr",
     "output_type": "stream",
     "text": [
      "                                                       \r"
     ]
    },
    {
     "name": "stdout",
     "output_type": "stream",
     "text": [
      "Test  | Epoch: [135/200] |  MSE: 0.18208938837051392 | Total: 569\n",
      "==================================================================\n",
      "2\n"
     ]
    },
    {
     "name": "stderr",
     "output_type": "stream",
     "text": [
      "                                                          \r"
     ]
    },
    {
     "name": "stdout",
     "output_type": "stream",
     "text": [
      "==================================================================\n",
      "Train | Epoch: [136/200] |  MSE: 0.18610195815563202 | Total: 2803\n"
     ]
    },
    {
     "name": "stderr",
     "output_type": "stream",
     "text": [
      "                                                       \r"
     ]
    },
    {
     "name": "stdout",
     "output_type": "stream",
     "text": [
      "Test  | Epoch: [136/200] |  MSE: 0.1835334748029709 | Total: 569\n",
      "==================================================================\n",
      "3\n"
     ]
    },
    {
     "name": "stderr",
     "output_type": "stream",
     "text": [
      "                                                          \r"
     ]
    },
    {
     "name": "stdout",
     "output_type": "stream",
     "text": [
      "=================================================================\n",
      "Train | Epoch: [137/200] |  MSE: 0.1844310462474823 | Total: 2783\n"
     ]
    },
    {
     "name": "stderr",
     "output_type": "stream",
     "text": [
      "                                                       \r"
     ]
    },
    {
     "name": "stdout",
     "output_type": "stream",
     "text": [
      "Test  | Epoch: [137/200] |  MSE: 0.1820264756679535 | Total: 569\n",
      "=================================================================\n",
      "4\n"
     ]
    },
    {
     "name": "stderr",
     "output_type": "stream",
     "text": [
      "                                                          \r"
     ]
    },
    {
     "name": "stdout",
     "output_type": "stream",
     "text": [
      "==================================================================\n",
      "Train | Epoch: [138/200] |  MSE: 0.18801069259643555 | Total: 2729\n"
     ]
    },
    {
     "name": "stderr",
     "output_type": "stream",
     "text": [
      "                                                       \r"
     ]
    },
    {
     "name": "stdout",
     "output_type": "stream",
     "text": [
      "Test  | Epoch: [138/200] |  MSE: 0.18843574821949005 | Total: 569\n",
      "==================================================================\n",
      "5\n",
      "3.125e-06\n"
     ]
    },
    {
     "name": "stderr",
     "output_type": "stream",
     "text": [
      "                                                          \r"
     ]
    },
    {
     "name": "stdout",
     "output_type": "stream",
     "text": [
      "==================================================================\n",
      "Train | Epoch: [139/200] |  MSE: 0.18847419321537018 | Total: 2733\n"
     ]
    },
    {
     "name": "stderr",
     "output_type": "stream",
     "text": [
      "                                                       \r"
     ]
    },
    {
     "name": "stdout",
     "output_type": "stream",
     "text": [
      "Test  | Epoch: [139/200] |  MSE: 0.18437430262565613 | Total: 569\n",
      "==================================================================\n",
      "1\n"
     ]
    },
    {
     "name": "stderr",
     "output_type": "stream",
     "text": [
      "                                                          \r"
     ]
    },
    {
     "name": "stdout",
     "output_type": "stream",
     "text": [
      "=================================================================\n",
      "Train | Epoch: [140/200] |  MSE: 0.1832074075937271 | Total: 2726\n"
     ]
    },
    {
     "name": "stderr",
     "output_type": "stream",
     "text": [
      "                                                       \r"
     ]
    },
    {
     "name": "stdout",
     "output_type": "stream",
     "text": [
      "Test  | Epoch: [140/200] |  MSE: 0.18029838800430298 | Total: 569\n",
      "=================================================================\n",
      "Update results\n"
     ]
    },
    {
     "name": "stderr",
     "output_type": "stream",
     "text": [
      "                                                          \r"
     ]
    },
    {
     "name": "stdout",
     "output_type": "stream",
     "text": [
      "==================================================================\n",
      "Train | Epoch: [141/200] |  MSE: 0.18480463325977325 | Total: 2771\n"
     ]
    },
    {
     "name": "stderr",
     "output_type": "stream",
     "text": [
      "                                                       \r"
     ]
    },
    {
     "name": "stdout",
     "output_type": "stream",
     "text": [
      "Test  | Epoch: [141/200] |  MSE: 0.18115773797035217 | Total: 569\n",
      "==================================================================\n",
      "1\n"
     ]
    },
    {
     "name": "stderr",
     "output_type": "stream",
     "text": [
      "                                                          \r"
     ]
    },
    {
     "name": "stdout",
     "output_type": "stream",
     "text": [
      "==================================================================\n",
      "Train | Epoch: [142/200] |  MSE: 0.18488076329231262 | Total: 2806\n"
     ]
    },
    {
     "name": "stderr",
     "output_type": "stream",
     "text": [
      "                                                       \r"
     ]
    },
    {
     "name": "stdout",
     "output_type": "stream",
     "text": [
      "Test  | Epoch: [142/200] |  MSE: 0.1807815283536911 | Total: 569\n",
      "==================================================================\n",
      "2\n"
     ]
    },
    {
     "name": "stderr",
     "output_type": "stream",
     "text": [
      "                                                          \r"
     ]
    },
    {
     "name": "stdout",
     "output_type": "stream",
     "text": [
      "=================================================================\n",
      "Train | Epoch: [143/200] |  MSE: 0.1813487410545349 | Total: 2809\n"
     ]
    },
    {
     "name": "stderr",
     "output_type": "stream",
     "text": [
      "                                                       \r"
     ]
    },
    {
     "name": "stdout",
     "output_type": "stream",
     "text": [
      "Test  | Epoch: [143/200] |  MSE: 0.18016012012958527 | Total: 569\n",
      "=================================================================\n",
      "Update results\n"
     ]
    },
    {
     "name": "stderr",
     "output_type": "stream",
     "text": [
      "                                                          \r"
     ]
    },
    {
     "name": "stdout",
     "output_type": "stream",
     "text": [
      "==================================================================\n",
      "Train | Epoch: [144/200] |  MSE: 0.18475446105003357 | Total: 2760\n"
     ]
    },
    {
     "name": "stderr",
     "output_type": "stream",
     "text": [
      "                                                       \r"
     ]
    },
    {
     "name": "stdout",
     "output_type": "stream",
     "text": [
      "Test  | Epoch: [144/200] |  MSE: 0.1811358630657196 | Total: 569\n",
      "==================================================================\n",
      "1\n"
     ]
    },
    {
     "name": "stderr",
     "output_type": "stream",
     "text": [
      "                                                          \r"
     ]
    },
    {
     "name": "stdout",
     "output_type": "stream",
     "text": [
      "==================================================================\n",
      "Train | Epoch: [145/200] |  MSE: 0.18091784417629242 | Total: 2713\n"
     ]
    },
    {
     "name": "stderr",
     "output_type": "stream",
     "text": [
      "                                                       \r"
     ]
    },
    {
     "name": "stdout",
     "output_type": "stream",
     "text": [
      "Test  | Epoch: [145/200] |  MSE: 0.18113361299037933 | Total: 569\n",
      "==================================================================\n",
      "2\n"
     ]
    },
    {
     "name": "stderr",
     "output_type": "stream",
     "text": [
      "                                                          \r"
     ]
    },
    {
     "name": "stdout",
     "output_type": "stream",
     "text": [
      "==================================================================\n",
      "Train | Epoch: [146/200] |  MSE: 0.18266496062278748 | Total: 2803\n"
     ]
    },
    {
     "name": "stderr",
     "output_type": "stream",
     "text": [
      "                                                       \r"
     ]
    },
    {
     "name": "stdout",
     "output_type": "stream",
     "text": [
      "Test  | Epoch: [146/200] |  MSE: 0.18009178340435028 | Total: 569\n",
      "==================================================================\n",
      "Update results\n"
     ]
    },
    {
     "name": "stderr",
     "output_type": "stream",
     "text": [
      "                                                          \r"
     ]
    },
    {
     "name": "stdout",
     "output_type": "stream",
     "text": [
      "==================================================================\n",
      "Train | Epoch: [147/200] |  MSE: 0.17967073619365692 | Total: 2765\n"
     ]
    },
    {
     "name": "stderr",
     "output_type": "stream",
     "text": [
      "                                                       \r"
     ]
    },
    {
     "name": "stdout",
     "output_type": "stream",
     "text": [
      "Test  | Epoch: [147/200] |  MSE: 0.18043550848960876 | Total: 569\n",
      "==================================================================\n",
      "1\n"
     ]
    },
    {
     "name": "stderr",
     "output_type": "stream",
     "text": [
      "                                                          \r"
     ]
    },
    {
     "name": "stdout",
     "output_type": "stream",
     "text": [
      "==================================================================\n",
      "Train | Epoch: [148/200] |  MSE: 0.18440257012844086 | Total: 2754\n"
     ]
    },
    {
     "name": "stderr",
     "output_type": "stream",
     "text": [
      "                                                       \r"
     ]
    },
    {
     "name": "stdout",
     "output_type": "stream",
     "text": [
      "Test  | Epoch: [148/200] |  MSE: 0.1804826557636261 | Total: 569\n",
      "==================================================================\n",
      "2\n"
     ]
    },
    {
     "name": "stderr",
     "output_type": "stream",
     "text": [
      "                                                          \r"
     ]
    },
    {
     "name": "stdout",
     "output_type": "stream",
     "text": [
      "=================================================================\n",
      "Train | Epoch: [149/200] |  MSE: 0.1827758103609085 | Total: 2729\n"
     ]
    },
    {
     "name": "stderr",
     "output_type": "stream",
     "text": [
      "                                                       \r"
     ]
    },
    {
     "name": "stdout",
     "output_type": "stream",
     "text": [
      "Test  | Epoch: [149/200] |  MSE: 0.1798340082168579 | Total: 569\n",
      "=================================================================\n",
      "Update results\n"
     ]
    },
    {
     "name": "stderr",
     "output_type": "stream",
     "text": [
      "                                                          \r"
     ]
    },
    {
     "name": "stdout",
     "output_type": "stream",
     "text": [
      "==================================================================\n",
      "Train | Epoch: [150/200] |  MSE: 0.18362434208393097 | Total: 2760\n"
     ]
    },
    {
     "name": "stderr",
     "output_type": "stream",
     "text": [
      "                                                       \r"
     ]
    },
    {
     "name": "stdout",
     "output_type": "stream",
     "text": [
      "Test  | Epoch: [150/200] |  MSE: 0.18003115057945251 | Total: 569\n",
      "==================================================================\n",
      "1\n"
     ]
    },
    {
     "name": "stderr",
     "output_type": "stream",
     "text": [
      "                                                          \r"
     ]
    },
    {
     "name": "stdout",
     "output_type": "stream",
     "text": [
      "==================================================================\n",
      "Train | Epoch: [151/200] |  MSE: 0.17764531075954437 | Total: 2750\n"
     ]
    },
    {
     "name": "stderr",
     "output_type": "stream",
     "text": [
      "                                                       \r"
     ]
    },
    {
     "name": "stdout",
     "output_type": "stream",
     "text": [
      "Test  | Epoch: [151/200] |  MSE: 0.17972123622894287 | Total: 569\n",
      "==================================================================\n",
      "Update results\n"
     ]
    },
    {
     "name": "stderr",
     "output_type": "stream",
     "text": [
      "                                                          \r"
     ]
    },
    {
     "name": "stdout",
     "output_type": "stream",
     "text": [
      "==================================================================\n",
      "Train | Epoch: [152/200] |  MSE: 0.18245162069797516 | Total: 2735\n"
     ]
    },
    {
     "name": "stderr",
     "output_type": "stream",
     "text": [
      "                                                       \r"
     ]
    },
    {
     "name": "stdout",
     "output_type": "stream",
     "text": [
      "Test  | Epoch: [152/200] |  MSE: 0.18102040886878967 | Total: 569\n",
      "==================================================================\n",
      "1\n"
     ]
    },
    {
     "name": "stderr",
     "output_type": "stream",
     "text": [
      "                                                          \r"
     ]
    },
    {
     "name": "stdout",
     "output_type": "stream",
     "text": [
      "==================================================================\n",
      "Train | Epoch: [153/200] |  MSE: 0.18596674501895905 | Total: 2871\n"
     ]
    },
    {
     "name": "stderr",
     "output_type": "stream",
     "text": [
      "                                                       \r"
     ]
    },
    {
     "name": "stdout",
     "output_type": "stream",
     "text": [
      "Test  | Epoch: [153/200] |  MSE: 0.18047046661376953 | Total: 569\n",
      "==================================================================\n",
      "2\n"
     ]
    },
    {
     "name": "stderr",
     "output_type": "stream",
     "text": [
      "                                                          \r"
     ]
    },
    {
     "name": "stdout",
     "output_type": "stream",
     "text": [
      "==================================================================\n",
      "Train | Epoch: [154/200] |  MSE: 0.18140730261802673 | Total: 2832\n"
     ]
    },
    {
     "name": "stderr",
     "output_type": "stream",
     "text": [
      "                                                       \r"
     ]
    },
    {
     "name": "stdout",
     "output_type": "stream",
     "text": [
      "Test  | Epoch: [154/200] |  MSE: 0.17971497774124146 | Total: 569\n",
      "==================================================================\n",
      "Update results\n"
     ]
    },
    {
     "name": "stderr",
     "output_type": "stream",
     "text": [
      "                                                          \r"
     ]
    },
    {
     "name": "stdout",
     "output_type": "stream",
     "text": [
      "==================================================================\n",
      "Train | Epoch: [155/200] |  MSE: 0.18320776522159576 | Total: 2806\n"
     ]
    },
    {
     "name": "stderr",
     "output_type": "stream",
     "text": [
      "                                                       \r"
     ]
    },
    {
     "name": "stdout",
     "output_type": "stream",
     "text": [
      "Test  | Epoch: [155/200] |  MSE: 0.17940354347229004 | Total: 569\n",
      "==================================================================\n",
      "Update results\n"
     ]
    },
    {
     "name": "stderr",
     "output_type": "stream",
     "text": [
      "                                                          \r"
     ]
    },
    {
     "name": "stdout",
     "output_type": "stream",
     "text": [
      "==================================================================\n",
      "Train | Epoch: [156/200] |  MSE: 0.18083344399929047 | Total: 2791\n"
     ]
    },
    {
     "name": "stderr",
     "output_type": "stream",
     "text": [
      "                                                       \r"
     ]
    },
    {
     "name": "stdout",
     "output_type": "stream",
     "text": [
      "Test  | Epoch: [156/200] |  MSE: 0.1807812601327896 | Total: 569\n",
      "==================================================================\n",
      "1\n"
     ]
    },
    {
     "name": "stderr",
     "output_type": "stream",
     "text": [
      "                                                          \r"
     ]
    },
    {
     "name": "stdout",
     "output_type": "stream",
     "text": [
      "==================================================================\n",
      "Train | Epoch: [157/200] |  MSE: 0.18262089788913727 | Total: 2777\n"
     ]
    },
    {
     "name": "stderr",
     "output_type": "stream",
     "text": [
      "                                                       \r"
     ]
    },
    {
     "name": "stdout",
     "output_type": "stream",
     "text": [
      "Test  | Epoch: [157/200] |  MSE: 0.1797793209552765 | Total: 569\n",
      "==================================================================\n",
      "2\n"
     ]
    },
    {
     "name": "stderr",
     "output_type": "stream",
     "text": [
      "                                                          \r"
     ]
    },
    {
     "name": "stdout",
     "output_type": "stream",
     "text": [
      "==================================================================\n",
      "Train | Epoch: [158/200] |  MSE: 0.18377287685871124 | Total: 2717\n"
     ]
    },
    {
     "name": "stderr",
     "output_type": "stream",
     "text": [
      "                                                       \r"
     ]
    },
    {
     "name": "stdout",
     "output_type": "stream",
     "text": [
      "Test  | Epoch: [158/200] |  MSE: 0.17953352630138397 | Total: 569\n",
      "==================================================================\n",
      "3\n"
     ]
    },
    {
     "name": "stderr",
     "output_type": "stream",
     "text": [
      "                                                          \r"
     ]
    },
    {
     "name": "stdout",
     "output_type": "stream",
     "text": [
      "==================================================================\n",
      "Train | Epoch: [159/200] |  MSE: 0.18289804458618164 | Total: 2776\n"
     ]
    },
    {
     "name": "stderr",
     "output_type": "stream",
     "text": [
      "                                                       \r"
     ]
    },
    {
     "name": "stdout",
     "output_type": "stream",
     "text": [
      "Test  | Epoch: [159/200] |  MSE: 0.18089377880096436 | Total: 569\n",
      "==================================================================\n",
      "4\n"
     ]
    },
    {
     "name": "stderr",
     "output_type": "stream",
     "text": [
      "                                                          \r"
     ]
    },
    {
     "name": "stdout",
     "output_type": "stream",
     "text": [
      "==================================================================\n",
      "Train | Epoch: [160/200] |  MSE: 0.18368269503116608 | Total: 2842\n"
     ]
    },
    {
     "name": "stderr",
     "output_type": "stream",
     "text": [
      "                                                       \r"
     ]
    },
    {
     "name": "stdout",
     "output_type": "stream",
     "text": [
      "Test  | Epoch: [160/200] |  MSE: 0.17957629263401031 | Total: 569\n",
      "==================================================================\n",
      "5\n",
      "1.5625e-06\n"
     ]
    },
    {
     "name": "stderr",
     "output_type": "stream",
     "text": [
      "                                                          \r"
     ]
    },
    {
     "name": "stdout",
     "output_type": "stream",
     "text": [
      "==================================================================\n",
      "Train | Epoch: [161/200] |  MSE: 0.18036256730556488 | Total: 2767\n"
     ]
    },
    {
     "name": "stderr",
     "output_type": "stream",
     "text": [
      "                                                       \r"
     ]
    },
    {
     "name": "stdout",
     "output_type": "stream",
     "text": [
      "Test  | Epoch: [161/200] |  MSE: 0.1792733371257782 | Total: 569\n",
      "==================================================================\n",
      "Update results\n"
     ]
    },
    {
     "name": "stderr",
     "output_type": "stream",
     "text": [
      "                                                          \r"
     ]
    },
    {
     "name": "stdout",
     "output_type": "stream",
     "text": [
      "=================================================================\n",
      "Train | Epoch: [162/200] |  MSE: 0.1799028068780899 | Total: 2794\n"
     ]
    },
    {
     "name": "stderr",
     "output_type": "stream",
     "text": [
      "                                                       \r"
     ]
    },
    {
     "name": "stdout",
     "output_type": "stream",
     "text": [
      "Test  | Epoch: [162/200] |  MSE: 0.17917399108409882 | Total: 569\n",
      "=================================================================\n",
      "Update results\n"
     ]
    },
    {
     "name": "stderr",
     "output_type": "stream",
     "text": [
      "                                                          \r"
     ]
    },
    {
     "name": "stdout",
     "output_type": "stream",
     "text": [
      "==================================================================\n",
      "Train | Epoch: [163/200] |  MSE: 0.18427106738090515 | Total: 2777\n"
     ]
    },
    {
     "name": "stderr",
     "output_type": "stream",
     "text": [
      "                                                       \r"
     ]
    },
    {
     "name": "stdout",
     "output_type": "stream",
     "text": [
      "Test  | Epoch: [163/200] |  MSE: 0.17922723293304443 | Total: 569\n",
      "==================================================================\n",
      "1\n"
     ]
    },
    {
     "name": "stderr",
     "output_type": "stream",
     "text": [
      "                                                          \r"
     ]
    },
    {
     "name": "stdout",
     "output_type": "stream",
     "text": [
      "==================================================================\n",
      "Train | Epoch: [164/200] |  MSE: 0.17942993342876434 | Total: 2743\n"
     ]
    },
    {
     "name": "stderr",
     "output_type": "stream",
     "text": [
      "                                                       \r"
     ]
    },
    {
     "name": "stdout",
     "output_type": "stream",
     "text": [
      "Test  | Epoch: [164/200] |  MSE: 0.17921048402786255 | Total: 569\n",
      "==================================================================\n",
      "2\n"
     ]
    },
    {
     "name": "stderr",
     "output_type": "stream",
     "text": [
      "                                                          \r"
     ]
    },
    {
     "name": "stdout",
     "output_type": "stream",
     "text": [
      "=================================================================\n",
      "Train | Epoch: [165/200] |  MSE: 0.1757943481206894 | Total: 2843\n"
     ]
    },
    {
     "name": "stderr",
     "output_type": "stream",
     "text": [
      "                                                       \r"
     ]
    },
    {
     "name": "stdout",
     "output_type": "stream",
     "text": [
      "Test  | Epoch: [165/200] |  MSE: 0.1790110021829605 | Total: 569\n",
      "=================================================================\n",
      "Update results\n"
     ]
    },
    {
     "name": "stderr",
     "output_type": "stream",
     "text": [
      "                                                          \r"
     ]
    },
    {
     "name": "stdout",
     "output_type": "stream",
     "text": [
      "==================================================================\n",
      "Train | Epoch: [166/200] |  MSE: 0.18194864690303802 | Total: 2791\n"
     ]
    },
    {
     "name": "stderr",
     "output_type": "stream",
     "text": [
      "                                                       \r"
     ]
    },
    {
     "name": "stdout",
     "output_type": "stream",
     "text": [
      "Test  | Epoch: [166/200] |  MSE: 0.1782982498407364 | Total: 569\n",
      "==================================================================\n",
      "Update results\n"
     ]
    },
    {
     "name": "stderr",
     "output_type": "stream",
     "text": [
      "                                                          \r"
     ]
    },
    {
     "name": "stdout",
     "output_type": "stream",
     "text": [
      "=================================================================\n",
      "Train | Epoch: [167/200] |  MSE: 0.1830454021692276 | Total: 2807\n"
     ]
    },
    {
     "name": "stderr",
     "output_type": "stream",
     "text": [
      "                                                       \r"
     ]
    },
    {
     "name": "stdout",
     "output_type": "stream",
     "text": [
      "Test  | Epoch: [167/200] |  MSE: 0.17868679761886597 | Total: 569\n",
      "=================================================================\n",
      "1\n"
     ]
    },
    {
     "name": "stderr",
     "output_type": "stream",
     "text": [
      "                                                          \r"
     ]
    },
    {
     "name": "stdout",
     "output_type": "stream",
     "text": [
      "==================================================================\n",
      "Train | Epoch: [168/200] |  MSE: 0.18440492451190948 | Total: 2872\n"
     ]
    },
    {
     "name": "stderr",
     "output_type": "stream",
     "text": [
      "                                                       \r"
     ]
    },
    {
     "name": "stdout",
     "output_type": "stream",
     "text": [
      "Test  | Epoch: [168/200] |  MSE: 0.18036267161369324 | Total: 569\n",
      "==================================================================\n",
      "2\n"
     ]
    },
    {
     "name": "stderr",
     "output_type": "stream",
     "text": [
      "                                                          \r"
     ]
    },
    {
     "name": "stdout",
     "output_type": "stream",
     "text": [
      "==================================================================\n",
      "Train | Epoch: [169/200] |  MSE: 0.17845803499221802 | Total: 2749\n"
     ]
    },
    {
     "name": "stderr",
     "output_type": "stream",
     "text": [
      "                                                       \r"
     ]
    },
    {
     "name": "stdout",
     "output_type": "stream",
     "text": [
      "Test  | Epoch: [169/200] |  MSE: 0.1785070300102234 | Total: 569\n",
      "==================================================================\n",
      "3\n"
     ]
    },
    {
     "name": "stderr",
     "output_type": "stream",
     "text": [
      "                                                          \r"
     ]
    },
    {
     "name": "stdout",
     "output_type": "stream",
     "text": [
      "==================================================================\n",
      "Train | Epoch: [170/200] |  MSE: 0.17736124992370605 | Total: 2758\n"
     ]
    },
    {
     "name": "stderr",
     "output_type": "stream",
     "text": [
      "                                                       \r"
     ]
    },
    {
     "name": "stdout",
     "output_type": "stream",
     "text": [
      "Test  | Epoch: [170/200] |  MSE: 0.17879372835159302 | Total: 569\n",
      "==================================================================\n",
      "4\n"
     ]
    },
    {
     "name": "stderr",
     "output_type": "stream",
     "text": [
      "                                                          \r"
     ]
    },
    {
     "name": "stdout",
     "output_type": "stream",
     "text": [
      "==================================================================\n",
      "Train | Epoch: [171/200] |  MSE: 0.18150459229946136 | Total: 2800\n"
     ]
    },
    {
     "name": "stderr",
     "output_type": "stream",
     "text": [
      "                                                       \r"
     ]
    },
    {
     "name": "stdout",
     "output_type": "stream",
     "text": [
      "Test  | Epoch: [171/200] |  MSE: 0.17862573266029358 | Total: 569\n",
      "==================================================================\n",
      "5\n",
      "7.8125e-07\n"
     ]
    },
    {
     "name": "stderr",
     "output_type": "stream",
     "text": [
      "                                                          \r"
     ]
    },
    {
     "name": "stdout",
     "output_type": "stream",
     "text": [
      "=================================================================\n",
      "Train | Epoch: [172/200] |  MSE: 0.1801818162202835 | Total: 2747\n"
     ]
    },
    {
     "name": "stderr",
     "output_type": "stream",
     "text": [
      "                                                       \r"
     ]
    },
    {
     "name": "stdout",
     "output_type": "stream",
     "text": [
      "Test  | Epoch: [172/200] |  MSE: 0.17827636003494263 | Total: 569\n",
      "=================================================================\n",
      "Update results\n"
     ]
    },
    {
     "name": "stderr",
     "output_type": "stream",
     "text": [
      "                                                          \r"
     ]
    },
    {
     "name": "stdout",
     "output_type": "stream",
     "text": [
      "==================================================================\n",
      "Train | Epoch: [173/200] |  MSE: 0.18305452167987823 | Total: 2877\n"
     ]
    },
    {
     "name": "stderr",
     "output_type": "stream",
     "text": [
      "                                                       \r"
     ]
    },
    {
     "name": "stdout",
     "output_type": "stream",
     "text": [
      "Test  | Epoch: [173/200] |  MSE: 0.1780705749988556 | Total: 569\n",
      "==================================================================\n",
      "Update results\n"
     ]
    },
    {
     "name": "stderr",
     "output_type": "stream",
     "text": [
      "                                                          \r"
     ]
    },
    {
     "name": "stdout",
     "output_type": "stream",
     "text": [
      "==================================================================\n",
      "Train | Epoch: [174/200] |  MSE: 0.18059222400188446 | Total: 2723\n"
     ]
    },
    {
     "name": "stderr",
     "output_type": "stream",
     "text": [
      "                                                       \r"
     ]
    },
    {
     "name": "stdout",
     "output_type": "stream",
     "text": [
      "Test  | Epoch: [174/200] |  MSE: 0.17885196208953857 | Total: 569\n",
      "==================================================================\n",
      "1\n"
     ]
    },
    {
     "name": "stderr",
     "output_type": "stream",
     "text": [
      "                                                          \r"
     ]
    },
    {
     "name": "stdout",
     "output_type": "stream",
     "text": [
      "=================================================================\n",
      "Train | Epoch: [175/200] |  MSE: 0.1890096366405487 | Total: 2789\n"
     ]
    },
    {
     "name": "stderr",
     "output_type": "stream",
     "text": [
      "                                                       \r"
     ]
    },
    {
     "name": "stdout",
     "output_type": "stream",
     "text": [
      "Test  | Epoch: [175/200] |  MSE: 0.17835642397403717 | Total: 569\n",
      "=================================================================\n",
      "2\n"
     ]
    },
    {
     "name": "stderr",
     "output_type": "stream",
     "text": [
      "                                                          \r"
     ]
    },
    {
     "name": "stdout",
     "output_type": "stream",
     "text": [
      "==================================================================\n",
      "Train | Epoch: [176/200] |  MSE: 0.17546817660331726 | Total: 2763\n"
     ]
    },
    {
     "name": "stderr",
     "output_type": "stream",
     "text": [
      "                                                       \r"
     ]
    },
    {
     "name": "stdout",
     "output_type": "stream",
     "text": [
      "Test  | Epoch: [176/200] |  MSE: 0.17793066799640656 | Total: 569\n",
      "==================================================================\n",
      "Update results\n"
     ]
    },
    {
     "name": "stderr",
     "output_type": "stream",
     "text": [
      "                                                          \r"
     ]
    },
    {
     "name": "stdout",
     "output_type": "stream",
     "text": [
      "==================================================================\n",
      "Train | Epoch: [177/200] |  MSE: 0.17948897182941437 | Total: 2752\n"
     ]
    },
    {
     "name": "stderr",
     "output_type": "stream",
     "text": [
      "                                                       \r"
     ]
    },
    {
     "name": "stdout",
     "output_type": "stream",
     "text": [
      "Test  | Epoch: [177/200] |  MSE: 0.17823426425457 | Total: 569\n",
      "==================================================================\n",
      "1\n"
     ]
    },
    {
     "name": "stderr",
     "output_type": "stream",
     "text": [
      "                                                          \r"
     ]
    },
    {
     "name": "stdout",
     "output_type": "stream",
     "text": [
      "==================================================================\n",
      "Train | Epoch: [178/200] |  MSE: 0.17868652939796448 | Total: 2756\n"
     ]
    },
    {
     "name": "stderr",
     "output_type": "stream",
     "text": [
      "                                                       \r"
     ]
    },
    {
     "name": "stdout",
     "output_type": "stream",
     "text": [
      "Test  | Epoch: [178/200] |  MSE: 0.1782314032316208 | Total: 569\n",
      "==================================================================\n",
      "2\n"
     ]
    },
    {
     "name": "stderr",
     "output_type": "stream",
     "text": [
      "                                                          \r"
     ]
    },
    {
     "name": "stdout",
     "output_type": "stream",
     "text": [
      "==================================================================\n",
      "Train | Epoch: [179/200] |  MSE: 0.17885205149650574 | Total: 2747\n"
     ]
    },
    {
     "name": "stderr",
     "output_type": "stream",
     "text": [
      "                                                       \r"
     ]
    },
    {
     "name": "stdout",
     "output_type": "stream",
     "text": [
      "Test  | Epoch: [179/200] |  MSE: 0.17876343429088593 | Total: 569\n",
      "==================================================================\n",
      "3\n"
     ]
    },
    {
     "name": "stderr",
     "output_type": "stream",
     "text": [
      "                                                          \r"
     ]
    },
    {
     "name": "stdout",
     "output_type": "stream",
     "text": [
      "==================================================================\n",
      "Train | Epoch: [180/200] |  MSE: 0.17908203601837158 | Total: 2801\n"
     ]
    },
    {
     "name": "stderr",
     "output_type": "stream",
     "text": [
      "                                                       \r"
     ]
    },
    {
     "name": "stdout",
     "output_type": "stream",
     "text": [
      "Test  | Epoch: [180/200] |  MSE: 0.17817050218582153 | Total: 569\n",
      "==================================================================\n",
      "4\n"
     ]
    },
    {
     "name": "stderr",
     "output_type": "stream",
     "text": [
      "                                                          \r"
     ]
    },
    {
     "name": "stdout",
     "output_type": "stream",
     "text": [
      "==================================================================\n",
      "Train | Epoch: [181/200] |  MSE: 0.17761313915252686 | Total: 2726\n"
     ]
    },
    {
     "name": "stderr",
     "output_type": "stream",
     "text": [
      "                                                       \r"
     ]
    },
    {
     "name": "stdout",
     "output_type": "stream",
     "text": [
      "Test  | Epoch: [181/200] |  MSE: 0.1780850738286972 | Total: 569\n",
      "==================================================================\n",
      "5\n",
      "3.90625e-07\n"
     ]
    },
    {
     "name": "stderr",
     "output_type": "stream",
     "text": [
      "                                                          \r"
     ]
    },
    {
     "name": "stdout",
     "output_type": "stream",
     "text": [
      "==================================================================\n",
      "Train | Epoch: [182/200] |  MSE: 0.18075807392597198 | Total: 2772\n"
     ]
    },
    {
     "name": "stderr",
     "output_type": "stream",
     "text": [
      "                                                       \r"
     ]
    },
    {
     "name": "stdout",
     "output_type": "stream",
     "text": [
      "Test  | Epoch: [182/200] |  MSE: 0.17824597656726837 | Total: 569\n",
      "==================================================================\n",
      "1\n"
     ]
    },
    {
     "name": "stderr",
     "output_type": "stream",
     "text": [
      "                                                          \r"
     ]
    },
    {
     "name": "stdout",
     "output_type": "stream",
     "text": [
      "==================================================================\n",
      "Train | Epoch: [183/200] |  MSE: 0.18138116598129272 | Total: 2873\n"
     ]
    },
    {
     "name": "stderr",
     "output_type": "stream",
     "text": [
      "                                                       \r"
     ]
    },
    {
     "name": "stdout",
     "output_type": "stream",
     "text": [
      "Test  | Epoch: [183/200] |  MSE: 0.17826078832149506 | Total: 569\n",
      "==================================================================\n",
      "2\n"
     ]
    },
    {
     "name": "stderr",
     "output_type": "stream",
     "text": [
      "                                                          \r"
     ]
    },
    {
     "name": "stdout",
     "output_type": "stream",
     "text": [
      "==================================================================\n",
      "Train | Epoch: [184/200] |  MSE: 0.17552968859672546 | Total: 2683\n"
     ]
    },
    {
     "name": "stderr",
     "output_type": "stream",
     "text": [
      "                                                       \r"
     ]
    },
    {
     "name": "stdout",
     "output_type": "stream",
     "text": [
      "Test  | Epoch: [184/200] |  MSE: 0.17851465940475464 | Total: 569\n",
      "==================================================================\n",
      "3\n"
     ]
    },
    {
     "name": "stderr",
     "output_type": "stream",
     "text": [
      "                                                          \r"
     ]
    },
    {
     "name": "stdout",
     "output_type": "stream",
     "text": [
      "==================================================================\n",
      "Train | Epoch: [185/200] |  MSE: 0.17786285281181335 | Total: 2748\n"
     ]
    },
    {
     "name": "stderr",
     "output_type": "stream",
     "text": [
      "                                                       \r"
     ]
    },
    {
     "name": "stdout",
     "output_type": "stream",
     "text": [
      "Test  | Epoch: [185/200] |  MSE: 0.17826206982135773 | Total: 569\n",
      "==================================================================\n",
      "4\n"
     ]
    },
    {
     "name": "stderr",
     "output_type": "stream",
     "text": [
      "                                                          \r"
     ]
    },
    {
     "name": "stdout",
     "output_type": "stream",
     "text": [
      "==================================================================\n",
      "Train | Epoch: [186/200] |  MSE: 0.18155993521213531 | Total: 2766\n"
     ]
    },
    {
     "name": "stderr",
     "output_type": "stream",
     "text": [
      "                                                       \r"
     ]
    },
    {
     "name": "stdout",
     "output_type": "stream",
     "text": [
      "Test  | Epoch: [186/200] |  MSE: 0.1778019666671753 | Total: 569\n",
      "==================================================================\n",
      "Update results\n"
     ]
    },
    {
     "name": "stderr",
     "output_type": "stream",
     "text": [
      "                                                          \r"
     ]
    },
    {
     "name": "stdout",
     "output_type": "stream",
     "text": [
      "==================================================================\n",
      "Train | Epoch: [187/200] |  MSE: 0.17961901426315308 | Total: 2876\n"
     ]
    },
    {
     "name": "stderr",
     "output_type": "stream",
     "text": [
      "                                                       \r"
     ]
    },
    {
     "name": "stdout",
     "output_type": "stream",
     "text": [
      "Test  | Epoch: [187/200] |  MSE: 0.17795611917972565 | Total: 569\n",
      "==================================================================\n",
      "1\n"
     ]
    },
    {
     "name": "stderr",
     "output_type": "stream",
     "text": [
      "                                                          \r"
     ]
    },
    {
     "name": "stdout",
     "output_type": "stream",
     "text": [
      "=================================================================\n",
      "Train | Epoch: [188/200] |  MSE: 0.1770293116569519 | Total: 2641\n"
     ]
    },
    {
     "name": "stderr",
     "output_type": "stream",
     "text": [
      "                                                       \r"
     ]
    },
    {
     "name": "stdout",
     "output_type": "stream",
     "text": [
      "Test  | Epoch: [188/200] |  MSE: 0.17798814177513123 | Total: 569\n",
      "=================================================================\n",
      "2\n"
     ]
    },
    {
     "name": "stderr",
     "output_type": "stream",
     "text": [
      "                                                          \r"
     ]
    },
    {
     "name": "stdout",
     "output_type": "stream",
     "text": [
      "===============================================================\n",
      "Train | Epoch: [189/200] |  MSE: 0.17976014316082 | Total: 2788\n"
     ]
    },
    {
     "name": "stderr",
     "output_type": "stream",
     "text": [
      "                                                       \r"
     ]
    },
    {
     "name": "stdout",
     "output_type": "stream",
     "text": [
      "Test  | Epoch: [189/200] |  MSE: 0.1780947744846344 | Total: 569\n",
      "===============================================================\n",
      "3\n"
     ]
    },
    {
     "name": "stderr",
     "output_type": "stream",
     "text": [
      "                                                          \r"
     ]
    },
    {
     "name": "stdout",
     "output_type": "stream",
     "text": [
      "==================================================================\n",
      "Train | Epoch: [190/200] |  MSE: 0.17787297070026398 | Total: 2792\n"
     ]
    },
    {
     "name": "stderr",
     "output_type": "stream",
     "text": [
      "                                                       \r"
     ]
    },
    {
     "name": "stdout",
     "output_type": "stream",
     "text": [
      "Test  | Epoch: [190/200] |  MSE: 0.1779603511095047 | Total: 569\n",
      "==================================================================\n",
      "4\n"
     ]
    },
    {
     "name": "stderr",
     "output_type": "stream",
     "text": [
      "                                                          \r"
     ]
    },
    {
     "name": "stdout",
     "output_type": "stream",
     "text": [
      "================================================================\n",
      "Train | Epoch: [191/200] |  MSE: 0.179051011800766 | Total: 2785\n"
     ]
    },
    {
     "name": "stderr",
     "output_type": "stream",
     "text": [
      "                                                       \r"
     ]
    },
    {
     "name": "stdout",
     "output_type": "stream",
     "text": [
      "Test  | Epoch: [191/200] |  MSE: 0.17787323892116547 | Total: 569\n",
      "================================================================\n",
      "5\n",
      "1.953125e-07\n"
     ]
    },
    {
     "name": "stderr",
     "output_type": "stream",
     "text": [
      "                                                          \r"
     ]
    },
    {
     "name": "stdout",
     "output_type": "stream",
     "text": [
      "==================================================================\n",
      "Train | Epoch: [192/200] |  MSE: 0.17678195238113403 | Total: 2715\n"
     ]
    },
    {
     "name": "stderr",
     "output_type": "stream",
     "text": [
      "                                                       \r"
     ]
    },
    {
     "name": "stdout",
     "output_type": "stream",
     "text": [
      "Test  | Epoch: [192/200] |  MSE: 0.17777632176876068 | Total: 569\n",
      "==================================================================\n",
      "Update results\n"
     ]
    },
    {
     "name": "stderr",
     "output_type": "stream",
     "text": [
      "                                                          \r"
     ]
    },
    {
     "name": "stdout",
     "output_type": "stream",
     "text": [
      "==================================================================\n",
      "Train | Epoch: [193/200] |  MSE: 0.17861737310886383 | Total: 2766\n"
     ]
    },
    {
     "name": "stderr",
     "output_type": "stream",
     "text": [
      "                                                       \r"
     ]
    },
    {
     "name": "stdout",
     "output_type": "stream",
     "text": [
      "Test  | Epoch: [193/200] |  MSE: 0.17787843942642212 | Total: 569\n",
      "==================================================================\n",
      "1\n"
     ]
    },
    {
     "name": "stderr",
     "output_type": "stream",
     "text": [
      "                                                          \r"
     ]
    },
    {
     "name": "stdout",
     "output_type": "stream",
     "text": [
      "==================================================================\n",
      "Train | Epoch: [194/200] |  MSE: 0.18408077955245972 | Total: 2755\n"
     ]
    },
    {
     "name": "stderr",
     "output_type": "stream",
     "text": [
      "                                                       \r"
     ]
    },
    {
     "name": "stdout",
     "output_type": "stream",
     "text": [
      "Test  | Epoch: [194/200] |  MSE: 0.177938312292099 | Total: 569\n",
      "==================================================================\n",
      "2\n"
     ]
    },
    {
     "name": "stderr",
     "output_type": "stream",
     "text": [
      "                                                          \r"
     ]
    },
    {
     "name": "stdout",
     "output_type": "stream",
     "text": [
      "==================================================================\n",
      "Train | Epoch: [195/200] |  MSE: 0.17585986852645874 | Total: 2783\n"
     ]
    },
    {
     "name": "stderr",
     "output_type": "stream",
     "text": [
      "                                                       \r"
     ]
    },
    {
     "name": "stdout",
     "output_type": "stream",
     "text": [
      "Test  | Epoch: [195/200] |  MSE: 0.1779657006263733 | Total: 569\n",
      "==================================================================\n",
      "3\n"
     ]
    },
    {
     "name": "stderr",
     "output_type": "stream",
     "text": [
      "                                                          \r"
     ]
    },
    {
     "name": "stdout",
     "output_type": "stream",
     "text": [
      "==================================================================\n",
      "Train | Epoch: [196/200] |  MSE: 0.17934241890907288 | Total: 2844\n"
     ]
    },
    {
     "name": "stderr",
     "output_type": "stream",
     "text": [
      "                                                       \r"
     ]
    },
    {
     "name": "stdout",
     "output_type": "stream",
     "text": [
      "Test  | Epoch: [196/200] |  MSE: 0.17779169976711273 | Total: 569\n",
      "==================================================================\n",
      "4\n"
     ]
    },
    {
     "name": "stderr",
     "output_type": "stream",
     "text": [
      "                                                          \r"
     ]
    },
    {
     "name": "stdout",
     "output_type": "stream",
     "text": [
      "==================================================================\n",
      "Train | Epoch: [197/200] |  MSE: 0.18070828914642334 | Total: 2768\n"
     ]
    },
    {
     "name": "stderr",
     "output_type": "stream",
     "text": [
      "                                                       \r"
     ]
    },
    {
     "name": "stdout",
     "output_type": "stream",
     "text": [
      "Test  | Epoch: [197/200] |  MSE: 0.17776988446712494 | Total: 569\n",
      "==================================================================\n",
      "Update results\n"
     ]
    },
    {
     "name": "stderr",
     "output_type": "stream",
     "text": [
      "                                                          \r"
     ]
    },
    {
     "name": "stdout",
     "output_type": "stream",
     "text": [
      "==================================================================\n",
      "Train | Epoch: [198/200] |  MSE: 0.17537829279899597 | Total: 2760\n"
     ]
    },
    {
     "name": "stderr",
     "output_type": "stream",
     "text": [
      "                                                       \r"
     ]
    },
    {
     "name": "stdout",
     "output_type": "stream",
     "text": [
      "Test  | Epoch: [198/200] |  MSE: 0.17776690423488617 | Total: 569\n",
      "==================================================================\n",
      "Update results\n"
     ]
    },
    {
     "name": "stderr",
     "output_type": "stream",
     "text": [
      "                                                          \r"
     ]
    },
    {
     "name": "stdout",
     "output_type": "stream",
     "text": [
      "==================================================================\n",
      "Train | Epoch: [199/200] |  MSE: 0.17871354520320892 | Total: 2820\n"
     ]
    },
    {
     "name": "stderr",
     "output_type": "stream",
     "text": [
      "                                                       \r"
     ]
    },
    {
     "name": "stdout",
     "output_type": "stream",
     "text": [
      "Test  | Epoch: [199/200] |  MSE: 0.1779383420944214 | Total: 569\n",
      "==================================================================\n",
      "1\n"
     ]
    },
    {
     "name": "stderr",
     "output_type": "stream",
     "text": [
      "                                                          \r"
     ]
    },
    {
     "name": "stdout",
     "output_type": "stream",
     "text": [
      "==================================================================\n",
      "Train | Epoch: [200/200] |  MSE: 0.18182936310768127 | Total: 2712\n"
     ]
    },
    {
     "name": "stderr",
     "output_type": "stream",
     "text": [
      "                                                       \r"
     ]
    },
    {
     "name": "stdout",
     "output_type": "stream",
     "text": [
      "Test  | Epoch: [200/200] |  MSE: 0.17782944440841675 | Total: 569\n",
      "==================================================================\n",
      "2\n"
     ]
    }
   ],
   "source": [
    "from Detection.GroundingDINO.groundingdino.util.inference import load_model, load_image_6, predict, annotate\n",
    "from tqdm import tqdm \n",
    "import time\n",
    "from torchvision.ops import box_convert\n",
    "from torchvision.transforms.functional import center_crop\n",
    "from copy import deepcopy\n",
    "from torchvision.transforms import InterpolationMode\n",
    "\n",
    "\n",
    "iterable = range(epochs)\n",
    "\n",
    "dect_model = load_model(\"./Detection/GroundingDINO/groundingdino/config/GroundingDINO_SwinT_OGC.py\", \"./Detection/GroundingDINO//weights/groundingdino_swint_ogc.pth\")\n",
    "BOX_TRESHOLD = 0.35\n",
    "TEXT_TRESHOLD = 0.25\n",
    "\n",
    "target_size = 128\n",
    "\n",
    "model.to(device)\n",
    "send_tg_message(f'Start Server Computer X8')\n",
    "best_loss = float(\"inf\") \n",
    "best_result = None\n",
    "scheduler_cnt = 0\n",
    "lr_list = [lr]\n",
    "for e in iterable:\n",
    "    for p in ['Train', 'Test']:\n",
    "        if p == 'Train':\n",
    "            total_loss = 0\n",
    "            total = 0\n",
    "            model.train()\n",
    "\n",
    "            train_result = {}\n",
    "            \n",
    "            for oo, bimg, caps in tqdm(train_dataloader, desc='Train', leave=False):\n",
    "                # print(f'{str(caps[0])}')\n",
    "                train_result[f'{str(caps[0])}'] = {\n",
    "                    'phrases': [],\n",
    "                    'org_img':[],\n",
    "                    'shape':[],\n",
    "                    'cropped':[],\n",
    "                    'padded':[],\n",
    "                    'resized':[],\n",
    "                    'output':[],\n",
    "                    'c_padded':[]\n",
    "                }\n",
    "                \n",
    "                i_caps = str(caps[0])\n",
    "                bimg = bimg.squeeze()\n",
    "                b_boxes, b_logits, b_phrases, b_encoded_text = predict(\n",
    "                        model=dect_model,\n",
    "                        image=bimg,\n",
    "                        caption=i_caps,\n",
    "                        box_threshold=BOX_TRESHOLD,\n",
    "                        text_threshold=TEXT_TRESHOLD\n",
    "                    )\n",
    "                train_result[f'{str(caps[0])}']['phrases'].append(b_phrases)\n",
    "                oo = oo.squeeze()\n",
    "                h, w, c = oo.shape\n",
    "                boxes2 = b_boxes * torch.Tensor([w, h, w, h])\n",
    "                xyxy = box_convert(boxes=boxes2, in_fmt=\"cxcywh\", out_fmt=\"xyxy\").numpy()\n",
    "                \n",
    "                for xyxy_idx in range(len(xyxy)):\n",
    "                    x1, y1, x2, y2 = xyxy[xyxy_idx].astype(int)\n",
    "                    cropped_img = oo[y1:y2, x1:x2].permute(2,1,0)\n",
    "\n",
    "                    _, h, w = cropped_img.shape\n",
    "                    if h>w:\n",
    "                        if h>target_size:\n",
    "                            cropped_img = resize(cropped_img, (target_size, int(target_size*(w/h))))\n",
    "                    else:\n",
    "                        if w>target_size:\n",
    "                            cropped_img = resize(cropped_img, (int(target_size*(h/w)), target_size))\n",
    "\n",
    "\n",
    "                    train_result[f'{str(caps[0])}']['cropped'].append(cropped_img)\n",
    "                    _, h, w = cropped_img.shape\n",
    "                    train_result[f'{str(caps[0])}']['shape'].append((h,w))\n",
    "\n",
    "                    # half_crop = resize(cropped_img, (h//down_scale, w//down_scale))\n",
    "                    cc, hh, ww = cropped_img.shape\n",
    "                    # cc, hh, ww = half_crop.shape\n",
    "                    nh, nw = target_size - hh,  target_size - ww\n",
    "                    padd = (nw//2, nw//2, nh//2, nh//2)\n",
    "                    s_img = torch.nn.functional.pad(cropped_img, padd)\n",
    "                    s_img = resize(s_img, (target_size, target_size))\n",
    "                    train_result[f'{str(caps[0])}']['resized'].append(s_img)\n",
    "                \n",
    "\n",
    "                txt = b_encoded_text['encoded_text']\n",
    "\n",
    "\n",
    "                \n",
    "                \n",
    "                for re, pa, sha in zip(train_result[f'{str(caps[0])}']['resized'], train_result[str(caps[0])]['cropped'],train_result[str(caps[0])]['shape'] ):\n",
    "                    re, pa = re/255., pa/255.\n",
    "                    # re, pa = re.float(), pa.float()\n",
    "                    \n",
    "                    re = re.unsqueeze(0)\n",
    "                    # pa = pa.unsqueeze(0)\n",
    "                    re = re.to(device)\n",
    "                    # pa = pa.to(device)\n",
    "\n",
    "                    pa = torch.tensor(pa).unsqueeze(0)\n",
    "                    pa = pa.to(device)\n",
    "\n",
    "                    output = model(re,txt)\n",
    "                    h,w = sha\n",
    "                    c_output = center_crop(output, (h*down_scale, w*down_scale))\n",
    "                    # c_pa = center_crop(pa, sha)\n",
    "                    # print(c_output.shape, pa.shape)\n",
    "                    for_loss = resize(c_output, (h, w), interpolation=InterpolationMode.BICUBIC)\n",
    "\n",
    "                    # loss = criterion(c_output, c_pa)\n",
    "                    l2_loss = L2(for_loss, pa)\n",
    "                    l1_loss = L1(for_loss, pa)\n",
    "                    p_loss = per_loss(for_loss, pa)\n",
    "\n",
    "                    loss = lam*p_loss+(1-lam/2)*l1_loss+(1-lam/2)*l2_loss\n",
    "\n",
    "                    optimizer.zero_grad()\n",
    "                    loss.backward()\n",
    "                    optimizer.step()\n",
    "\n",
    "                    total_loss += loss\n",
    "                    total += 1\n",
    "            avg_loss = total_loss / total\n",
    "            train_text = f'Train | Epoch: [{e+1}/{epochs}] |  MSE: {avg_loss} | Total: {total}'\n",
    "            print('='*len(train_text))\n",
    "            print(train_text)\n",
    "\n",
    "        else:\n",
    "            total_loss = 0\n",
    "            total = 0\n",
    "            model.eval()\n",
    "\n",
    "            test_result = {}\n",
    "            \n",
    "            with torch.no_grad():\n",
    "                for oo, bimg, caps in tqdm(val_dataloader, desc='Test', leave=False):\n",
    "\n",
    "                    test_result[f'{str(caps[0])}'] = {\n",
    "                        'phrases': [],\n",
    "                        'org_img':[],\n",
    "                        'shape':[],\n",
    "                        'cropped':[],\n",
    "                        'padded':[],\n",
    "                        'resized':[],\n",
    "                        'output':[],\n",
    "                        'c_padded':[],\n",
    "                        'detect':[],\n",
    "                        'for_loss':[]\n",
    "                    }\n",
    "\n",
    "                    i_caps = str(caps[0])\n",
    "                    bimg = bimg.squeeze()\n",
    "                    b_boxes, b_logits, b_phrases, b_encoded_text = predict(\n",
    "                            model=dect_model,\n",
    "                            image=bimg,\n",
    "                            caption=i_caps,\n",
    "                            box_threshold=BOX_TRESHOLD,\n",
    "                            text_threshold=TEXT_TRESHOLD\n",
    "                        )\n",
    "                    test_result[f'{str(caps[0])}']['phrases'].append(b_phrases)\n",
    "                    oo = oo.squeeze()\n",
    "                    h, w, c = oo.shape\n",
    "                    boxes2 = b_boxes * torch.Tensor([w, h, w, h])\n",
    "                    xyxy = box_convert(boxes=boxes2, in_fmt=\"cxcywh\", out_fmt=\"xyxy\").numpy()\n",
    "                    test_result[f'{str(caps[0])}']['org_img'].append(oo)\n",
    "\n",
    "                    for xyxy_idx in range(len(xyxy)):\n",
    "                        x1, y1, x2, y2 = xyxy[xyxy_idx].astype(int)\n",
    "                        cropped_img = oo[y1:y2, x1:x2].permute(2,1,0)\n",
    "\n",
    "                        _, h, w = cropped_img.shape\n",
    "                        if h>w:\n",
    "                            if h>target_size:\n",
    "                                cropped_img = resize(cropped_img, (target_size, int(target_size*(w/h))))\n",
    "                        else:\n",
    "                            if w>target_size:\n",
    "                                cropped_img = resize(cropped_img, (int(target_size*(h/w)), target_size))\n",
    "                        \n",
    "                        test_result[f'{str(caps[0])}']['cropped'].append(cropped_img)\n",
    "                        _, hh, ww = cropped_img.shape\n",
    "                        test_result[f'{str(caps[0])}']['shape'].append((hh,ww))\n",
    "                        \n",
    "                        nh, nw = target_size - hh,  target_size - ww\n",
    "                        padd = (nw//2, nw//2, nh//2, nh//2)\n",
    "                        s_img = torch.nn.functional.pad(cropped_img, padd)\n",
    "                        s_img = resize(s_img, (target_size, target_size))\n",
    "                        test_result[f'{str(caps[0])}']['resized'].append(s_img)\n",
    "                \n",
    "                        \n",
    "\n",
    "                    # for b in test_result[f'{str(caps[0])}']['padded']:\n",
    "                    #     _, h, w = b.shape\n",
    "                    #     s_img = resize(b, (h//down_scale, w//down_scale))\n",
    "                        \n",
    "                    #     test_result[f'{str(caps[0])}']['resized'].append(s_img)\n",
    "\n",
    "                    txt = b_encoded_text['encoded_text']\n",
    "\n",
    "                    for re, pa, sha in zip(test_result[f'{str(caps[0])}']['resized'], test_result[str(caps[0])]['cropped'], test_result[str(caps[0])]['shape']):\n",
    "                        re, pa = re/255., pa/255.\n",
    "                        # re, pa = re.float(), pa.float()\n",
    "                        # re = re.unsqueeze(0)\n",
    "                        # pa = pa.unsqueeze(0)\n",
    "                        # re = re.to(device)\n",
    "                        # pa = pa.to(device)\n",
    "                        re = re.unsqueeze(0)\n",
    "                        # pa = pa.unsqueeze(0)\n",
    "                        re = re.to(device)\n",
    "                        # pa = pa.to(device)\n",
    "\n",
    "                        pa = torch.tensor(pa).unsqueeze(0)\n",
    "                        pa = pa.to(device)\n",
    "\n",
    "                        output = model(re,txt)\n",
    "                        h, w = sha\n",
    "                        c_output = center_crop(output, (h*down_scale, w*down_scale))\n",
    "                        # c_pa = center_crop(pa, sha)\n",
    "                        for_loss = resize(c_output, (h, w),interpolation=InterpolationMode.BICUBIC)\n",
    "                        test_result[f'{str(caps[0])}']['output'].append(c_output.detach().squeeze(0).cpu().numpy())\n",
    "                        test_result[f'{str(caps[0])}']['for_loss'].append(for_loss.detach().squeeze(0).cpu().numpy())\n",
    "                        # test_result[f'{str(caps[0])}']['c_padded'].append(c_pa.detach().squeeze(0).cpu().numpy())\n",
    "                        # test_result[f'{str(caps[0])}']['label'].append(pa.detach().squeeze(0).cpu().numpy())\n",
    "\n",
    "                        l2_loss = L2(for_loss, pa)\n",
    "                        l1_loss = L1(for_loss, pa)\n",
    "\n",
    "                        p_loss = per_loss(for_loss, pa)\n",
    "                        loss = lam*p_loss+(1-lam/2)*l1_loss+(1-lam/2)*l2_loss\n",
    "                        total_loss += loss\n",
    "                        total += 1\n",
    "                avg_loss = total_loss / total\n",
    "                test_text = f'Test  | Epoch: [{e+1}/{epochs}] |  MSE: {avg_loss} | Total: {total}'\n",
    "                print(test_text)\n",
    "                print('='*len(train_text))\n",
    "\n",
    "                if avg_loss < best_loss:\n",
    "                    print('Update results')\n",
    "                    scheduler_cnt = 0\n",
    "                    best_result = test_result\n",
    "                    best_loss = avg_loss\n",
    "                    best_model = deepcopy(model.state_dict())\n",
    "                else:\n",
    "                    scheduler_cnt += 1\n",
    "                    print(scheduler_cnt)\n",
    "                    if scheduler_cnt == patience:\n",
    "                        optimizer.param_groups[0]['lr'] /= 2\n",
    "                        lr_list.append(optimizer.param_groups[0]['lr'])\n",
    "                        print(optimizer.param_groups[0]['lr'])\n",
    "                        scheduler_cnt = 0\n",
    "                        \n",
    "\n",
    "send_tg_message(f'Finish Server Computer X8 - real inverse + L1 & L2 not softmax')"
   ]
  },
  {
   "cell_type": "code",
   "execution_count": 17,
   "metadata": {},
   "outputs": [],
   "source": [
    "import os\n",
    "from PIL import Image\n",
    "from torchvision.transforms.functional import center_crop\n",
    "\n",
    "def save_imgs(results, root='results'):\n",
    "    \n",
    "\n",
    "    for k in results.keys():\n",
    "        # root = './resultsX4'\n",
    "        if not os.path.isdir(root):\n",
    "            os.mkdir(root)\n",
    "\n",
    "        if not os.path.isdir(os.path.join(root, k)):\n",
    "            os.mkdir(os.path.join(root, k))\n",
    "        save_path = os.path.join(root, k)\n",
    "        \n",
    "        org = Image.fromarray(results[k]['org_img'][0].numpy())\n",
    "        org.save(os.path.join(save_path, 'org.png'))\n",
    "        if len(results[k]['phrases'][0]) == 0:\n",
    "            print('ups')\n",
    "            continue\n",
    "        zz = 0\n",
    "        for i in range(len(results[k]['phrases'][0])):\n",
    "            save_path = os.path.join(root, k)\n",
    "            \n",
    "            output = torch.tensor(results[k]['output'][i])\n",
    "            output = Image.fromarray((np.clip(output.permute(2,1,0).numpy(),0,1)*255).astype(np.uint8))\n",
    "\n",
    "            # noc_output = torch.tensor(results[k]['output'][i])\n",
    "            # noc_output = Image.fromarray((np.clip(noc_output.permute(2,1,0).numpy(),0,1)*255).astype(np.uint8))\n",
    "            # output = Image.fromarray((np.clip(center_crop(output, results[k]['shape'][i]).permute(2,1,0).numpy(),0,1)*255).astype(np.uint8))\n",
    "            crop = results[k]['cropped'][i].permute(2,1,0)\n",
    "            detect = (np.clip(results[k]['for_loss'][i].transpose(2,1,0),0,1)*255).astype(np.uint8)\n",
    "\n",
    "            crop = Image.fromarray(crop.numpy()) #Image.fromarray((np.clip(crop.numpy(),0,1)*255).astype(np.uint8))\n",
    "            detect = Image.fromarray(detect)\n",
    "\n",
    "            if not os.path.isdir(os.path.join(save_path, f'{results[k][\"phrases\"][0][i]}')):\n",
    "                zz = 1\n",
    "                os.mkdir(os.path.join(save_path, f'{results[k][\"phrases\"][0][i]}'))\n",
    "            save_path = os.path.join(save_path, f'{results[k][\"phrases\"][0][i]}')\n",
    "            if os.path.isdir(save_path):\n",
    "                output.save(os.path.join(save_path, f'output{zz}.png'))\n",
    "                crop.save(os.path.join(save_path, f'label{zz}.png'))\n",
    "                detect.save(os.path.join(save_path, f'for_loss{zz}.png'))\n",
    "                # noc_output.save(os.path.join(save_path, f'noc_output{zz}.png'))\n",
    "                zz += 1\n",
    "            "
   ]
  },
  {
   "cell_type": "code",
   "execution_count": 24,
   "metadata": {},
   "outputs": [
    {
     "data": {
      "text/plain": [
       "8"
      ]
     },
     "execution_count": 24,
     "metadata": {},
     "output_type": "execute_result"
    }
   ],
   "source": [
    "down_scale"
   ]
  },
  {
   "cell_type": "code",
   "execution_count": 29,
   "metadata": {},
   "outputs": [
    {
     "ename": "FileNotFoundError",
     "evalue": "[WinError 3] 지정된 경로를 찾을 수 없습니다: 'resultsX8x2withDetection\\\\Three stuffed animals are sitting on a bed. \\\\three stuffed animals'",
     "output_type": "error",
     "traceback": [
      "\u001b[1;31m---------------------------------------------------------------------------\u001b[0m",
      "\u001b[1;31mFileNotFoundError\u001b[0m                         Traceback (most recent call last)",
      "Cell \u001b[1;32mIn[29], line 1\u001b[0m\n\u001b[1;32m----> 1\u001b[0m \u001b[43msave_imgs\u001b[49m\u001b[43m(\u001b[49m\u001b[43mbest_result\u001b[49m\u001b[43m,\u001b[49m\u001b[43m \u001b[49m\u001b[38;5;124;43mf\u001b[39;49m\u001b[38;5;124;43m'\u001b[39;49m\u001b[38;5;124;43mresultsX\u001b[39;49m\u001b[38;5;132;43;01m{\u001b[39;49;00m\u001b[43mdown_scale\u001b[49m\u001b[38;5;132;43;01m}\u001b[39;49;00m\u001b[38;5;124;43mx2withDetection\u001b[39;49m\u001b[38;5;124;43m'\u001b[39;49m\u001b[43m)\u001b[49m\n",
      "Cell \u001b[1;32mIn[27], line 36\u001b[0m, in \u001b[0;36msave_imgs\u001b[1;34m(results, root)\u001b[0m\n\u001b[0;32m     34\u001b[0m \u001b[38;5;28;01mif\u001b[39;00m \u001b[38;5;129;01mnot\u001b[39;00m os\u001b[38;5;241m.\u001b[39mpath\u001b[38;5;241m.\u001b[39misdir(os\u001b[38;5;241m.\u001b[39mpath\u001b[38;5;241m.\u001b[39mjoin(save_path, \u001b[38;5;124mf\u001b[39m\u001b[38;5;124m'\u001b[39m\u001b[38;5;132;01m{\u001b[39;00mresults[k][\u001b[38;5;124m\"\u001b[39m\u001b[38;5;124mphrases\u001b[39m\u001b[38;5;124m\"\u001b[39m][\u001b[38;5;241m0\u001b[39m][i]\u001b[38;5;132;01m}\u001b[39;00m\u001b[38;5;124m'\u001b[39m)):\n\u001b[0;32m     35\u001b[0m     zz \u001b[38;5;241m=\u001b[39m \u001b[38;5;241m1\u001b[39m\n\u001b[1;32m---> 36\u001b[0m     \u001b[43mos\u001b[49m\u001b[38;5;241;43m.\u001b[39;49m\u001b[43mmkdir\u001b[49m\u001b[43m(\u001b[49m\u001b[43mos\u001b[49m\u001b[38;5;241;43m.\u001b[39;49m\u001b[43mpath\u001b[49m\u001b[38;5;241;43m.\u001b[39;49m\u001b[43mjoin\u001b[49m\u001b[43m(\u001b[49m\u001b[43msave_path\u001b[49m\u001b[43m,\u001b[49m\u001b[43m \u001b[49m\u001b[38;5;124;43mf\u001b[39;49m\u001b[38;5;124;43m'\u001b[39;49m\u001b[38;5;132;43;01m{\u001b[39;49;00m\u001b[43mresults\u001b[49m\u001b[43m[\u001b[49m\u001b[43mk\u001b[49m\u001b[43m]\u001b[49m\u001b[43m[\u001b[49m\u001b[38;5;124;43m\"\u001b[39;49m\u001b[38;5;124;43mphrases\u001b[39;49m\u001b[38;5;124;43m\"\u001b[39;49m\u001b[43m]\u001b[49m\u001b[43m[\u001b[49m\u001b[38;5;241;43m0\u001b[39;49m\u001b[43m]\u001b[49m\u001b[43m[\u001b[49m\u001b[43mi\u001b[49m\u001b[43m]\u001b[49m\u001b[38;5;132;43;01m}\u001b[39;49;00m\u001b[38;5;124;43m'\u001b[39;49m\u001b[43m)\u001b[49m\u001b[43m)\u001b[49m\n\u001b[0;32m     37\u001b[0m save_path \u001b[38;5;241m=\u001b[39m os\u001b[38;5;241m.\u001b[39mpath\u001b[38;5;241m.\u001b[39mjoin(save_path, \u001b[38;5;124mf\u001b[39m\u001b[38;5;124m'\u001b[39m\u001b[38;5;132;01m{\u001b[39;00mresults[k][\u001b[38;5;124m\"\u001b[39m\u001b[38;5;124mphrases\u001b[39m\u001b[38;5;124m\"\u001b[39m][\u001b[38;5;241m0\u001b[39m][i]\u001b[38;5;132;01m}\u001b[39;00m\u001b[38;5;124m'\u001b[39m)\n\u001b[0;32m     38\u001b[0m \u001b[38;5;28;01mif\u001b[39;00m os\u001b[38;5;241m.\u001b[39mpath\u001b[38;5;241m.\u001b[39misdir(save_path):\n",
      "\u001b[1;31mFileNotFoundError\u001b[0m: [WinError 3] 지정된 경로를 찾을 수 없습니다: 'resultsX8x2withDetection\\\\Three stuffed animals are sitting on a bed. \\\\three stuffed animals'"
     ]
    }
   ],
   "source": [
    "save_imgs(best_result, f'resultsX{down_scale}x2withDetection_1e-6')"
   ]
  },
  {
   "cell_type": "code",
   "execution_count": 23,
   "metadata": {},
   "outputs": [
    {
     "data": {
      "text/plain": [
       "'three stuffed animals'"
      ]
     },
     "execution_count": 23,
     "metadata": {},
     "output_type": "execute_result"
    }
   ],
   "source": [
    "os.mkdir('./resultsX8x2withDetection\\\\Three stuffed animals are sitting on a bed.\\\\three stuffed animals')"
   ]
  },
  {
   "cell_type": "code",
   "execution_count": 31,
   "metadata": {},
   "outputs": [
    {
     "data": {
      "text/plain": [
       "8"
      ]
     },
     "execution_count": 31,
     "metadata": {},
     "output_type": "execute_result"
    }
   ],
   "source": [
    "down_scale"
   ]
  },
  {
   "cell_type": "code",
   "execution_count": 30,
   "metadata": {},
   "outputs": [],
   "source": [
    "with open(file=f'resultsX{down_scale}x2withDetection_1e-6.pkl', mode='rb') as f:\n",
    "    dicdic=pickle.load(f)"
   ]
  },
  {
   "cell_type": "code",
   "execution_count": null,
   "metadata": {},
   "outputs": [],
   "source": [
    "dicdic"
   ]
  },
  {
   "cell_type": "code",
   "execution_count": null,
   "metadata": {},
   "outputs": [],
   "source": [
    "best_result['Three stuffed animals are sitting on a bed. '][\"phrases\"][0][0]"
   ]
  },
  {
   "cell_type": "code",
   "execution_count": null,
   "metadata": {},
   "outputs": [],
   "source": [
    "best_result['']"
   ]
  },
  {
   "cell_type": "code",
   "execution_count": 15,
   "metadata": {},
   "outputs": [],
   "source": [
    "import pickle\n",
    "\n",
    "with open(f'resultsX{down_scale}real_inverse_+_L1_&_L2_not_softmax.pkl','wb') as fw:\n",
    "    pickle.dump(best_result, fw)"
   ]
  },
  {
   "cell_type": "code",
   "execution_count": 16,
   "metadata": {},
   "outputs": [],
   "source": [
    "path = './result_model/X8_real_inverse_+_L1_&_L2_not_softmax.pt'\n",
    "torch.save(best_model, path)"
   ]
  },
  {
   "cell_type": "code",
   "execution_count": null,
   "metadata": {},
   "outputs": [],
   "source": [
    "from skimage.metrics import peak_signal_noise_ratio, structural_similarity\n",
    "\n",
    "print(\"PSNR :\", peak_signal_noise_ratio(Test_result_img['output'][0], Test_result_img['big_image'][0]))\n",
    "print(\"SSIM :\", structural_similarity((Test_result_img['output'][0]*255).astype(np.uint8), (Test_result_img['big_image'][0]*255).astype(np.uint8), channel_axis=2,multichannel=True))"
   ]
  },
  {
   "cell_type": "code",
   "execution_count": 15,
   "metadata": {},
   "outputs": [
    {
     "data": {
      "text/plain": [
       "torch.Size([64])"
      ]
     },
     "execution_count": 15,
     "metadata": {},
     "output_type": "execute_result"
    }
   ],
   "source": [
    "nn.Parameter(torch.randn((64))).shape"
   ]
  },
  {
   "cell_type": "code",
   "execution_count": 16,
   "metadata": {},
   "outputs": [
    {
     "data": {
      "text/plain": [
       "torch.Size([64])"
      ]
     },
     "execution_count": 16,
     "metadata": {},
     "output_type": "execute_result"
    }
   ],
   "source": [
    "nn.Parameter(torch.ones((64))).shape"
   ]
  },
  {
   "cell_type": "code",
   "execution_count": 59,
   "metadata": {},
   "outputs": [
    {
     "name": "stdout",
     "output_type": "stream",
     "text": [
      "torch.Size([1, 64, 64])\n",
      "torch.Size([])\n"
     ]
    },
    {
     "name": "stderr",
     "output_type": "stream",
     "text": [
      "C:\\Users\\juniy\\AppData\\Local\\Temp\\ipykernel_14140\\2370105043.py:7: UserWarning: Implicit dimension choice for softmax has been deprecated. Change the call to include dim=X as an argument.\n",
      "  print(sf(b).max(dim=1)[0].shape)\n"
     ]
    }
   ],
   "source": [
    "import torch.nn as nn\n",
    "import torch\n",
    "sf = nn.Softmax()\n",
    "\n",
    "a = nn.Parameter(torch.randn((1,1,64,64)))\n",
    "b = nn.Parameter(torch.randn(1,128,64,64))\n",
    "print(sf(b).max(dim=1)[0].shape)\n",
    "print((a.flatten()@b.mean(dim=1).flatten()).shape)\n"
   ]
  },
  {
   "cell_type": "code",
   "execution_count": 37,
   "metadata": {},
   "outputs": [
    {
     "data": {
      "text/plain": [
       "torch.Size([1, 64, 64])"
      ]
     },
     "execution_count": 37,
     "metadata": {},
     "output_type": "execute_result"
    }
   ],
   "source": [
    "b.mean(dim=1).shape"
   ]
  },
  {
   "cell_type": "code",
   "execution_count": 53,
   "metadata": {},
   "outputs": [
    {
     "ename": "RuntimeError",
     "evalue": "1D tensors expected, but got 2D and 2D tensors",
     "output_type": "error",
     "traceback": [
      "\u001b[1;31m---------------------------------------------------------------------------\u001b[0m",
      "\u001b[1;31mRuntimeError\u001b[0m                              Traceback (most recent call last)",
      "Cell \u001b[1;32mIn[53], line 1\u001b[0m\n\u001b[1;32m----> 1\u001b[0m \u001b[43mtorch\u001b[49m\u001b[38;5;241;43m.\u001b[39;49m\u001b[43mdot\u001b[49m\u001b[43m(\u001b[49m\u001b[43ma\u001b[49m\u001b[38;5;241;43m.\u001b[39;49m\u001b[43mview\u001b[49m\u001b[43m(\u001b[49m\u001b[38;5;241;43m-\u001b[39;49m\u001b[38;5;241;43m1\u001b[39;49m\u001b[43m,\u001b[49m\u001b[38;5;241;43m64\u001b[39;49m\u001b[43m)\u001b[49m\u001b[43m,\u001b[49m\u001b[43m \u001b[49m\u001b[43mb\u001b[49m\u001b[38;5;241;43m.\u001b[39;49m\u001b[43mmean\u001b[49m\u001b[43m(\u001b[49m\u001b[43mdim\u001b[49m\u001b[38;5;241;43m=\u001b[39;49m\u001b[38;5;241;43m1\u001b[39;49m\u001b[43m)\u001b[49m\u001b[38;5;241;43m.\u001b[39;49m\u001b[43mview\u001b[49m\u001b[43m(\u001b[49m\u001b[38;5;241;43m-\u001b[39;49m\u001b[38;5;241;43m1\u001b[39;49m\u001b[43m,\u001b[49m\u001b[38;5;241;43m64\u001b[39;49m\u001b[43m)\u001b[49m\u001b[43m)\u001b[49m\n",
      "\u001b[1;31mRuntimeError\u001b[0m: 1D tensors expected, but got 2D and 2D tensors"
     ]
    }
   ],
   "source": [
    "torch.dot(a.view(-1,64), b.mean(dim=1).view(-1,64))"
   ]
  },
  {
   "cell_type": "code",
   "execution_count": 70,
   "metadata": {},
   "outputs": [
    {
     "data": {
      "text/plain": [
       "torch.Size([1, 1, 64, 64])"
      ]
     },
     "execution_count": 70,
     "metadata": {},
     "output_type": "execute_result"
    }
   ],
   "source": [
    "sf = nn.Softmax(dim=-1)\n",
    "sf(a@b.mean(dim=1).transpose(-2,-1)).shape"
   ]
  },
  {
   "cell_type": "code",
   "execution_count": null,
   "metadata": {},
   "outputs": [],
   "source": []
  }
 ],
 "metadata": {
  "kernelspec": {
   "display_name": "team6",
   "language": "python",
   "name": "python3"
  },
  "language_info": {
   "codemirror_mode": {
    "name": "ipython",
    "version": 3
   },
   "file_extension": ".py",
   "mimetype": "text/x-python",
   "name": "python",
   "nbconvert_exporter": "python",
   "pygments_lexer": "ipython3",
   "version": "3.8.16"
  }
 },
 "nbformat": 4,
 "nbformat_minor": 2
}
