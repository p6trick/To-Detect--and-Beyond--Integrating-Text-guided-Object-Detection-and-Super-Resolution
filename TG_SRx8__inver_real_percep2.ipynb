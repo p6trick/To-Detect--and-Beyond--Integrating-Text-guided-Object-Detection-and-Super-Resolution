{
 "cells": [
  {
   "cell_type": "code",
   "execution_count": 7,
   "metadata": {},
   "outputs": [],
   "source": [
    "import cv2\n",
    "import numpy as np\n",
    "from torchvision.datasets import CocoCaptions\n",
    "import torch\n",
    "import torch.nn as nn\n",
    "import torchvision.transforms as transforms\n",
    "from torchvision.transforms.functional import resize\n",
    "import torchvision"
   ]
  },
  {
   "cell_type": "markdown",
   "metadata": {},
   "source": [
    "## Unet"
   ]
  },
  {
   "cell_type": "code",
   "execution_count": 8,
   "metadata": {},
   "outputs": [],
   "source": [
    "import Detection.GroundingDINO.groundingdino.datasets.transforms as T\n",
    "\n",
    "transform = T.Compose(\n",
    "        [\n",
    "            T.RandomResize([800], max_size=1333),\n",
    "            T.ToTensor(),\n",
    "            T.Normalize([0.485, 0.456, 0.406], [0.229, 0.224, 0.225]),\n",
    "        ]\n",
    "    )\n"
   ]
  },
  {
   "cell_type": "code",
   "execution_count": 9,
   "metadata": {},
   "outputs": [],
   "source": [
    "from torch.utils.data import Dataset\n",
    "\n",
    "\n",
    "class CustomDataset(Dataset):\n",
    "    def __init__(self,phase, transform):\n",
    "        self.phase = phase\n",
    "        \n",
    "        if phase == 'train':\n",
    "            self.dataset = CocoCaptions(root='./train2017', annFile='./annotations/captions_train2017.json')\n",
    "        else:\n",
    "            self.dataset = CocoCaptions(root='./val2017', annFile='./annotations/captions_val2017.json')\n",
    "        \n",
    "        self.transform = transform\n",
    "        \n",
    "        \n",
    "        \n",
    "    def __len__(self):\n",
    "        return len(self.dataset)\n",
    "    \n",
    "    def __getitem__(self,idx):\n",
    "        \n",
    "        org_img, caps = self.dataset[idx]\n",
    "\n",
    "        img,_ = self.transform(org_img, None)\n",
    "        \n",
    "        random_idx = torch.randint(0,len(caps), (1,))\n",
    "        \n",
    "        if self.phase == 'train':\n",
    "            return np.array(org_img), img, caps[random_idx]\n",
    "        else:\n",
    "            return np.array(org_img), img, caps[1]\n"
   ]
  },
  {
   "cell_type": "code",
   "execution_count": 10,
   "metadata": {},
   "outputs": [],
   "source": [
    "from SResolution.TG_Umodels import *\n",
    "\n",
    "def select_model(down_scale, shape):\n",
    "    if down_scale == 2:\n",
    "        model = TG_UNet2(3,3, shape)\n",
    "    elif down_scale == 4:\n",
    "        model = TG_UNet4x2(3,3, shape)\n",
    "    elif down_scale == 8:\n",
    "        model = TG_UNet8x2(3,3, shape)\n",
    "\n",
    "    return model"
   ]
  },
  {
   "cell_type": "code",
   "execution_count": 11,
   "metadata": {},
   "outputs": [],
   "source": [
    "class VGGPerceptualLoss(torch.nn.Module):\n",
    "    def __init__(self, resize=True):\n",
    "        super(VGGPerceptualLoss, self).__init__()\n",
    "        blocks = []\n",
    "        blocks.append(torchvision.models.vgg16(pretrained=True).features[:4].eval())\n",
    "        blocks.append(torchvision.models.vgg16(pretrained=True).features[4:9].eval())\n",
    "        blocks.append(torchvision.models.vgg16(pretrained=True).features[9:16].eval())\n",
    "        blocks.append(torchvision.models.vgg16(pretrained=True).features[16:23].eval())\n",
    "        for bl in blocks:\n",
    "            for p in bl.parameters():\n",
    "                p.requires_grad = False\n",
    "        self.blocks = torch.nn.ModuleList(blocks)\n",
    "        self.transform = torch.nn.functional.interpolate\n",
    "        self.resize = resize\n",
    "        self.register_buffer(\"mean\", torch.tensor([0.485, 0.456, 0.406]).view(1, 3, 1, 1))\n",
    "        self.register_buffer(\"std\", torch.tensor([0.229, 0.224, 0.225]).view(1, 3, 1, 1))\n",
    "\n",
    "    def forward(self, input, target, feature_layers=[0, 1, 2, 3], style_layers=[]):\n",
    "        if input.shape[1] != 3:\n",
    "            input = input.repeat(1, 3, 1, 1)\n",
    "            target = target.repeat(1, 3, 1, 1)\n",
    "        input = (input-self.mean) / self.std\n",
    "        target = (target-self.mean) / self.std\n",
    "        if self.resize:\n",
    "            input = self.transform(input, mode='bilinear', size=(224, 224), align_corners=False)\n",
    "            target = self.transform(target, mode='bilinear', size=(224, 224), align_corners=False)\n",
    "        loss = 0.0\n",
    "        x = input\n",
    "        y = target\n",
    "        for i, block in enumerate(self.blocks):\n",
    "            x = block(x)\n",
    "            y = block(y)\n",
    "            if i in feature_layers:\n",
    "                loss += torch.nn.functional.l1_loss(x, y)\n",
    "            if i in style_layers:\n",
    "                act_x = x.reshape(x.shape[0], x.shape[1], -1)\n",
    "                act_y = y.reshape(y.shape[0], y.shape[1], -1)\n",
    "                gram_x = act_x @ act_x.permute(0, 2, 1)\n",
    "                gram_y = act_y @ act_y.permute(0, 2, 1)\n",
    "                loss += torch.nn.functional.l1_loss(gram_x, gram_y)\n",
    "        return loss"
   ]
  },
  {
   "cell_type": "code",
   "execution_count": 12,
   "metadata": {},
   "outputs": [
    {
     "name": "stderr",
     "output_type": "stream",
     "text": [
      "c:\\Users\\juniy\\anaconda3\\envs\\torch\\lib\\site-packages\\torchvision\\models\\_utils.py:208: UserWarning: The parameter 'pretrained' is deprecated since 0.13 and may be removed in the future, please use 'weights' instead.\n",
      "  warnings.warn(\n",
      "c:\\Users\\juniy\\anaconda3\\envs\\torch\\lib\\site-packages\\torchvision\\models\\_utils.py:223: UserWarning: Arguments other than a weight enum or `None` for 'weights' are deprecated since 0.13 and may be removed in the future. The current behavior is equivalent to passing `weights=VGG16_Weights.IMAGENET1K_V1`. You can also use `weights=VGG16_Weights.DEFAULT` to get the most up-to-date weights.\n",
      "  warnings.warn(msg)\n"
     ]
    },
    {
     "name": "stdout",
     "output_type": "stream",
     "text": [
      "cuda:0\n"
     ]
    }
   ],
   "source": [
    "\n",
    "\n",
    "down_scale = 4\n",
    "input_shape = (128,128)\n",
    "model = select_model(down_scale,input_shape)\n",
    "patience = 5\n",
    "L2 = nn.MSELoss()\n",
    "L1 = nn.L1Loss()\n",
    "per_loss = VGGPerceptualLoss()\n",
    "lam = 0.6\n",
    "epochs = 50\n",
    "lr = 1e-3\n",
    "optimizer = torch.optim.AdamW(model.parameters(), lr=lr)\n",
    "device = 'cuda:0' if torch.cuda.is_available() else 'cpu'\n",
    "per_loss = per_loss.to(device)\n",
    "\n",
    "\n",
    "print(device)\n"
   ]
  },
  {
   "cell_type": "code",
   "execution_count": 13,
   "metadata": {},
   "outputs": [
    {
     "name": "stdout",
     "output_type": "stream",
     "text": [
      "loading annotations into memory...\n",
      "Done (t=0.62s)\n",
      "creating index...\n",
      "index created!\n",
      "loading annotations into memory...\n",
      "Done (t=0.03s)\n",
      "creating index...\n",
      "index created!\n"
     ]
    }
   ],
   "source": [
    "from torch.utils.data import DataLoader\n",
    "from torch.utils.data import RandomSampler, DataLoader, Subset\n",
    "\n",
    "trainDataset = CustomDataset('train', transform)\n",
    "\n",
    "num_train_samples = 1000\n",
    "sample_ds = Subset(trainDataset, np.arange(num_train_samples))\n",
    "sample_sampler = RandomSampler(sample_ds)\n",
    "# sample_dl = DataLoader(sample_ds, sampler=sample_sampler, batch_size=1)\n",
    "train_dataloader = DataLoader(sample_ds, batch_size=1, shuffle=True)\n",
    "\n",
    "valDataset = CustomDataset('val', transform)\n",
    "num_train_samples = 200\n",
    "sample_ds = Subset(valDataset, np.arange(num_train_samples))\n",
    "sample_sampler = RandomSampler(sample_ds)\n",
    "val_dataloader = DataLoader(sample_ds, batch_size=1, shuffle=False)"
   ]
  },
  {
   "cell_type": "code",
   "execution_count": 14,
   "metadata": {},
   "outputs": [
    {
     "name": "stdout",
     "output_type": "stream",
     "text": [
      "1000 200\n"
     ]
    }
   ],
   "source": [
    "print(len(train_dataloader), len(val_dataloader))"
   ]
  },
  {
   "cell_type": "code",
   "execution_count": 15,
   "metadata": {},
   "outputs": [
    {
     "data": {
      "text/plain": [
       "(torch.Size([1, 640, 480, 3]), torch.Size([1, 3, 1066, 800]), tuple)"
      ]
     },
     "execution_count": 15,
     "metadata": {},
     "output_type": "execute_result"
    }
   ],
   "source": [
    "oo, a, c = next(iter(train_dataloader))\n",
    "\n",
    "oo.shape, a.shape, type(c)"
   ]
  },
  {
   "cell_type": "code",
   "execution_count": 17,
   "metadata": {},
   "outputs": [
    {
     "name": "stderr",
     "output_type": "stream",
     "text": [
      "UserWarning: torch.meshgrid: in an upcoming release, it will be required to pass the indexing argument. (Triggered internally at C:\\actions-runner\\_work\\pytorch\\pytorch\\builder\\windows\\pytorch\\aten\\src\\ATen\\native\\TensorShape.cpp:3484.)\n"
     ]
    },
    {
     "name": "stdout",
     "output_type": "stream",
     "text": [
      "final text_encoder_type: bert-base-uncased\n"
     ]
    },
    {
     "name": "stderr",
     "output_type": "stream",
     "text": [
      "A parameter name that contains `beta` will be renamed internally to `bias`. Please use a different name to suppress this warning.\n",
      "A parameter name that contains `gamma` will be renamed internally to `weight`. Please use a different name to suppress this warning.\n",
      "A parameter name that contains `beta` will be renamed internally to `bias`. Please use a different name to suppress this warning.\n",
      "A parameter name that contains `gamma` will be renamed internally to `weight`. Please use a different name to suppress this warning.\n",
      "A parameter name that contains `beta` will be renamed internally to `bias`. Please use a different name to suppress this warning.\n",
      "A parameter name that contains `gamma` will be renamed internally to `weight`. Please use a different name to suppress this warning.\n",
      "A parameter name that contains `beta` will be renamed internally to `bias`. Please use a different name to suppress this warning.\n",
      "A parameter name that contains `gamma` will be renamed internally to `weight`. Please use a different name to suppress this warning.\n",
      "A parameter name that contains `beta` will be renamed internally to `bias`. Please use a different name to suppress this warning.\n",
      "A parameter name that contains `gamma` will be renamed internally to `weight`. Please use a different name to suppress this warning.\n",
      "A parameter name that contains `beta` will be renamed internally to `bias`. Please use a different name to suppress this warning.\n",
      "A parameter name that contains `gamma` will be renamed internally to `weight`. Please use a different name to suppress this warning.\n",
      "A parameter name that contains `beta` will be renamed internally to `bias`. Please use a different name to suppress this warning.\n",
      "A parameter name that contains `gamma` will be renamed internally to `weight`. Please use a different name to suppress this warning.\n",
      "A parameter name that contains `beta` will be renamed internally to `bias`. Please use a different name to suppress this warning.\n",
      "A parameter name that contains `gamma` will be renamed internally to `weight`. Please use a different name to suppress this warning.\n",
      "A parameter name that contains `beta` will be renamed internally to `bias`. Please use a different name to suppress this warning.\n",
      "A parameter name that contains `gamma` will be renamed internally to `weight`. Please use a different name to suppress this warning.\n",
      "A parameter name that contains `beta` will be renamed internally to `bias`. Please use a different name to suppress this warning.\n",
      "A parameter name that contains `gamma` will be renamed internally to `weight`. Please use a different name to suppress this warning.\n",
      "A parameter name that contains `beta` will be renamed internally to `bias`. Please use a different name to suppress this warning.\n",
      "A parameter name that contains `gamma` will be renamed internally to `weight`. Please use a different name to suppress this warning.\n",
      "A parameter name that contains `beta` will be renamed internally to `bias`. Please use a different name to suppress this warning.\n",
      "A parameter name that contains `gamma` will be renamed internally to `weight`. Please use a different name to suppress this warning.\n",
      "A parameter name that contains `beta` will be renamed internally to `bias`. Please use a different name to suppress this warning.\n",
      "A parameter name that contains `gamma` will be renamed internally to `weight`. Please use a different name to suppress this warning.\n",
      "A parameter name that contains `beta` will be renamed internally to `bias`. Please use a different name to suppress this warning.\n",
      "A parameter name that contains `gamma` will be renamed internally to `weight`. Please use a different name to suppress this warning.\n",
      "A parameter name that contains `beta` will be renamed internally to `bias`. Please use a different name to suppress this warning.\n",
      "A parameter name that contains `gamma` will be renamed internally to `weight`. Please use a different name to suppress this warning.\n",
      "A parameter name that contains `beta` will be renamed internally to `bias`. Please use a different name to suppress this warning.\n",
      "A parameter name that contains `gamma` will be renamed internally to `weight`. Please use a different name to suppress this warning.\n",
      "A parameter name that contains `beta` will be renamed internally to `bias`. Please use a different name to suppress this warning.\n",
      "A parameter name that contains `gamma` will be renamed internally to `weight`. Please use a different name to suppress this warning.\n",
      "A parameter name that contains `beta` will be renamed internally to `bias`. Please use a different name to suppress this warning.\n",
      "A parameter name that contains `gamma` will be renamed internally to `weight`. Please use a different name to suppress this warning.\n",
      "A parameter name that contains `beta` will be renamed internally to `bias`. Please use a different name to suppress this warning.\n",
      "A parameter name that contains `gamma` will be renamed internally to `weight`. Please use a different name to suppress this warning.\n",
      "A parameter name that contains `beta` will be renamed internally to `bias`. Please use a different name to suppress this warning.\n",
      "A parameter name that contains `gamma` will be renamed internally to `weight`. Please use a different name to suppress this warning.\n",
      "A parameter name that contains `beta` will be renamed internally to `bias`. Please use a different name to suppress this warning.\n",
      "A parameter name that contains `gamma` will be renamed internally to `weight`. Please use a different name to suppress this warning.\n",
      "A parameter name that contains `beta` will be renamed internally to `bias`. Please use a different name to suppress this warning.\n",
      "A parameter name that contains `gamma` will be renamed internally to `weight`. Please use a different name to suppress this warning.\n",
      "A parameter name that contains `beta` will be renamed internally to `bias`. Please use a different name to suppress this warning.\n",
      "A parameter name that contains `gamma` will be renamed internally to `weight`. Please use a different name to suppress this warning.\n",
      "A parameter name that contains `beta` will be renamed internally to `bias`. Please use a different name to suppress this warning.\n",
      "A parameter name that contains `gamma` will be renamed internally to `weight`. Please use a different name to suppress this warning.\n",
      "A parameter name that contains `beta` will be renamed internally to `bias`. Please use a different name to suppress this warning.\n",
      "A parameter name that contains `gamma` will be renamed internally to `weight`. Please use a different name to suppress this warning.\n",
      "A parameter name that contains `beta` will be renamed internally to `bias`. Please use a different name to suppress this warning.\n",
      "A parameter name that contains `gamma` will be renamed internally to `weight`. Please use a different name to suppress this warning.\n",
      "Train:   0%|          | 0/1000 [00:00<?, ?it/s]FutureWarning: The `device` argument is deprecated and will be removed in v5 of Transformers.\n",
      "UserWarning: None of the inputs have requires_grad=True. Gradients will be None\n",
      "UserWarning: The default value of the antialias parameter of all the resizing transforms (Resize(), RandomResizedCrop(), etc.) will change from None to True in v0.17, in order to be consistent across the PIL and Tensor backends. To suppress this warning, directly pass antialias=True (recommended, future default), antialias=None (current default, which means False for Tensors and True for PIL), or antialias=False (only works on Tensors - PIL will still use antialiasing). This also applies if you are using the inference transforms from the models weights: update the call to weights.transforms(antialias=True).\n",
      "UserWarning: To copy construct from a tensor, it is recommended to use sourceTensor.clone().detach() or sourceTensor.clone().detach().requires_grad_(True), rather than torch.tensor(sourceTensor).\n",
      "Train:   0%|          | 1/1000 [00:11<3:10:00, 11.41s/it]FutureWarning: The `device` argument is deprecated and will be removed in v5 of Transformers.\n",
      "UserWarning: None of the inputs have requires_grad=True. Gradients will be None\n",
      "                                                          \r"
     ]
    },
    {
     "name": "stdout",
     "output_type": "stream",
     "text": [
      "===============================================================\n",
      "Train | Epoch: [1/50] |  MSE: 0.12652617692947388 | Total: 2789\n"
     ]
    },
    {
     "name": "stderr",
     "output_type": "stream",
     "text": [
      "Test:   0%|          | 0/200 [00:00<?, ?it/s]UserWarning: To copy construct from a tensor, it is recommended to use sourceTensor.clone().detach() or sourceTensor.clone().detach().requires_grad_(True), rather than torch.tensor(sourceTensor).\n",
      "                                                       \r"
     ]
    },
    {
     "name": "stdout",
     "output_type": "stream",
     "text": [
      "Test  | Epoch: [1/50] |  MSE: 0.11871081590652466 | Total: 569\n",
      "===============================================================\n",
      "Update results\n"
     ]
    },
    {
     "name": "stderr",
     "output_type": "stream",
     "text": [
      "                                                          \r"
     ]
    },
    {
     "name": "stdout",
     "output_type": "stream",
     "text": [
      "===============================================================\n",
      "Train | Epoch: [2/50] |  MSE: 0.10302730649709702 | Total: 2825\n"
     ]
    },
    {
     "name": "stderr",
     "output_type": "stream",
     "text": [
      "                                                       \r"
     ]
    },
    {
     "name": "stdout",
     "output_type": "stream",
     "text": [
      "Test  | Epoch: [2/50] |  MSE: 0.08407217264175415 | Total: 569\n",
      "===============================================================\n",
      "Update results\n"
     ]
    },
    {
     "name": "stderr",
     "output_type": "stream",
     "text": [
      "                                                          \r"
     ]
    },
    {
     "name": "stdout",
     "output_type": "stream",
     "text": [
      "===============================================================\n",
      "Train | Epoch: [3/50] |  MSE: 0.09470123797655106 | Total: 2704\n"
     ]
    },
    {
     "name": "stderr",
     "output_type": "stream",
     "text": [
      "                                                       \r"
     ]
    },
    {
     "name": "stdout",
     "output_type": "stream",
     "text": [
      "Test  | Epoch: [3/50] |  MSE: 0.07147619128227234 | Total: 569\n",
      "===============================================================\n",
      "Update results\n"
     ]
    },
    {
     "name": "stderr",
     "output_type": "stream",
     "text": [
      "                                                          \r"
     ]
    },
    {
     "name": "stdout",
     "output_type": "stream",
     "text": [
      "==============================================================\n",
      "Train | Epoch: [4/50] |  MSE: 0.0895346999168396 | Total: 2723\n"
     ]
    },
    {
     "name": "stderr",
     "output_type": "stream",
     "text": [
      "                                                       \r"
     ]
    },
    {
     "name": "stdout",
     "output_type": "stream",
     "text": [
      "Test  | Epoch: [4/50] |  MSE: 0.1388551890850067 | Total: 569\n",
      "==============================================================\n",
      "1\n"
     ]
    },
    {
     "name": "stderr",
     "output_type": "stream",
     "text": [
      "                                                          \r"
     ]
    },
    {
     "name": "stdout",
     "output_type": "stream",
     "text": [
      "===============================================================\n",
      "Train | Epoch: [5/50] |  MSE: 0.08454270660877228 | Total: 2660\n"
     ]
    },
    {
     "name": "stderr",
     "output_type": "stream",
     "text": [
      "                                                       \r"
     ]
    },
    {
     "name": "stdout",
     "output_type": "stream",
     "text": [
      "Test  | Epoch: [5/50] |  MSE: 0.0749005526304245 | Total: 569\n",
      "===============================================================\n",
      "2\n"
     ]
    },
    {
     "name": "stderr",
     "output_type": "stream",
     "text": [
      "                                                          \r"
     ]
    },
    {
     "name": "stdout",
     "output_type": "stream",
     "text": [
      "==============================================================\n",
      "Train | Epoch: [6/50] |  MSE: 0.0849185362458229 | Total: 2738\n"
     ]
    },
    {
     "name": "stderr",
     "output_type": "stream",
     "text": [
      "                                                       \r"
     ]
    },
    {
     "name": "stdout",
     "output_type": "stream",
     "text": [
      "Test  | Epoch: [6/50] |  MSE: 0.0837223157286644 | Total: 569\n",
      "==============================================================\n",
      "3\n"
     ]
    },
    {
     "name": "stderr",
     "output_type": "stream",
     "text": [
      "                                                          \r"
     ]
    },
    {
     "name": "stdout",
     "output_type": "stream",
     "text": [
      "===============================================================\n",
      "Train | Epoch: [7/50] |  MSE: 0.08250697702169418 | Total: 2871\n"
     ]
    },
    {
     "name": "stderr",
     "output_type": "stream",
     "text": [
      "                                                       \r"
     ]
    },
    {
     "name": "stdout",
     "output_type": "stream",
     "text": [
      "Test  | Epoch: [7/50] |  MSE: 0.07104940712451935 | Total: 569\n",
      "===============================================================\n",
      "Update results\n"
     ]
    },
    {
     "name": "stderr",
     "output_type": "stream",
     "text": [
      "                                                          \r"
     ]
    },
    {
     "name": "stdout",
     "output_type": "stream",
     "text": [
      "===============================================================\n",
      "Train | Epoch: [8/50] |  MSE: 0.07586831599473953 | Total: 2737\n"
     ]
    },
    {
     "name": "stderr",
     "output_type": "stream",
     "text": [
      "                                                       \r"
     ]
    },
    {
     "name": "stdout",
     "output_type": "stream",
     "text": [
      "Test  | Epoch: [8/50] |  MSE: 0.07981201261281967 | Total: 569\n",
      "===============================================================\n",
      "1\n"
     ]
    },
    {
     "name": "stderr",
     "output_type": "stream",
     "text": [
      "                                                          \r"
     ]
    },
    {
     "name": "stdout",
     "output_type": "stream",
     "text": [
      "===============================================================\n",
      "Train | Epoch: [9/50] |  MSE: 0.06746115535497665 | Total: 2870\n"
     ]
    },
    {
     "name": "stderr",
     "output_type": "stream",
     "text": [
      "                                                       \r"
     ]
    },
    {
     "name": "stdout",
     "output_type": "stream",
     "text": [
      "Test  | Epoch: [9/50] |  MSE: 0.09509368985891342 | Total: 569\n",
      "===============================================================\n",
      "2\n"
     ]
    },
    {
     "name": "stderr",
     "output_type": "stream",
     "text": [
      "                                                          \r"
     ]
    },
    {
     "name": "stdout",
     "output_type": "stream",
     "text": [
      "================================================================\n",
      "Train | Epoch: [10/50] |  MSE: 0.06484407186508179 | Total: 2800\n"
     ]
    },
    {
     "name": "stderr",
     "output_type": "stream",
     "text": [
      "                                                       \r"
     ]
    },
    {
     "name": "stdout",
     "output_type": "stream",
     "text": [
      "Test  | Epoch: [10/50] |  MSE: 0.04848191514611244 | Total: 569\n",
      "================================================================\n",
      "Update results\n"
     ]
    },
    {
     "name": "stderr",
     "output_type": "stream",
     "text": [
      "                                                          \r"
     ]
    },
    {
     "name": "stdout",
     "output_type": "stream",
     "text": [
      "=================================================================\n",
      "Train | Epoch: [11/50] |  MSE: 0.061210133135318756 | Total: 2879\n"
     ]
    },
    {
     "name": "stderr",
     "output_type": "stream",
     "text": [
      "                                                       \r"
     ]
    },
    {
     "name": "stdout",
     "output_type": "stream",
     "text": [
      "Test  | Epoch: [11/50] |  MSE: 0.08836108446121216 | Total: 569\n",
      "=================================================================\n",
      "1\n"
     ]
    },
    {
     "name": "stderr",
     "output_type": "stream",
     "text": [
      "                                                          \r"
     ]
    },
    {
     "name": "stdout",
     "output_type": "stream",
     "text": [
      "================================================================\n",
      "Train | Epoch: [12/50] |  MSE: 0.05917167663574219 | Total: 2771\n"
     ]
    },
    {
     "name": "stderr",
     "output_type": "stream",
     "text": [
      "                                                       \r"
     ]
    },
    {
     "name": "stdout",
     "output_type": "stream",
     "text": [
      "Test  | Epoch: [12/50] |  MSE: 0.08557744324207306 | Total: 569\n",
      "================================================================\n",
      "2\n"
     ]
    },
    {
     "name": "stderr",
     "output_type": "stream",
     "text": [
      "                                                          \r"
     ]
    },
    {
     "name": "stdout",
     "output_type": "stream",
     "text": [
      "================================================================\n",
      "Train | Epoch: [13/50] |  MSE: 0.05718359723687172 | Total: 2740\n"
     ]
    },
    {
     "name": "stderr",
     "output_type": "stream",
     "text": [
      "                                                       \r"
     ]
    },
    {
     "name": "stdout",
     "output_type": "stream",
     "text": [
      "Test  | Epoch: [13/50] |  MSE: 0.06592273712158203 | Total: 569\n",
      "================================================================\n",
      "3\n"
     ]
    },
    {
     "name": "stderr",
     "output_type": "stream",
     "text": [
      "                                                          \r"
     ]
    },
    {
     "name": "stdout",
     "output_type": "stream",
     "text": [
      "===============================================================\n",
      "Train | Epoch: [14/50] |  MSE: 0.0582338310778141 | Total: 2687\n"
     ]
    },
    {
     "name": "stderr",
     "output_type": "stream",
     "text": [
      "                                                       \r"
     ]
    },
    {
     "name": "stdout",
     "output_type": "stream",
     "text": [
      "Test  | Epoch: [14/50] |  MSE: 0.06653624773025513 | Total: 569\n",
      "===============================================================\n",
      "4\n"
     ]
    },
    {
     "name": "stderr",
     "output_type": "stream",
     "text": [
      "                                                          \r"
     ]
    },
    {
     "name": "stdout",
     "output_type": "stream",
     "text": [
      "================================================================\n",
      "Train | Epoch: [15/50] |  MSE: 0.05675636976957321 | Total: 2798\n"
     ]
    },
    {
     "name": "stderr",
     "output_type": "stream",
     "text": [
      "                                                       \r"
     ]
    },
    {
     "name": "stdout",
     "output_type": "stream",
     "text": [
      "Test  | Epoch: [15/50] |  MSE: 0.06813263893127441 | Total: 569\n",
      "================================================================\n",
      "5\n",
      "0.0005\n"
     ]
    },
    {
     "name": "stderr",
     "output_type": "stream",
     "text": [
      "                                                          \r"
     ]
    },
    {
     "name": "stdout",
     "output_type": "stream",
     "text": [
      "=================================================================\n",
      "Train | Epoch: [16/50] |  MSE: 0.049587447196245193 | Total: 2742\n"
     ]
    },
    {
     "name": "stderr",
     "output_type": "stream",
     "text": [
      "                                                       \r"
     ]
    },
    {
     "name": "stdout",
     "output_type": "stream",
     "text": [
      "Test  | Epoch: [16/50] |  MSE: 0.052839551120996475 | Total: 569\n",
      "=================================================================\n",
      "1\n"
     ]
    },
    {
     "name": "stderr",
     "output_type": "stream",
     "text": [
      "                                                          \r"
     ]
    },
    {
     "name": "stdout",
     "output_type": "stream",
     "text": [
      "=================================================================\n",
      "Train | Epoch: [17/50] |  MSE: 0.049846600741147995 | Total: 2762\n"
     ]
    },
    {
     "name": "stderr",
     "output_type": "stream",
     "text": [
      "                                                       \r"
     ]
    },
    {
     "name": "stdout",
     "output_type": "stream",
     "text": [
      "Test  | Epoch: [17/50] |  MSE: 0.0736544281244278 | Total: 569\n",
      "=================================================================\n",
      "2\n"
     ]
    },
    {
     "name": "stderr",
     "output_type": "stream",
     "text": [
      "                                                          \r"
     ]
    },
    {
     "name": "stdout",
     "output_type": "stream",
     "text": [
      "=================================================================\n",
      "Train | Epoch: [18/50] |  MSE: 0.049133870750665665 | Total: 2843\n"
     ]
    },
    {
     "name": "stderr",
     "output_type": "stream",
     "text": [
      "                                                       \r"
     ]
    },
    {
     "name": "stdout",
     "output_type": "stream",
     "text": [
      "Test  | Epoch: [18/50] |  MSE: 0.1415092647075653 | Total: 569\n",
      "=================================================================\n",
      "3\n"
     ]
    },
    {
     "name": "stderr",
     "output_type": "stream",
     "text": [
      "                                                          \r"
     ]
    },
    {
     "name": "stdout",
     "output_type": "stream",
     "text": [
      "================================================================\n",
      "Train | Epoch: [19/50] |  MSE: 0.04781566932797432 | Total: 2719\n"
     ]
    },
    {
     "name": "stderr",
     "output_type": "stream",
     "text": [
      "                                                       \r"
     ]
    },
    {
     "name": "stdout",
     "output_type": "stream",
     "text": [
      "Test  | Epoch: [19/50] |  MSE: 0.04428756982088089 | Total: 569\n",
      "================================================================\n",
      "Update results\n"
     ]
    },
    {
     "name": "stderr",
     "output_type": "stream",
     "text": [
      "                                                          \r"
     ]
    },
    {
     "name": "stdout",
     "output_type": "stream",
     "text": [
      "================================================================\n",
      "Train | Epoch: [20/50] |  MSE: 0.04719142988324165 | Total: 2866\n"
     ]
    },
    {
     "name": "stderr",
     "output_type": "stream",
     "text": [
      "                                                       \r"
     ]
    },
    {
     "name": "stdout",
     "output_type": "stream",
     "text": [
      "Test  | Epoch: [20/50] |  MSE: 0.05467560514807701 | Total: 569\n",
      "================================================================\n",
      "1\n"
     ]
    },
    {
     "name": "stderr",
     "output_type": "stream",
     "text": [
      "                                                          \r"
     ]
    },
    {
     "name": "stdout",
     "output_type": "stream",
     "text": [
      "=================================================================\n",
      "Train | Epoch: [21/50] |  MSE: 0.046921174973249435 | Total: 2804\n"
     ]
    },
    {
     "name": "stderr",
     "output_type": "stream",
     "text": [
      "                                                       \r"
     ]
    },
    {
     "name": "stdout",
     "output_type": "stream",
     "text": [
      "Test  | Epoch: [21/50] |  MSE: 0.08791612088680267 | Total: 569\n",
      "=================================================================\n",
      "2\n"
     ]
    },
    {
     "name": "stderr",
     "output_type": "stream",
     "text": [
      "                                                          \r"
     ]
    },
    {
     "name": "stdout",
     "output_type": "stream",
     "text": [
      "================================================================\n",
      "Train | Epoch: [22/50] |  MSE: 0.04869765043258667 | Total: 2772\n"
     ]
    },
    {
     "name": "stderr",
     "output_type": "stream",
     "text": [
      "                                                       \r"
     ]
    },
    {
     "name": "stdout",
     "output_type": "stream",
     "text": [
      "Test  | Epoch: [22/50] |  MSE: 0.08312873542308807 | Total: 569\n",
      "================================================================\n",
      "3\n"
     ]
    },
    {
     "name": "stderr",
     "output_type": "stream",
     "text": [
      "                                                          \r"
     ]
    },
    {
     "name": "stdout",
     "output_type": "stream",
     "text": [
      "================================================================\n",
      "Train | Epoch: [23/50] |  MSE: 0.04616061970591545 | Total: 2731\n"
     ]
    },
    {
     "name": "stderr",
     "output_type": "stream",
     "text": [
      "                                                       \r"
     ]
    },
    {
     "name": "stdout",
     "output_type": "stream",
     "text": [
      "Test  | Epoch: [23/50] |  MSE: 0.05307430401444435 | Total: 569\n",
      "================================================================\n",
      "4\n"
     ]
    },
    {
     "name": "stderr",
     "output_type": "stream",
     "text": [
      "                                                          \r"
     ]
    },
    {
     "name": "stdout",
     "output_type": "stream",
     "text": [
      "================================================================\n",
      "Train | Epoch: [24/50] |  MSE: 0.04657638818025589 | Total: 2735\n"
     ]
    },
    {
     "name": "stderr",
     "output_type": "stream",
     "text": [
      "                                                       \r"
     ]
    },
    {
     "name": "stdout",
     "output_type": "stream",
     "text": [
      "Test  | Epoch: [24/50] |  MSE: 0.0675237625837326 | Total: 569\n",
      "================================================================\n",
      "5\n",
      "0.00025\n"
     ]
    },
    {
     "name": "stderr",
     "output_type": "stream",
     "text": [
      "                                                          \r"
     ]
    },
    {
     "name": "stdout",
     "output_type": "stream",
     "text": [
      "=================================================================\n",
      "Train | Epoch: [25/50] |  MSE: 0.043741725385189056 | Total: 2775\n"
     ]
    },
    {
     "name": "stderr",
     "output_type": "stream",
     "text": [
      "                                                       \r"
     ]
    },
    {
     "name": "stdout",
     "output_type": "stream",
     "text": [
      "Test  | Epoch: [25/50] |  MSE: 0.048758141696453094 | Total: 569\n",
      "=================================================================\n",
      "1\n"
     ]
    },
    {
     "name": "stderr",
     "output_type": "stream",
     "text": [
      "                                                          \r"
     ]
    },
    {
     "name": "stdout",
     "output_type": "stream",
     "text": [
      "================================================================\n",
      "Train | Epoch: [26/50] |  MSE: 0.04374727979302406 | Total: 2772\n"
     ]
    },
    {
     "name": "stderr",
     "output_type": "stream",
     "text": [
      "                                                       \r"
     ]
    },
    {
     "name": "stdout",
     "output_type": "stream",
     "text": [
      "Test  | Epoch: [26/50] |  MSE: 0.07756642997264862 | Total: 569\n",
      "================================================================\n",
      "2\n"
     ]
    },
    {
     "name": "stderr",
     "output_type": "stream",
     "text": [
      "                                                          \r"
     ]
    },
    {
     "name": "stdout",
     "output_type": "stream",
     "text": [
      "================================================================\n",
      "Train | Epoch: [27/50] |  MSE: 0.04282772168517113 | Total: 2799\n"
     ]
    },
    {
     "name": "stderr",
     "output_type": "stream",
     "text": [
      "                                                       \r"
     ]
    },
    {
     "name": "stdout",
     "output_type": "stream",
     "text": [
      "Test  | Epoch: [27/50] |  MSE: 0.05428019538521767 | Total: 569\n",
      "================================================================\n",
      "3\n"
     ]
    },
    {
     "name": "stderr",
     "output_type": "stream",
     "text": [
      "                                                          \r"
     ]
    },
    {
     "name": "stdout",
     "output_type": "stream",
     "text": [
      "================================================================\n",
      "Train | Epoch: [28/50] |  MSE: 0.04249510169029236 | Total: 2764\n"
     ]
    },
    {
     "name": "stderr",
     "output_type": "stream",
     "text": [
      "                                                       \r"
     ]
    },
    {
     "name": "stdout",
     "output_type": "stream",
     "text": [
      "Test  | Epoch: [28/50] |  MSE: 0.044846657663583755 | Total: 569\n",
      "================================================================\n",
      "4\n"
     ]
    },
    {
     "name": "stderr",
     "output_type": "stream",
     "text": [
      "                                                          \r"
     ]
    },
    {
     "name": "stdout",
     "output_type": "stream",
     "text": [
      "================================================================\n",
      "Train | Epoch: [29/50] |  MSE: 0.04245295003056526 | Total: 2799\n"
     ]
    },
    {
     "name": "stderr",
     "output_type": "stream",
     "text": [
      "                                                       \r"
     ]
    },
    {
     "name": "stdout",
     "output_type": "stream",
     "text": [
      "Test  | Epoch: [29/50] |  MSE: 0.08722168952226639 | Total: 569\n",
      "================================================================\n",
      "5\n",
      "0.000125\n"
     ]
    },
    {
     "name": "stderr",
     "output_type": "stream",
     "text": [
      "                                                          \r"
     ]
    },
    {
     "name": "stdout",
     "output_type": "stream",
     "text": [
      "=================================================================\n",
      "Train | Epoch: [30/50] |  MSE: 0.040819037705659866 | Total: 2745\n"
     ]
    },
    {
     "name": "stderr",
     "output_type": "stream",
     "text": [
      "                                                       \r"
     ]
    },
    {
     "name": "stdout",
     "output_type": "stream",
     "text": [
      "Test  | Epoch: [30/50] |  MSE: 0.0739225447177887 | Total: 569\n",
      "=================================================================\n",
      "1\n"
     ]
    },
    {
     "name": "stderr",
     "output_type": "stream",
     "text": [
      "                                                          \r"
     ]
    },
    {
     "name": "stdout",
     "output_type": "stream",
     "text": [
      "================================================================\n",
      "Train | Epoch: [31/50] |  MSE: 0.03987640142440796 | Total: 2782\n"
     ]
    },
    {
     "name": "stderr",
     "output_type": "stream",
     "text": [
      "                                                       \r"
     ]
    },
    {
     "name": "stdout",
     "output_type": "stream",
     "text": [
      "Test  | Epoch: [31/50] |  MSE: 0.04187789559364319 | Total: 569\n",
      "================================================================\n",
      "Update results\n"
     ]
    },
    {
     "name": "stderr",
     "output_type": "stream",
     "text": [
      "                                                          \r"
     ]
    },
    {
     "name": "stdout",
     "output_type": "stream",
     "text": [
      "=================================================================\n",
      "Train | Epoch: [32/50] |  MSE: 0.040286801755428314 | Total: 2875\n"
     ]
    },
    {
     "name": "stderr",
     "output_type": "stream",
     "text": [
      "                                                       \r"
     ]
    },
    {
     "name": "stdout",
     "output_type": "stream",
     "text": [
      "Test  | Epoch: [32/50] |  MSE: 0.06486006826162338 | Total: 569\n",
      "=================================================================\n",
      "1\n"
     ]
    },
    {
     "name": "stderr",
     "output_type": "stream",
     "text": [
      "                                                          \r"
     ]
    },
    {
     "name": "stdout",
     "output_type": "stream",
     "text": [
      "============================================================\n",
      "Train | Epoch: [33/50] |  MSE: 0.0402219183743 | Total: 2826\n"
     ]
    },
    {
     "name": "stderr",
     "output_type": "stream",
     "text": [
      "                                                       \r"
     ]
    },
    {
     "name": "stdout",
     "output_type": "stream",
     "text": [
      "Test  | Epoch: [33/50] |  MSE: 0.05898537114262581 | Total: 569\n",
      "============================================================\n",
      "2\n"
     ]
    },
    {
     "name": "stderr",
     "output_type": "stream",
     "text": [
      "                                                          \r"
     ]
    },
    {
     "name": "stdout",
     "output_type": "stream",
     "text": [
      "=================================================================\n",
      "Train | Epoch: [34/50] |  MSE: 0.040036968886852264 | Total: 2663\n"
     ]
    },
    {
     "name": "stderr",
     "output_type": "stream",
     "text": [
      "                                                       \r"
     ]
    },
    {
     "name": "stdout",
     "output_type": "stream",
     "text": [
      "Test  | Epoch: [34/50] |  MSE: 0.09496420621871948 | Total: 569\n",
      "=================================================================\n",
      "3\n"
     ]
    },
    {
     "name": "stderr",
     "output_type": "stream",
     "text": [
      "                                                          \r"
     ]
    },
    {
     "name": "stdout",
     "output_type": "stream",
     "text": [
      "=================================================================\n",
      "Train | Epoch: [35/50] |  MSE: 0.039902977645397186 | Total: 2845\n"
     ]
    },
    {
     "name": "stderr",
     "output_type": "stream",
     "text": [
      "                                                       \r"
     ]
    },
    {
     "name": "stdout",
     "output_type": "stream",
     "text": [
      "Test  | Epoch: [35/50] |  MSE: 0.06958602368831635 | Total: 569\n",
      "=================================================================\n",
      "4\n"
     ]
    },
    {
     "name": "stderr",
     "output_type": "stream",
     "text": [
      "                                                          \r"
     ]
    },
    {
     "name": "stdout",
     "output_type": "stream",
     "text": [
      "================================================================\n",
      "Train | Epoch: [36/50] |  MSE: 0.03990495577454567 | Total: 2816\n"
     ]
    },
    {
     "name": "stderr",
     "output_type": "stream",
     "text": [
      "                                                       \r"
     ]
    },
    {
     "name": "stdout",
     "output_type": "stream",
     "text": [
      "Test  | Epoch: [36/50] |  MSE: 0.07783656567335129 | Total: 569\n",
      "================================================================\n",
      "5\n",
      "6.25e-05\n"
     ]
    },
    {
     "name": "stderr",
     "output_type": "stream",
     "text": [
      "                                                          \r"
     ]
    },
    {
     "name": "stdout",
     "output_type": "stream",
     "text": [
      "================================================================\n",
      "Train | Epoch: [37/50] |  MSE: 0.03945574536919594 | Total: 2680\n"
     ]
    },
    {
     "name": "stderr",
     "output_type": "stream",
     "text": [
      "                                                       \r"
     ]
    },
    {
     "name": "stdout",
     "output_type": "stream",
     "text": [
      "Test  | Epoch: [37/50] |  MSE: 0.07505695521831512 | Total: 569\n",
      "================================================================\n",
      "1\n"
     ]
    },
    {
     "name": "stderr",
     "output_type": "stream",
     "text": [
      "                                                          \r"
     ]
    },
    {
     "name": "stdout",
     "output_type": "stream",
     "text": [
      "================================================================\n",
      "Train | Epoch: [38/50] |  MSE: 0.03940124809741974 | Total: 2791\n"
     ]
    },
    {
     "name": "stderr",
     "output_type": "stream",
     "text": [
      "                                                       \r"
     ]
    },
    {
     "name": "stdout",
     "output_type": "stream",
     "text": [
      "Test  | Epoch: [38/50] |  MSE: 0.11172391474246979 | Total: 569\n",
      "================================================================\n",
      "2\n"
     ]
    },
    {
     "name": "stderr",
     "output_type": "stream",
     "text": [
      "                                                          \r"
     ]
    },
    {
     "name": "stdout",
     "output_type": "stream",
     "text": [
      "================================================================\n",
      "Train | Epoch: [39/50] |  MSE: 0.03958030417561531 | Total: 2807\n"
     ]
    },
    {
     "name": "stderr",
     "output_type": "stream",
     "text": [
      "                                                       \r"
     ]
    },
    {
     "name": "stdout",
     "output_type": "stream",
     "text": [
      "Test  | Epoch: [39/50] |  MSE: 0.08068350702524185 | Total: 569\n",
      "================================================================\n",
      "3\n"
     ]
    },
    {
     "name": "stderr",
     "output_type": "stream",
     "text": [
      "                                                          \r"
     ]
    },
    {
     "name": "stdout",
     "output_type": "stream",
     "text": [
      "================================================================\n",
      "Train | Epoch: [40/50] |  MSE: 0.03926564380526543 | Total: 2781\n"
     ]
    },
    {
     "name": "stderr",
     "output_type": "stream",
     "text": [
      "                                                       \r"
     ]
    },
    {
     "name": "stdout",
     "output_type": "stream",
     "text": [
      "Test  | Epoch: [40/50] |  MSE: 0.07719331234693527 | Total: 569\n",
      "================================================================\n",
      "4\n"
     ]
    },
    {
     "name": "stderr",
     "output_type": "stream",
     "text": [
      "                                                          \r"
     ]
    },
    {
     "name": "stdout",
     "output_type": "stream",
     "text": [
      "================================================================\n",
      "Train | Epoch: [41/50] |  MSE: 0.03870855271816254 | Total: 2756\n"
     ]
    },
    {
     "name": "stderr",
     "output_type": "stream",
     "text": [
      "                                                       \r"
     ]
    },
    {
     "name": "stdout",
     "output_type": "stream",
     "text": [
      "Test  | Epoch: [41/50] |  MSE: 0.10377584397792816 | Total: 569\n",
      "================================================================\n",
      "5\n",
      "3.125e-05\n"
     ]
    },
    {
     "name": "stderr",
     "output_type": "stream",
     "text": [
      "                                                          \r"
     ]
    },
    {
     "name": "stdout",
     "output_type": "stream",
     "text": [
      "================================================================\n",
      "Train | Epoch: [42/50] |  MSE: 0.03928125649690628 | Total: 2814\n"
     ]
    },
    {
     "name": "stderr",
     "output_type": "stream",
     "text": [
      "                                                       \r"
     ]
    },
    {
     "name": "stdout",
     "output_type": "stream",
     "text": [
      "Test  | Epoch: [42/50] |  MSE: 0.08443369716405869 | Total: 569\n",
      "================================================================\n",
      "1\n"
     ]
    },
    {
     "name": "stderr",
     "output_type": "stream",
     "text": [
      "                                                          \r"
     ]
    },
    {
     "name": "stdout",
     "output_type": "stream",
     "text": [
      "=================================================================\n",
      "Train | Epoch: [43/50] |  MSE: 0.038502536714076996 | Total: 2782\n"
     ]
    },
    {
     "name": "stderr",
     "output_type": "stream",
     "text": [
      "                                                       \r"
     ]
    },
    {
     "name": "stdout",
     "output_type": "stream",
     "text": [
      "Test  | Epoch: [43/50] |  MSE: 0.07397468388080597 | Total: 569\n",
      "=================================================================\n",
      "2\n"
     ]
    },
    {
     "name": "stderr",
     "output_type": "stream",
     "text": [
      "                                                          \r"
     ]
    },
    {
     "name": "stdout",
     "output_type": "stream",
     "text": [
      "================================================================\n",
      "Train | Epoch: [44/50] |  MSE: 0.03758124262094498 | Total: 2793\n"
     ]
    },
    {
     "name": "stderr",
     "output_type": "stream",
     "text": [
      "                                                       \r"
     ]
    },
    {
     "name": "stdout",
     "output_type": "stream",
     "text": [
      "Test  | Epoch: [44/50] |  MSE: 0.05220164358615875 | Total: 569\n",
      "================================================================\n",
      "3\n"
     ]
    },
    {
     "name": "stderr",
     "output_type": "stream",
     "text": [
      "                                                          \r"
     ]
    },
    {
     "name": "stdout",
     "output_type": "stream",
     "text": [
      "=================================================================\n",
      "Train | Epoch: [45/50] |  MSE: 0.038092076778411865 | Total: 2681\n"
     ]
    },
    {
     "name": "stderr",
     "output_type": "stream",
     "text": [
      "                                                       \r"
     ]
    },
    {
     "name": "stdout",
     "output_type": "stream",
     "text": [
      "Test  | Epoch: [45/50] |  MSE: 0.059864696115255356 | Total: 569\n",
      "=================================================================\n",
      "4\n"
     ]
    },
    {
     "name": "stderr",
     "output_type": "stream",
     "text": [
      "                                                          \r"
     ]
    },
    {
     "name": "stdout",
     "output_type": "stream",
     "text": [
      "================================================================\n",
      "Train | Epoch: [46/50] |  MSE: 0.03720010071992874 | Total: 2706\n"
     ]
    },
    {
     "name": "stderr",
     "output_type": "stream",
     "text": [
      "                                                       \r"
     ]
    },
    {
     "name": "stdout",
     "output_type": "stream",
     "text": [
      "Test  | Epoch: [46/50] |  MSE: 0.05184287577867508 | Total: 569\n",
      "================================================================\n",
      "5\n",
      "1.5625e-05\n"
     ]
    },
    {
     "name": "stderr",
     "output_type": "stream",
     "text": [
      "                                                          \r"
     ]
    },
    {
     "name": "stdout",
     "output_type": "stream",
     "text": [
      "=================================================================\n",
      "Train | Epoch: [47/50] |  MSE: 0.038445450365543365 | Total: 2812\n"
     ]
    },
    {
     "name": "stderr",
     "output_type": "stream",
     "text": [
      "                                                       \r"
     ]
    },
    {
     "name": "stdout",
     "output_type": "stream",
     "text": [
      "Test  | Epoch: [47/50] |  MSE: 0.1053939163684845 | Total: 569\n",
      "=================================================================\n",
      "1\n"
     ]
    },
    {
     "name": "stderr",
     "output_type": "stream",
     "text": [
      "                                                          \r"
     ]
    },
    {
     "name": "stdout",
     "output_type": "stream",
     "text": [
      "=================================================================\n",
      "Train | Epoch: [48/50] |  MSE: 0.038777049630880356 | Total: 2776\n"
     ]
    },
    {
     "name": "stderr",
     "output_type": "stream",
     "text": [
      "                                                       \r"
     ]
    },
    {
     "name": "stdout",
     "output_type": "stream",
     "text": [
      "Test  | Epoch: [48/50] |  MSE: 0.0681728646159172 | Total: 569\n",
      "=================================================================\n",
      "2\n"
     ]
    },
    {
     "name": "stderr",
     "output_type": "stream",
     "text": [
      "                                                          \r"
     ]
    },
    {
     "name": "stdout",
     "output_type": "stream",
     "text": [
      "================================================================\n",
      "Train | Epoch: [49/50] |  MSE: 0.03735736012458801 | Total: 2795\n"
     ]
    },
    {
     "name": "stderr",
     "output_type": "stream",
     "text": [
      "                                                       \r"
     ]
    },
    {
     "name": "stdout",
     "output_type": "stream",
     "text": [
      "Test  | Epoch: [49/50] |  MSE: 0.07152619957923889 | Total: 569\n",
      "================================================================\n",
      "3\n"
     ]
    },
    {
     "name": "stderr",
     "output_type": "stream",
     "text": [
      "                                                          \r"
     ]
    },
    {
     "name": "stdout",
     "output_type": "stream",
     "text": [
      "===============================================================\n",
      "Train | Epoch: [50/50] |  MSE: 0.0380282886326313 | Total: 2707\n"
     ]
    },
    {
     "name": "stderr",
     "output_type": "stream",
     "text": [
      "                                                       \r"
     ]
    },
    {
     "name": "stdout",
     "output_type": "stream",
     "text": [
      "Test  | Epoch: [50/50] |  MSE: 0.05756545811891556 | Total: 569\n",
      "===============================================================\n",
      "4\n"
     ]
    }
   ],
   "source": [
    "from Detection.GroundingDINO.groundingdino.util.inference import load_model, load_image_6, predict, annotate\n",
    "from tqdm import tqdm \n",
    "import time\n",
    "from torchvision.ops import box_convert\n",
    "from torchvision.transforms.functional import center_crop\n",
    "from copy import deepcopy\n",
    "from torchvision.transforms import InterpolationMode\n",
    "\n",
    "\n",
    "iterable = range(epochs)\n",
    "\n",
    "dect_model = load_model(\"./Detection/GroundingDINO/groundingdino/config/GroundingDINO_SwinT_OGC.py\", \"./Detection/GroundingDINO//weights/groundingdino_swint_ogc.pth\")\n",
    "BOX_TRESHOLD = 0.35\n",
    "TEXT_TRESHOLD = 0.25\n",
    "\n",
    "target_size = 128\n",
    "\n",
    "model.to(device)\n",
    "send_tg_message(f'Start Server Computer X8')\n",
    "best_loss = float(\"inf\") \n",
    "best_result = None\n",
    "scheduler_cnt = 0\n",
    "lr_list = [lr]\n",
    "for e in iterable:\n",
    "    for p in ['Train', 'Test']:\n",
    "        if p == 'Train':\n",
    "            total_loss = 0\n",
    "            total = 0\n",
    "            model.train()\n",
    "\n",
    "            train_result = {}\n",
    "            \n",
    "            for oo, bimg, caps in tqdm(train_dataloader, desc='Train', leave=False):\n",
    "                # print(f'{str(caps[0])}')\n",
    "                train_result[f'{str(caps[0])}'] = {\n",
    "                    'phrases': [],\n",
    "                    'org_img':[],\n",
    "                    'shape':[],\n",
    "                    'cropped':[],\n",
    "                    'padded':[],\n",
    "                    'resized':[],\n",
    "                    'output':[],\n",
    "                    'c_padded':[]\n",
    "                }\n",
    "                \n",
    "                i_caps = str(caps[0])\n",
    "                bimg = bimg.squeeze()\n",
    "                b_boxes, b_logits, b_phrases, b_encoded_text = predict(\n",
    "                        model=dect_model,\n",
    "                        image=bimg,\n",
    "                        caption=i_caps,\n",
    "                        box_threshold=BOX_TRESHOLD,\n",
    "                        text_threshold=TEXT_TRESHOLD\n",
    "                    )\n",
    "                train_result[f'{str(caps[0])}']['phrases'].append(b_phrases)\n",
    "                oo = oo.squeeze()\n",
    "                h, w, c = oo.shape\n",
    "                boxes2 = b_boxes * torch.Tensor([w, h, w, h])\n",
    "                xyxy = box_convert(boxes=boxes2, in_fmt=\"cxcywh\", out_fmt=\"xyxy\").numpy()\n",
    "                \n",
    "                for xyxy_idx in range(len(xyxy)):\n",
    "                    x1, y1, x2, y2 = xyxy[xyxy_idx].astype(int)\n",
    "                    cropped_img = oo[y1:y2, x1:x2].permute(2,1,0)\n",
    "\n",
    "                    _, h, w = cropped_img.shape\n",
    "                    if h>w:\n",
    "                        if h>target_size:\n",
    "                            cropped_img = resize(cropped_img, (target_size, int(target_size*(w/h))))\n",
    "                    else:\n",
    "                        if w>target_size:\n",
    "                            cropped_img = resize(cropped_img, (int(target_size*(h/w)), target_size))\n",
    "\n",
    "\n",
    "                    train_result[f'{str(caps[0])}']['cropped'].append(cropped_img)\n",
    "                    _, h, w = cropped_img.shape\n",
    "                    train_result[f'{str(caps[0])}']['shape'].append((h,w))\n",
    "\n",
    "                    # half_crop = resize(cropped_img, (h//down_scale, w//down_scale))\n",
    "                    cc, hh, ww = cropped_img.shape\n",
    "                    # cc, hh, ww = half_crop.shape\n",
    "                    nh, nw = target_size - hh,  target_size - ww\n",
    "                    padd = (nw//2, nw//2, nh//2, nh//2)\n",
    "                    s_img = torch.nn.functional.pad(cropped_img, padd)\n",
    "                    s_img = resize(s_img, (target_size, target_size))\n",
    "                    train_result[f'{str(caps[0])}']['resized'].append(s_img)\n",
    "                \n",
    "\n",
    "                txt = b_encoded_text['encoded_text']\n",
    "\n",
    "\n",
    "                \n",
    "                \n",
    "                for re, pa, sha in zip(train_result[f'{str(caps[0])}']['resized'], train_result[str(caps[0])]['cropped'],train_result[str(caps[0])]['shape'] ):\n",
    "                    re, pa = re/255., pa/255.\n",
    "                    # re, pa = re.float(), pa.float()\n",
    "                    \n",
    "                    re = re.unsqueeze(0)\n",
    "                    # pa = pa.unsqueeze(0)\n",
    "                    re = re.to(device)\n",
    "                    # pa = pa.to(device)\n",
    "\n",
    "                    pa = torch.tensor(pa).unsqueeze(0)\n",
    "                    pa = pa.to(device)\n",
    "\n",
    "                    output = model(re,txt)\n",
    "                    h,w = sha\n",
    "                    c_output = center_crop(output, (h*down_scale, w*down_scale))\n",
    "                    # c_pa = center_crop(pa, sha)\n",
    "                    # print(c_output.shape, pa.shape)\n",
    "                    for_loss = resize(c_output, (h, w), interpolation=InterpolationMode.BICUBIC)\n",
    "\n",
    "                    # loss = criterion(c_output, c_pa)\n",
    "                    # l2_loss = L2(for_loss, pa)\n",
    "                    l1_loss = L1(for_loss, pa)\n",
    "                    # p_loss = per_loss(for_loss, pa)\n",
    "\n",
    "                    loss = l1_loss\n",
    "\n",
    "                    optimizer.zero_grad()\n",
    "                    loss.backward()\n",
    "                    optimizer.step()\n",
    "\n",
    "                    total_loss += loss\n",
    "                    total += 1\n",
    "            avg_loss = total_loss / total\n",
    "            train_text = f'Train | Epoch: [{e+1}/{epochs}] |  MSE: {avg_loss} | Total: {total}'\n",
    "            print('='*len(train_text))\n",
    "            print(train_text)\n",
    "\n",
    "        else:\n",
    "            total_loss = 0\n",
    "            total = 0\n",
    "            model.eval()\n",
    "\n",
    "            test_result = {}\n",
    "            \n",
    "            with torch.no_grad():\n",
    "                for oo, bimg, caps in tqdm(val_dataloader, desc='Test', leave=False):\n",
    "\n",
    "                    test_result[f'{str(caps[0])}'] = {\n",
    "                        'phrases': [],\n",
    "                        'org_img':[],\n",
    "                        'shape':[],\n",
    "                        'cropped':[],\n",
    "                        'padded':[],\n",
    "                        'resized':[],\n",
    "                        'output':[],\n",
    "                        'c_padded':[],\n",
    "                        'detect':[],\n",
    "                        'for_loss':[]\n",
    "                    }\n",
    "\n",
    "                    i_caps = str(caps[0])\n",
    "                    bimg = bimg.squeeze()\n",
    "                    b_boxes, b_logits, b_phrases, b_encoded_text = predict(\n",
    "                            model=dect_model,\n",
    "                            image=bimg,\n",
    "                            caption=i_caps,\n",
    "                            box_threshold=BOX_TRESHOLD,\n",
    "                            text_threshold=TEXT_TRESHOLD\n",
    "                        )\n",
    "                    test_result[f'{str(caps[0])}']['phrases'].append(b_phrases)\n",
    "                    oo = oo.squeeze()\n",
    "                    h, w, c = oo.shape\n",
    "                    boxes2 = b_boxes * torch.Tensor([w, h, w, h])\n",
    "                    xyxy = box_convert(boxes=boxes2, in_fmt=\"cxcywh\", out_fmt=\"xyxy\").numpy()\n",
    "                    test_result[f'{str(caps[0])}']['org_img'].append(oo)\n",
    "\n",
    "                    for xyxy_idx in range(len(xyxy)):\n",
    "                        x1, y1, x2, y2 = xyxy[xyxy_idx].astype(int)\n",
    "                        cropped_img = oo[y1:y2, x1:x2].permute(2,1,0)\n",
    "\n",
    "                        _, h, w = cropped_img.shape\n",
    "                        if h>w:\n",
    "                            if h>target_size:\n",
    "                                cropped_img = resize(cropped_img, (target_size, int(target_size*(w/h))))\n",
    "                        else:\n",
    "                            if w>target_size:\n",
    "                                cropped_img = resize(cropped_img, (int(target_size*(h/w)), target_size))\n",
    "                        \n",
    "                        test_result[f'{str(caps[0])}']['cropped'].append(cropped_img)\n",
    "                        _, hh, ww = cropped_img.shape\n",
    "                        test_result[f'{str(caps[0])}']['shape'].append((hh,ww))\n",
    "                        \n",
    "                        nh, nw = target_size - hh,  target_size - ww\n",
    "                        padd = (nw//2, nw//2, nh//2, nh//2)\n",
    "                        s_img = torch.nn.functional.pad(cropped_img, padd)\n",
    "                        s_img = resize(s_img, (target_size, target_size))\n",
    "                        test_result[f'{str(caps[0])}']['resized'].append(s_img)\n",
    "                \n",
    "                        \n",
    "\n",
    "                    # for b in test_result[f'{str(caps[0])}']['padded']:\n",
    "                    #     _, h, w = b.shape\n",
    "                    #     s_img = resize(b, (h//down_scale, w//down_scale))\n",
    "                        \n",
    "                    #     test_result[f'{str(caps[0])}']['resized'].append(s_img)\n",
    "\n",
    "                    txt = b_encoded_text['encoded_text']\n",
    "\n",
    "                    for re, pa, sha in zip(test_result[f'{str(caps[0])}']['resized'], test_result[str(caps[0])]['cropped'], test_result[str(caps[0])]['shape']):\n",
    "                        re, pa = re/255., pa/255.\n",
    "                        # re, pa = re.float(), pa.float()\n",
    "                        # re = re.unsqueeze(0)\n",
    "                        # pa = pa.unsqueeze(0)\n",
    "                        # re = re.to(device)\n",
    "                        # pa = pa.to(device)\n",
    "                        re = re.unsqueeze(0)\n",
    "                        # pa = pa.unsqueeze(0)\n",
    "                        re = re.to(device)\n",
    "                        # pa = pa.to(device)\n",
    "\n",
    "                        pa = torch.tensor(pa).unsqueeze(0)\n",
    "                        pa = pa.to(device)\n",
    "\n",
    "                        output = model(re,txt)\n",
    "                        h, w = sha\n",
    "                        c_output = center_crop(output, (h*down_scale, w*down_scale))\n",
    "                        # c_pa = center_crop(pa, sha)\n",
    "                        for_loss = resize(c_output, (h, w),interpolation=InterpolationMode.BICUBIC)\n",
    "                        test_result[f'{str(caps[0])}']['output'].append(c_output.detach().squeeze(0).cpu().numpy())\n",
    "                        test_result[f'{str(caps[0])}']['for_loss'].append(for_loss.detach().squeeze(0).cpu().numpy())\n",
    "                        # test_result[f'{str(caps[0])}']['c_padded'].append(c_pa.detach().squeeze(0).cpu().numpy())\n",
    "                        # test_result[f'{str(caps[0])}']['label'].append(pa.detach().squeeze(0).cpu().numpy())\n",
    "\n",
    "                        # l2_loss = L2(for_loss, pa)\n",
    "                        l1_loss = L1(for_loss, pa)\n",
    "\n",
    "                        # p_loss = per_loss(for_loss, pa)\n",
    "                        loss = l1_loss\n",
    "                        total_loss += loss\n",
    "                        total += 1\n",
    "                avg_loss = total_loss / total\n",
    "                test_text = f'Test  | Epoch: [{e+1}/{epochs}] |  MSE: {avg_loss} | Total: {total}'\n",
    "                print(test_text)\n",
    "                print('='*len(train_text))\n",
    "\n",
    "                if avg_loss < best_loss:\n",
    "                    print('Update results')\n",
    "                    scheduler_cnt = 0\n",
    "                    best_result = test_result\n",
    "                    best_loss = avg_loss\n",
    "                    best_model = deepcopy(model.state_dict())\n",
    "                else:\n",
    "                    scheduler_cnt += 1\n",
    "                    print(scheduler_cnt)\n",
    "                    if scheduler_cnt == patience:\n",
    "                        optimizer.param_groups[0]['lr'] /= 2\n",
    "                        lr_list.append(optimizer.param_groups[0]['lr'])\n",
    "                        print(optimizer.param_groups[0]['lr'])\n",
    "                        scheduler_cnt = 0\n",
    "                        \n",
    "\n",
    "send_tg_message(f'Finish Server Computer X8 - real inverse + L1 & L2 not softmax')"
   ]
  },
  {
   "cell_type": "code",
   "execution_count": 18,
   "metadata": {},
   "outputs": [],
   "source": [
    "import os\n",
    "from PIL import Image\n",
    "from torchvision.transforms.functional import center_crop\n",
    "\n",
    "def save_imgs(results, root='results'):\n",
    "    \n",
    "\n",
    "    for k in results.keys():\n",
    "        # root = './resultsX4'\n",
    "        if not os.path.isdir(root):\n",
    "            os.mkdir(root)\n",
    "\n",
    "        if not os.path.isdir(os.path.join(root, k)):\n",
    "            os.mkdir(os.path.join(root, k))\n",
    "        save_path = os.path.join(root, k)\n",
    "        \n",
    "        org = Image.fromarray(results[k]['org_img'][0].numpy())\n",
    "        org.save(os.path.join(save_path, 'org.png'))\n",
    "        if len(results[k]['phrases'][0]) == 0:\n",
    "            print('ups')\n",
    "            continue\n",
    "        zz = 0\n",
    "        for i in range(len(results[k]['phrases'][0])):\n",
    "            save_path = os.path.join(root, k)\n",
    "            \n",
    "            output = torch.tensor(results[k]['output'][i])\n",
    "            output = Image.fromarray((np.clip(output.permute(2,1,0).numpy(),0,1)*255).astype(np.uint8))\n",
    "\n",
    "            # noc_output = torch.tensor(results[k]['output'][i])\n",
    "            # noc_output = Image.fromarray((np.clip(noc_output.permute(2,1,0).numpy(),0,1)*255).astype(np.uint8))\n",
    "            # output = Image.fromarray((np.clip(center_crop(output, results[k]['shape'][i]).permute(2,1,0).numpy(),0,1)*255).astype(np.uint8))\n",
    "            crop = results[k]['cropped'][i].permute(2,1,0)\n",
    "            detect = (np.clip(results[k]['for_loss'][i].transpose(2,1,0),0,1)*255).astype(np.uint8)\n",
    "\n",
    "            crop = Image.fromarray(crop.numpy()) #Image.fromarray((np.clip(crop.numpy(),0,1)*255).astype(np.uint8))\n",
    "            detect = Image.fromarray(detect)\n",
    "\n",
    "            if not os.path.isdir(os.path.join(save_path, f'{results[k][\"phrases\"][0][i]}')):\n",
    "                zz = 1\n",
    "                os.mkdir(os.path.join(save_path, f'{results[k][\"phrases\"][0][i]}'))\n",
    "            save_path = os.path.join(save_path, f'{results[k][\"phrases\"][0][i]}')\n",
    "            if os.path.isdir(save_path):\n",
    "                output.save(os.path.join(save_path, f'output{zz}.png'))\n",
    "                crop.save(os.path.join(save_path, f'label{zz}.png'))\n",
    "                detect.save(os.path.join(save_path, f'for_loss{zz}.png'))\n",
    "                # noc_output.save(os.path.join(save_path, f'noc_output{zz}.png'))\n",
    "                zz += 1\n",
    "            "
   ]
  },
  {
   "cell_type": "code",
   "execution_count": 19,
   "metadata": {},
   "outputs": [
    {
     "data": {
      "text/plain": [
       "4"
      ]
     },
     "execution_count": 19,
     "metadata": {},
     "output_type": "execute_result"
    }
   ],
   "source": [
    "down_scale"
   ]
  },
  {
   "cell_type": "code",
   "execution_count": 21,
   "metadata": {},
   "outputs": [
    {
     "data": {
      "text/plain": [
       "dict_keys(['A room with chairs, a table, and a woman in it.', 'The large brown bear has a black nose.', 'A bedroom with a bookshelf full of books.', 'A stop sign that is hanging upside down.', 'Three stuffed animals are sitting on a bed. ', 'a woman standing on skiis while posing for the camera', 'A white oven and a white refrigerator are in the kitchen.', 'Two men playing baseball in a field on a sunny day.', 'This woman has just returned a volley in tennis', 'a large family poses for picture on tennis court', 'People underneath an arched bridge near the water.', 'A woman holds up her phone in front of her face.', 'Several children are riding on a toy train ride.', 'part of a sandwich sitting on a table', 'A paddle boarder on a large, still body of water.', 'A picture of an iMac desktop next to a Mac laptop on a desk. ', 'Many cars traveling on a busy road with exit signs overhead.', 'A red double decker bus driving down a city street.', 'A black fluffy cat sitting on top of a computer keyboard.', 'A sky photo to jumbo jet airplanes over a bridge.', \"A baby giraffe drinking milk from it's mother in a field.\", 'View of an apartment room with a bed an table and a view out the window.', \"A purple bus can't be missed on the city streets.\", 'A white bowl of green granny smith apples.', 'A baseball player swinging a bat over home plate.', 'A nicely set dining table filled with food and a cake topped with berries.', 'The boy is looking back at a wave in the ocean. ', 'A vintage school picture of grade school aged children.', 'A table with a plate, wine-filled glass, and bread, among other items', 'A skier is jumping while other skiers watch.', 'A person on skis and with poles in the snow and facing the blue sky.', 'Closeup of a bag containing a banana and a doughnut.', 'A large knife is sitting in front of a mug has a skull and crossbones.', 'A crowd of people stand near a man behind a bar with wine bottles on it.', 'An overcast day at dock with sea birds resting in the nearby marsh. ', 'A man is kneeling and holding on to a toilet.', 'A group of skiers have left a trail through the snow on the mountain. ', 'A plate of broccoli, rice, meat and other vegetables', 'Legs on a skateboard going down a small ramp,', 'A closeup of a group of bananas on a table ', 'A dinner plate that has white steamed rice with stir fry vegetables and chicken.', 'A young girl holding a controller playing a video game.', 'Two men shake hands at a formal dinner gathering.', 'A young man wearing a white shirt and tie.', 'A television, couch and chair in the corner of a room.', 'a man in his wetsuit riding a big wave on his surfboard', 'A cat is sitting and watching a computer screen.', 'A man uses a pair of big scissors to cut a pink ribbon.', 'A bus sitting still on the side of the road. ', 'a man sitting in a room taking a selfie in a mirror ', 'A group of people in room with surfboards.', 'A brown jetliner sitting on top of an airport runway.', 'A person relieving themselves in a white toilet.', 'A MAN IS SKIING ON THE SNOW SLOPES', 'Indoor tennis match, with a full crowd of spectators.', 'a close up of two bowls of food on a table ', 'Group of sheep standing next to a brick building. ', 'a yellow and red apple and some bananas', 'A five car blue and white train with passengers', 'a bathroom view of a tub and sink wit mirrors ', 'A man riding a wave on top of a surfboard.', 'A hitter is waiting for the pitch to be thrown', 'Two apples, an orange, some grapes and peanuts.', 'A building lined street with three lanes and light traffic.', 'A man and woman hugging in a restaurant', 'A woman in a costume speaks on a cellphone. ', 'A bathroom with no toilets and a red and green bucket. ', \"A man being kiss by a baby elephant with it's trunk.\", 'A group of children sitting on the grass with frisbees in their hands. ', 'A small child stands in the rain with an umbrella.', 'A close up from knees up front view of an elephant with trunk forward, outside on dirt, with other elephants, grass, bushes and white-blue sky.', 'a man on a surf board rides a wave ', 'two guys horseback riding and playing on the beach.', 'A tricycle sits outside of a garage. ', 'A guys stands in the sand playing with a kite. ', 'A kitchen that has black counters and wooden cabinets. ', 'A large orange and white kite flying in a blue sky.', 'a large modern hotel room with double beds', 'A person on a motor bike on a road.', 'Stemware is set face down on an elegantly set table.', 'The image has a large cubed clock on a post.', 'A young man skateboarding at a public park.', 'A plate on a table is filled with carrots and beans. ', 'People watching an on screen presentation of a gentleman in a suit.', 'Two people are sitting on chairs talking on at a corner.', 'A styrofoam plate with shredded chicken and a dish of broccoli with cheese sauce.', 'Stylish man looking into camera with blurred background ', 'Six different pictures of single slices of pizza.', 'Two small children petting animals at a zoo.', 'Twilight at a city intersection with lit street signs.', 'A woman smiling as she walks toward bunches of bananas. ', 'A graffiti-ridden building in an urban setting, a fire hydrant at curbside.', 'Adult man displaying abilities using flying yellow disc.', 'many people in a room and using the laptops', 'a young girl stands with her arms wrapped around a large blue umbrella', 'A man standing near a table with video equipment. ', 'A group of guys are sitting at a table eating and laughing.', 'A red pick up truck with a plow blade drives down a snowy suburban road. ', 'A beautiful bathroom and a guy is in bathroom.', 'A man who is lifting up a piece of luggage.', 'A sandwich, french fries, bowl of ketchup, onion slice, lettuce slice, tomato slice, and knife sit on the white plate.', 'Bed covered in mosquito netting in a bedroom with windows on three walls.', 'A cat standing on the hood of a car.', 'A white plate with a pile of food on it.', 'Three people with cups on the couch and one with remote standing', 'A catcher squatting at a base with his gloved hand extended.', 'The bathroom is painted a light blue and has pink ceramic tile that adorns the shower wall along with a maple color vanity and door.', 'A hotel room scene with focus on the bed and the window.', 'A girl puts a flower on the lapel of a boys coat. ', 'A stop sign behind a green chain link fence.', 'Two parked bikes on a sidewalk with a person riding a motor bike.', 'View of a street corner with people waiting at the corner.', 'A metal statue of two women sits on a bench in a city street.', 'A variety of signs point in different directions.', 'A girl making a \"peace sign\" with her hand and a woman holding a big black suitcase.', 'Three zebras stand side by side looking at the camera.', 'A camera with a computer is set up on a tripod', 'A sheep in a cage looking at sheep fur. ', 'Two women play tennis on a blue court.', 'THERE IS A MAN WALKING IN THE AIRPORT', 'A close-up of a table with three boxes of pizza.', 'A little-league baseball game with a kid up to bat.', 'A banana replacing the phone on an answering machine', 'Someone is holding a large teddy bear in the crowd.', 'a little boy touching the nose of a brown horse', 'A banana that is sitting on a plate.', 'A man sitting on the ground, fixing a motorcycle wheel.', 'The skate boarder is doing a jumping trick.', 'A group of people holding frisbees on a field. ', 'The humongous twin engine airliner is being loaded. ', 'A boy riding his skateboard on a ledge in a park.', 'a yellow and white plate with a piece of chocolate cake', 'Adults working on projects and computers in office environment.', 'Four people standing in a room playing a video game. ', 'A man stands ankle-deep in the ocean at sunset.', 'A brightly decorated living room with a stylish feel.', 'a cat sitting on top of a blue refrigerator ', 'a living room filled with some balloons and a bookshelf ', 'A person is sitting in a chair at a table with a laptop computer.', 'The white bridge stretches out over the horizon as the transport train travels below it.', 'A boy playing with a kite in the park.', 'A high speed train in movement, with workers.', 'White and orange fur lays on a white blanket.', 'A cow is being milked by a machine.', 'A tasty looking sandwich that is cut in half to eat.', 'A served tray filled with smaller plates of food', 'A stoplight that has turned red on a road lined with trees that are in bloom.', 'Cooked broccoli sitting on a plate with salmon.', 'A man, woman, and boy are sitting at a table.', 'The passenger buses are travelling down the road.', 'an image of a stop sign and yield sign', 'A cat playing with an old computer mouse.', 'A city road with buses and bus park', 'a male shirtless skateboarder is doing a trick', 'Several para-gliders can be seen in the blue sky. ', 'A red and black fire hydrant is positioned in front of a dwelling.', 'A bird flies away from three others that are sitting.', 'A woman is in a barn with a brown horse.', 'Some Zebras and cattle are standing together, some eating. ', 'A horse pulling a wagon with a conductor down the road. ', 'Several older men sit and relax on shady benches.', 'A lap top computer is open and on and is sitting on a desk next to a glass of liquid and a lamp.', 'two surf boars on a beach near the water ', 'Goat standing on top of rock pile with grass growing on it', 'a girl with her cell phone tie and blue hair', 'a living room with a fireplace and a table and chair.', 'A dog jumping to catch a red frisbee in a garden', \"A giraffe's head looking at the camera and making a face.\", 'The back end view of two zebras standing at a fence.', 'A few horses stand on the street next to a silver car.', \"A wooden teacher's desk with books stacked on it and a blackboard in the background.\", 'A bus with a flat tire sitting in traffic on a street.', 'a tv in a bathroom mirror next to sinks', 'A man sitting on a bench with a church behind him.', 'A green car has parked on the curb in a parking lot', 'A banana frittata next to a plate of decoratively cut fruit and a cup of coffee.', 'A person at a table in a room with some food.', 'A man standing next to a traffic light in Australia ', 'Some large streamers, some look like a clown fish.', 'A young man and a small boy are talking about a piece of pizza. ', 'a person eating an apple with a plate of food', 'a family sitting around a long table filled with a lot of food ', 'A boy baseball player running to steal a base while another boy stops him.', 'A man doing a trick on roller-skates in a skate park.', 'Plates that have a burger, french fries, and condiments on them.', 'a motorcycle parked on the road in a desert', 'A man is wearing a black suit and a printed tie', 'A cat that is laying with its head upon a sneaker. ', 'some people sitting on top of a green truck as another man tries to get in it ', 'A bird standing on rocks in a river.', 'Numerous motor scooters parked by backing in facing the street', 'A person holding a piece of broccoli with an insect on it. ', 'A woman eating a piece of pizza standing next to a man.', 'A tennis player with a racket hitting the ball', 'A glass with a lady bunched up holding her legs and head tilted with a with candle on the side and lights in the background.', 'Two people with Wii remote controllers near a sofa.', 'a lady that is smoking something and has a large hat', 'Two zebras at the zoo eating some grass.', 'A rusty and old looking fire hydrant sits on the concrete in front of a mural.', 'Two bears, one running on some rocky soil.'])"
      ]
     },
     "execution_count": 21,
     "metadata": {},
     "output_type": "execute_result"
    }
   ],
   "source": [
    "best_result.keys()"
   ]
  },
  {
   "cell_type": "code",
   "execution_count": 28,
   "metadata": {},
   "outputs": [
    {
     "data": {
      "text/plain": [
       "torch.Size([3, 58, 77])"
      ]
     },
     "execution_count": 28,
     "metadata": {},
     "output_type": "execute_result"
    }
   ],
   "source": [
    "best_result['A man riding a wave on top of a surfboard.']['cropped'][0].shape"
   ]
  },
  {
   "cell_type": "code",
   "execution_count": 29,
   "metadata": {},
   "outputs": [
    {
     "data": {
      "text/plain": [
       "<matplotlib.image.AxesImage at 0x22eef86fa00>"
      ]
     },
     "execution_count": 29,
     "metadata": {},
     "output_type": "execute_result"
    },
    {
     "data": {
      "image/png": "[encoded data removed]",
      "text/plain": [
       "<Figure size 640x480 with 1 Axes>"
      ]
     },
     "metadata": {},
     "output_type": "display_data"
    }
   ],
   "source": [
    "import matplotlib.pyplot as plt\n",
    "plt.imshow(best_result['A man riding a wave on top of a surfboard.']['output'][0].transpose(2,1,0))"
   ]
  },
  {
   "cell_type": "code",
   "execution_count": 29,
   "metadata": {},
   "outputs": [
    {
     "ename": "FileNotFoundError",
     "evalue": "[WinError 3] 지정된 경로를 찾을 수 없습니다: 'resultsX8x2withDetection\\\\Three stuffed animals are sitting on a bed. \\\\three stuffed animals'",
     "output_type": "error",
     "traceback": [
      "\u001b[1;31m---------------------------------------------------------------------------\u001b[0m",
      "\u001b[1;31mFileNotFoundError\u001b[0m                         Traceback (most recent call last)",
      "Cell \u001b[1;32mIn[29], line 1\u001b[0m\n\u001b[1;32m----> 1\u001b[0m \u001b[43msave_imgs\u001b[49m\u001b[43m(\u001b[49m\u001b[43mbest_result\u001b[49m\u001b[43m,\u001b[49m\u001b[43m \u001b[49m\u001b[38;5;124;43mf\u001b[39;49m\u001b[38;5;124;43m'\u001b[39;49m\u001b[38;5;124;43mresultsX\u001b[39;49m\u001b[38;5;132;43;01m{\u001b[39;49;00m\u001b[43mdown_scale\u001b[49m\u001b[38;5;132;43;01m}\u001b[39;49;00m\u001b[38;5;124;43mx2withDetection\u001b[39;49m\u001b[38;5;124;43m'\u001b[39;49m\u001b[43m)\u001b[49m\n",
      "Cell \u001b[1;32mIn[27], line 36\u001b[0m, in \u001b[0;36msave_imgs\u001b[1;34m(results, root)\u001b[0m\n\u001b[0;32m     34\u001b[0m \u001b[38;5;28;01mif\u001b[39;00m \u001b[38;5;129;01mnot\u001b[39;00m os\u001b[38;5;241m.\u001b[39mpath\u001b[38;5;241m.\u001b[39misdir(os\u001b[38;5;241m.\u001b[39mpath\u001b[38;5;241m.\u001b[39mjoin(save_path, \u001b[38;5;124mf\u001b[39m\u001b[38;5;124m'\u001b[39m\u001b[38;5;132;01m{\u001b[39;00mresults[k][\u001b[38;5;124m\"\u001b[39m\u001b[38;5;124mphrases\u001b[39m\u001b[38;5;124m\"\u001b[39m][\u001b[38;5;241m0\u001b[39m][i]\u001b[38;5;132;01m}\u001b[39;00m\u001b[38;5;124m'\u001b[39m)):\n\u001b[0;32m     35\u001b[0m     zz \u001b[38;5;241m=\u001b[39m \u001b[38;5;241m1\u001b[39m\n\u001b[1;32m---> 36\u001b[0m     \u001b[43mos\u001b[49m\u001b[38;5;241;43m.\u001b[39;49m\u001b[43mmkdir\u001b[49m\u001b[43m(\u001b[49m\u001b[43mos\u001b[49m\u001b[38;5;241;43m.\u001b[39;49m\u001b[43mpath\u001b[49m\u001b[38;5;241;43m.\u001b[39;49m\u001b[43mjoin\u001b[49m\u001b[43m(\u001b[49m\u001b[43msave_path\u001b[49m\u001b[43m,\u001b[49m\u001b[43m \u001b[49m\u001b[38;5;124;43mf\u001b[39;49m\u001b[38;5;124;43m'\u001b[39;49m\u001b[38;5;132;43;01m{\u001b[39;49;00m\u001b[43mresults\u001b[49m\u001b[43m[\u001b[49m\u001b[43mk\u001b[49m\u001b[43m]\u001b[49m\u001b[43m[\u001b[49m\u001b[38;5;124;43m\"\u001b[39;49m\u001b[38;5;124;43mphrases\u001b[39;49m\u001b[38;5;124;43m\"\u001b[39;49m\u001b[43m]\u001b[49m\u001b[43m[\u001b[49m\u001b[38;5;241;43m0\u001b[39;49m\u001b[43m]\u001b[49m\u001b[43m[\u001b[49m\u001b[43mi\u001b[49m\u001b[43m]\u001b[49m\u001b[38;5;132;43;01m}\u001b[39;49;00m\u001b[38;5;124;43m'\u001b[39;49m\u001b[43m)\u001b[49m\u001b[43m)\u001b[49m\n\u001b[0;32m     37\u001b[0m save_path \u001b[38;5;241m=\u001b[39m os\u001b[38;5;241m.\u001b[39mpath\u001b[38;5;241m.\u001b[39mjoin(save_path, \u001b[38;5;124mf\u001b[39m\u001b[38;5;124m'\u001b[39m\u001b[38;5;132;01m{\u001b[39;00mresults[k][\u001b[38;5;124m\"\u001b[39m\u001b[38;5;124mphrases\u001b[39m\u001b[38;5;124m\"\u001b[39m][\u001b[38;5;241m0\u001b[39m][i]\u001b[38;5;132;01m}\u001b[39;00m\u001b[38;5;124m'\u001b[39m)\n\u001b[0;32m     38\u001b[0m \u001b[38;5;28;01mif\u001b[39;00m os\u001b[38;5;241m.\u001b[39mpath\u001b[38;5;241m.\u001b[39misdir(save_path):\n",
      "\u001b[1;31mFileNotFoundError\u001b[0m: [WinError 3] 지정된 경로를 찾을 수 없습니다: 'resultsX8x2withDetection\\\\Three stuffed animals are sitting on a bed. \\\\three stuffed animals'"
     ]
    }
   ],
   "source": [
    "save_imgs(best_result, f'resultsX{down_scale}x2withDetection_1e-6')"
   ]
  },
  {
   "cell_type": "code",
   "execution_count": 23,
   "metadata": {},
   "outputs": [
    {
     "data": {
      "text/plain": [
       "'three stuffed animals'"
      ]
     },
     "execution_count": 23,
     "metadata": {},
     "output_type": "execute_result"
    }
   ],
   "source": [
    "os.mkdir('./resultsX8x2withDetection\\\\Three stuffed animals are sitting on a bed.\\\\three stuffed animals')"
   ]
  },
  {
   "cell_type": "code",
   "execution_count": 31,
   "metadata": {},
   "outputs": [
    {
     "data": {
      "text/plain": [
       "8"
      ]
     },
     "execution_count": 31,
     "metadata": {},
     "output_type": "execute_result"
    }
   ],
   "source": [
    "down_scale"
   ]
  },
  {
   "cell_type": "code",
   "execution_count": 30,
   "metadata": {},
   "outputs": [],
   "source": [
    "with open(file=f'resultsX{down_scale}x2withDetection_1e-6.pkl', mode='rb') as f:\n",
    "    dicdic=pickle.load(f)"
   ]
  },
  {
   "cell_type": "code",
   "execution_count": null,
   "metadata": {},
   "outputs": [],
   "source": [
    "dicdic"
   ]
  },
  {
   "cell_type": "code",
   "execution_count": null,
   "metadata": {},
   "outputs": [],
   "source": [
    "best_result['Three stuffed animals are sitting on a bed. '][\"phrases\"][0][0]"
   ]
  },
  {
   "cell_type": "code",
   "execution_count": null,
   "metadata": {},
   "outputs": [],
   "source": [
    "best_result['']"
   ]
  },
  {
   "cell_type": "code",
   "execution_count": 23,
   "metadata": {},
   "outputs": [],
   "source": [
    "import pickle\n",
    "\n",
    "with open(f'resultsX{down_scale}real_last.pkl','wb') as fw:\n",
    "    pickle.dump(best_result, fw)"
   ]
  },
  {
   "cell_type": "code",
   "execution_count": 16,
   "metadata": {},
   "outputs": [],
   "source": [
    "path = './result_model/X8_real_inverse_+_L1_&_L2_not_softmax.pt'\n",
    "torch.save(best_model, path)"
   ]
  },
  {
   "cell_type": "code",
   "execution_count": null,
   "metadata": {},
   "outputs": [],
   "source": [
    "from skimage.metrics import peak_signal_noise_ratio, structural_similarity\n",
    "\n",
    "print(\"PSNR :\", peak_signal_noise_ratio(Test_result_img['output'][0], Test_result_img['big_image'][0]))\n",
    "print(\"SSIM :\", structural_similarity((Test_result_img['output'][0]*255).astype(np.uint8), (Test_result_img['big_image'][0]*255).astype(np.uint8), channel_axis=2,multichannel=True))"
   ]
  },
  {
   "cell_type": "code",
   "execution_count": 15,
   "metadata": {},
   "outputs": [
    {
     "data": {
      "text/plain": [
       "torch.Size([64])"
      ]
     },
     "execution_count": 15,
     "metadata": {},
     "output_type": "execute_result"
    }
   ],
   "source": [
    "nn.Parameter(torch.randn((64))).shape"
   ]
  },
  {
   "cell_type": "code",
   "execution_count": 16,
   "metadata": {},
   "outputs": [
    {
     "data": {
      "text/plain": [
       "torch.Size([64])"
      ]
     },
     "execution_count": 16,
     "metadata": {},
     "output_type": "execute_result"
    }
   ],
   "source": [
    "nn.Parameter(torch.ones((64))).shape"
   ]
  },
  {
   "cell_type": "code",
   "execution_count": 59,
   "metadata": {},
   "outputs": [
    {
     "name": "stdout",
     "output_type": "stream",
     "text": [
      "torch.Size([1, 64, 64])\n",
      "torch.Size([])\n"
     ]
    },
    {
     "name": "stderr",
     "output_type": "stream",
     "text": [
      "C:\\Users\\juniy\\AppData\\Local\\Temp\\ipykernel_14140\\2370105043.py:7: UserWarning: Implicit dimension choice for softmax has been deprecated. Change the call to include dim=X as an argument.\n",
      "  print(sf(b).max(dim=1)[0].shape)\n"
     ]
    }
   ],
   "source": [
    "import torch.nn as nn\n",
    "import torch\n",
    "sf = nn.Softmax()\n",
    "\n",
    "a = nn.Parameter(torch.randn((1,1,64,64)))\n",
    "b = nn.Parameter(torch.randn(1,128,64,64))\n",
    "print(sf(b).max(dim=1)[0].shape)\n",
    "print((a.flatten()@b.mean(dim=1).flatten()).shape)\n"
   ]
  },
  {
   "cell_type": "code",
   "execution_count": 37,
   "metadata": {},
   "outputs": [
    {
     "data": {
      "text/plain": [
       "torch.Size([1, 64, 64])"
      ]
     },
     "execution_count": 37,
     "metadata": {},
     "output_type": "execute_result"
    }
   ],
   "source": [
    "b.mean(dim=1).shape"
   ]
  },
  {
   "cell_type": "code",
   "execution_count": 53,
   "metadata": {},
   "outputs": [
    {
     "ename": "RuntimeError",
     "evalue": "1D tensors expected, but got 2D and 2D tensors",
     "output_type": "error",
     "traceback": [
      "\u001b[1;31m---------------------------------------------------------------------------\u001b[0m",
      "\u001b[1;31mRuntimeError\u001b[0m                              Traceback (most recent call last)",
      "Cell \u001b[1;32mIn[53], line 1\u001b[0m\n\u001b[1;32m----> 1\u001b[0m \u001b[43mtorch\u001b[49m\u001b[38;5;241;43m.\u001b[39;49m\u001b[43mdot\u001b[49m\u001b[43m(\u001b[49m\u001b[43ma\u001b[49m\u001b[38;5;241;43m.\u001b[39;49m\u001b[43mview\u001b[49m\u001b[43m(\u001b[49m\u001b[38;5;241;43m-\u001b[39;49m\u001b[38;5;241;43m1\u001b[39;49m\u001b[43m,\u001b[49m\u001b[38;5;241;43m64\u001b[39;49m\u001b[43m)\u001b[49m\u001b[43m,\u001b[49m\u001b[43m \u001b[49m\u001b[43mb\u001b[49m\u001b[38;5;241;43m.\u001b[39;49m\u001b[43mmean\u001b[49m\u001b[43m(\u001b[49m\u001b[43mdim\u001b[49m\u001b[38;5;241;43m=\u001b[39;49m\u001b[38;5;241;43m1\u001b[39;49m\u001b[43m)\u001b[49m\u001b[38;5;241;43m.\u001b[39;49m\u001b[43mview\u001b[49m\u001b[43m(\u001b[49m\u001b[38;5;241;43m-\u001b[39;49m\u001b[38;5;241;43m1\u001b[39;49m\u001b[43m,\u001b[49m\u001b[38;5;241;43m64\u001b[39;49m\u001b[43m)\u001b[49m\u001b[43m)\u001b[49m\n",
      "\u001b[1;31mRuntimeError\u001b[0m: 1D tensors expected, but got 2D and 2D tensors"
     ]
    }
   ],
   "source": [
    "torch.dot(a.view(-1,64), b.mean(dim=1).view(-1,64))"
   ]
  },
  {
   "cell_type": "code",
   "execution_count": 70,
   "metadata": {},
   "outputs": [
    {
     "data": {
      "text/plain": [
       "torch.Size([1, 1, 64, 64])"
      ]
     },
     "execution_count": 70,
     "metadata": {},
     "output_type": "execute_result"
    }
   ],
   "source": [
    "sf = nn.Softmax(dim=-1)\n",
    "sf(a@b.mean(dim=1).transpose(-2,-1)).shape"
   ]
  },
  {
   "cell_type": "code",
   "execution_count": null,
   "metadata": {},
   "outputs": [],
   "source": []
  }
 ],
 "metadata": {
  "kernelspec": {
   "display_name": "team6",
   "language": "python",
   "name": "python3"
  },
  "language_info": {
   "codemirror_mode": {
    "name": "ipython",
    "version": 3
   },
   "file_extension": ".py",
   "mimetype": "text/x-python",
   "name": "python",
   "nbconvert_exporter": "python",
   "pygments_lexer": "ipython3",
   "version": "3.8.16"
  }
 },
 "nbformat": 4,
 "nbformat_minor": 2
}
